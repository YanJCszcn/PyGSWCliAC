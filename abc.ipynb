{
 "cells": [
  {
   "cell_type": "markdown",
   "metadata": {
    "tags": []
   },
   "source": [
    "## Convert f2x_swapi.h (f2x_swapi_flow.h) to xxxx_c.h\n",
    "- remove all /\\* ... \\*/ \n",
    "### To do manually in xxxx_c.h\n",
    "- remove some defines\n",
    "- remove #if 0\n",
    "- Replace macros with real numbers\n",
    "### Save new file as xxxx_d.h\n"
   ]
  },
  {
   "cell_type": "code",
   "execution_count": 2,
   "metadata": {
    "tags": []
   },
   "outputs": [],
   "source": [
    "def process_org_file(fn):\n",
    "    f = open(fn, \"r\")\n",
    "    lines = f.readlines()\n",
    "\n",
    "    clines = list()\n",
    "    rmask = 0\n",
    "    for line in lines:\n",
    "        a = line.split()\n",
    "        if (len(a)>0) and (len(a[0])>1) and (a[0][0:2] == \"/*\"):\n",
    "            rmask = 1\n",
    "        if rmask == 1:\n",
    "            if \"*/\" in line:\n",
    "                rmask = 0\n",
    "            continue\n",
    "        clines.append(line)\n",
    "\n",
    "    fw = open(fn[:-2]+\"_c\"+fn[-2:],\"w\")\n",
    "    for line in clines:\n",
    "        fw.write(line)\n",
    "\n",
    "process_org_file(\"f2x_swapi.h\")\n",
    "process_org_file(\"f2x_swapi_flow.h\")"
   ]
  },
  {
   "cell_type": "markdown",
   "metadata": {},
   "source": [
    "## Process f2x_swapi_d.h and f2x_swapi_flow_d.h\n",
    "### From typedef to generate dictionary of types / variables / structures / enums\n",
    "- the \"{\" of typedef must be a line wihout anything else. \n",
    "- the \"}\" of typedef must be seperated from the type name.\n",
    "\n",
    "\n",
    "\n",
    "\n"
   ]
  },
  {
   "cell_type": "code",
   "execution_count": 2,
   "metadata": {
    "tags": []
   },
   "outputs": [],
   "source": [
    "def process_d_file(fn, struct, enum, enum_var_ref):\n",
    "    f = open(fn,\"r\")\n",
    "    lines = f.readlines()\n",
    "\n",
    "    ty = [\"u64\", \"u32\", \"u16\", \"u8\", \"i32\", \"i16\", \"i8\", \"ur\", \"ltq_bool_t\", \"int\", \"char\"]\n",
    "    s = 0\n",
    "    e = 0\n",
    "    i = 0\n",
    "    for line in lines:\n",
    "        i = i + 1\n",
    "        a = line.split()\n",
    "        if ((s == 0) and (e == 0)) and len(a) == 1:\n",
    "            print (\"Something Wrong 1 at line: \", line, i)\n",
    "        if (len(a)>1) and (a[0] == \"typedef\"):\n",
    "            if (a[1] == \"struct\"):\n",
    "                s = 1\n",
    "                l = list()\n",
    "                ref = list()\n",
    "            if (a[1] == \"enum\"):\n",
    "                e = 1\n",
    "                l = dict()\n",
    "            continue\n",
    "        if (s == 1) or (e == 1):\n",
    "            if (len(a) == 0):\n",
    "                continue\n",
    "            if (a[0] == \"{\"):\n",
    "                continue\n",
    "            if (a[0] in ty) or (a[0][-2:] == \"_t\"): \n",
    "                l.append([a[0], a[1].replace(\";\", \"\")]) \n",
    "                if a[0][-2:] == \"_t\" and (a[0] not in ty):\n",
    "                    ref.append([a[0], a[1].replace(\";\", \"\")]) \n",
    "            elif (a[0] != \"}\" and e == 1 and a[1] == \"=\"):\n",
    "                l[a[2].replace(\",\", \"\")] = a[0]\n",
    "            elif (a[0] == \"}\"):\n",
    "                if s == 1:\n",
    "                    struct[a[1][:-1]] = l\n",
    "                    for r in ref:\n",
    "                        enum_var_ref[a[1].replace(\";\", \"\") + r[1]] = r[0]\n",
    "                    s = 0\n",
    "                if e == 1:\n",
    "                    enum[a[1][:-1]] = l\n",
    "                    e = 0\n",
    "            else:\n",
    "                print (\"Something Wrong 2 at line: \", line, i)\n"
   ]
  },
  {
   "cell_type": "code",
   "execution_count": 3,
   "metadata": {
    "tags": []
   },
   "outputs": [],
   "source": [
    "struct = dict()\n",
    "enum = dict()\n",
    "enum_var_ref = dict()\n",
    "\n",
    "process_d_file(\"f2x_swapi_flow_d.h\", struct, enum, enum_var_ref)\n",
    "process_d_file(\"f2x_swapi_d.h\", struct, enum, enum_var_ref)\n",
    "\n"
   ]
  },
  {
   "cell_type": "code",
   "execution_count": 4,
   "metadata": {
    "tags": []
   },
   "outputs": [
    {
     "output_type": "stream",
     "name": "stdout",
     "text": "66\n"
    },
    {
     "output_type": "execute_result",
     "data": {
      "text/plain": "{'GSW_irq_teIrqSrc': 'GSW_irqSrc_t',\n 'GSW_PCE_pattern_teDstIP_Select': 'GSW_PCE_IP_t',\n 'GSW_PCE_pattern_tnDstIP': 'GSW_IP_t',\n 'GSW_PCE_pattern_teSrcIP_Select': 'GSW_PCE_IP_t',\n 'GSW_PCE_pattern_tnSrcIP': 'GSW_IP_t',\n 'GSW_PCE_action_teTrafficClassAction': 'GSW_PCE_ActionTrafficClass_t',\n 'GSW_PCE_action_teSnoopingTypeAction': 'GSW_PCE_ActionIGMP_Snoop_t',\n 'GSW_PCE_action_teLearningAction': 'GSW_PCE_ActionLearning_t',\n 'GSW_PCE_action_teIrqAction': 'GSW_PCE_ActionIrq_t',\n 'GSW_PCE_action_teCrossStateAction': 'GSW_PCE_ActionCrossState_t',\n 'GSW_PCE_action_teCritFrameAction': 'GSW_PCE_ActionCriticalFrame_t',\n 'GSW_PCE_action_teTimestampAction': 'GSW_PCE_ActionTimestamp_t',\n 'GSW_PCE_action_tePortMapAction': 'GSW_PCE_ActionPortmap_t',\n 'GSW_PCE_action_teMeterAction': 'GSW_PCE_ActionMeter_t',\n 'GSW_PCE_action_teVLAN_Action': 'GSW_PCE_ActionVLAN_t',\n 'GSW_PCE_action_teSVLAN_Action': 'GSW_PCE_ActionVLAN_t',\n 'GSW_PCE_action_teVLAN_CrossAction': 'GSW_PCE_ActionCrossVLAN_t',\n 'GSW_PCE_rule_tpattern': 'GSW_PCE_pattern_t',\n 'GSW_PCE_rule_taction': 'GSW_PCE_action_t',\n 'GSW_reset_teReset': 'GSW_resetMode_t',\n 'GSW_STP_portCfg_tePortState': 'GSW_STP_PortState_t',\n 'GSW_STP_BPDU_Rule_teForwardPort': 'GSW_portForward_t',\n 'GSW_8021X_EAPOL_Rule_teForwardPort': 'GSW_portForward_t',\n 'GSW_8021X_portCfg_teState': 'GSW_8021X_portState_t',\n 'GSW_VLAN_portCfg_teVLAN_MemberViolation': 'GSW_VLAN_MemberViolation_t',\n 'GSW_VLAN_portCfg_teAdmitMode': 'GSW_VLAN_Admit_t',\n 'GSW_SVLAN_portCfg_teVLAN_MemberViolation': 'GSW_VLAN_MemberViolation_t',\n 'GSW_SVLAN_portCfg_teAdmitMode': 'GSW_VLAN_Admit_t',\n 'GSW_QoS_portRemarkingCfg_teDSCP_IngressRemarkingEnable': 'GSW_Qos_ingressRemarking_t',\n 'GSW_QoS_DSCP_DropPrecedenceCfg_tnDSCP_DropPrecedence[64]': 'GSW_QoS_DropPrecedence_t',\n 'GSW_QoS_portCfg_teClassMode': 'GSW_QoS_ClassSelect_t',\n 'GSW_QoS_WRED_Cfg_teProfile': 'GSW_QoS_WRED_Profile_t',\n 'GSW_QoS_WRED_Cfg_teThreshMode': 'GSW_QoS_WRED_ThreshMode_t',\n 'GSW_QoS_meterPort_teDir': 'GSW_direction_t',\n 'GSW_QoS_meterPortGet_teDir': 'GSW_direction_t',\n 'GSW_QoS_schedulerCfg_teType': 'GSW_QoS_Scheduler_t',\n 'GSW_multicastSnoopCfg_teIGMP_Mode': 'GSW_multicastSnoopMode_t',\n 'GSW_multicastSnoopCfg_teForwardPort': 'GSW_portForward_t',\n 'GSW_multicastSnoopCfg_teSuppressionAggregation': 'GSW_multicastReportSuppression_t',\n 'GSW_multicastTable_teIPVersion': 'GSW_IP_Select_t',\n 'GSW_multicastTable_tuIP_Gda': 'GSW_IP_t',\n 'GSW_multicastTable_tuIP_Gsa': 'GSW_IP_t',\n 'GSW_multicastTable_teModeMember': 'GSW_IGMP_MemberMode_t',\n 'GSW_multicastTableRead_teIPVersion': 'GSW_IP_Select_t',\n 'GSW_multicastTableRead_tuIP_Gda': 'GSW_IP_t',\n 'GSW_multicastTableRead_tuIP_Gsa': 'GSW_IP_t',\n 'GSW_multicastTableRead_teModeMember': 'GSW_IGMP_MemberMode_t',\n 'GSW_HW_Init_teInitMode': 'GSW_HW_InitMode_t',\n 'GSW_cap_tnCapType': 'GSW_capType_t',\n 'GSW_cfg_teMAC_TableAgeTimer': 'GSW_ageTimer_t',\n 'GSW_portCfg_teEnable': 'GSW_portEnable_t',\n 'GSW_portCfg_teFlowCtrl': 'GSW_portFlow_t',\n 'GSW_portCfg_tePortMonitor': 'GSW_portMonitor_t',\n 'GSW_CPU_PortCfg_tbSpecialTagEthType': 'GSW_CPU_SpecialTagEthType_t',\n 'GSW_CPU_PortExtendCfg_teHeaderAdd': 'GSW_CPU_HeaderMode_t',\n 'GSW_CPU_PortExtendCfg_tsHeader': 'GSW_CPU_Header_t',\n 'GSW_CPU_PortExtendCfg_tePauseCtrl': 'GSW_CPU_Pause_t',\n 'GSW_portLinkCfg_teDuplex': 'GSW_portDuplex_t',\n 'GSW_portLinkCfg_teSpeed': 'GSW_portSpeed_t',\n 'GSW_portLinkCfg_teLink': 'GSW_portLink_t',\n 'GSW_portLinkCfg_teMII_Mode': 'GSW_MII_Mode_t',\n 'GSW_portLinkCfg_teMII_Type': 'GSW_MII_Type_t',\n 'GSW_portLinkCfg_teClkMode': 'GSW_clkMode_t',\n 'GSW_RMON_clear_teRmonType': 'GSW_RMON_type_t',\n 'GSW_RMON_mode_teRmonType': 'GSW_RMON_type_t',\n 'GSW_RMON_mode_teCountMode': 'GSW_RMON_CountMode_t'}"
     },
     "metadata": {},
     "execution_count": 4
    }
   ],
   "source": [
    "print (len(enum_var_ref))\n",
    "enum_var_ref"
   ]
  },
  {
   "cell_type": "code",
   "execution_count": 5,
   "metadata": {
    "tags": []
   },
   "outputs": [
    {
     "output_type": "stream",
     "name": "stdout",
     "text": "47\n"
    },
    {
     "output_type": "execute_result",
     "data": {
      "text/plain": "{'GSW_irqSrc_t': {'0': 'GSW_IRQ_WOL',\n  '1': 'GSW_IRQ_LIMIT_ALERT',\n  '2': 'GSW_IRQ_LOCK_ALERT'},\n 'GSW_PCE_IP_t': {'0': 'GSW_PCE_IP_DISABLED',\n  '1': 'GSW_PCE_IP_V4',\n  '2': 'GSW_PCE_IP_V6'},\n 'GSW_PCE_ActionIGMP_Snoop_t': {'0': 'GSW_PCE_ACTION_IGMP_SNOOP_DISABLE',\n  '1': 'GSW_PCE_ACTION_IGMP_SNOOP_REGULAR',\n  '2': 'GSW_PCE_ACTION_IGMP_SNOOP_REPORT',\n  '3': 'GSW_PCE_ACTION_IGMP_SNOOP_LEAVE',\n  '4': 'GSW_PCE_ACTION_IGMP_SNOOP_AD',\n  '5': 'GSW_PCE_ACTION_IGMP_SNOOP_QUERY',\n  '6': 'GSW_PCE_ACTION_IGMP_SNOOP_QUERY_GROUP',\n  '7': 'GSW_PCE_ACTION_IGMP_SNOOP_QUERY_NO_ROUTER'},\n 'GSW_PCE_ActionLearning_t': {'0': 'GSW_PCE_ACTION_LEARNING_DISABLE',\n  '1': 'GSW_PCE_ACTION_LEARNING_REGULAR',\n  '2': 'GSW_PCE_ACTION_LEARNING_FORCE_NOT',\n  '3': 'GSW_PCE_ACTION_LEARNING_FORCE'},\n 'GSW_PCE_ActionMeter_t': {'0': 'GSW_PCE_ACTION_METER_DISABLE',\n  '1': 'GSW_PCE_ACTION_METER_REGULAR',\n  '2': 'GSW_PCE_ACTION_METER_1',\n  '3': 'GSW_PCE_ACTION_METER_1_2'},\n 'GSW_PCE_ActionTrafficClass_t': {'0': 'GSW_PCE_ACTION_TRAFFIC_CLASS_DISABLE',\n  '1': 'GSW_PCE_ACTION_TRAFFIC_CLASS_REGULAR',\n  '2': 'GSW_PCE_ACTION_TRAFFIC_CLASS_ALTERNATIVE'},\n 'GSW_PCE_ActionIrq_t': {'0': 'GSW_PCE_ACTION_IRQ_DISABLE',\n  '1': 'GSW_PCE_ACTION_IRQ_REGULAR',\n  '2': 'GSW_PCE_ACTION_IRQ_EVENT'},\n 'GSW_PCE_ActionCrossState_t': {'0': 'GSW_PCE_ACTION_CROSS_STATE_DISABLE',\n  '1': 'GSW_PCE_ACTION_CROSS_STATE_REGULAR',\n  '2': 'GSW_PCE_ACTION_CROSS_STATE_CROSS'},\n 'GSW_PCE_ActionCriticalFrame_t': {'0': 'GSW_PCE_ACTION_CRITICAL_FRAME_DISABLE',\n  '1': 'GSW_PCE_ACTION_CRITICAL_FRAME_REGULAR',\n  '2': 'GSW_PCE_ACTION_CRITICAL_FRAME_CRITICAL'},\n 'GSW_PCE_ActionTimestamp_t': {'0': 'GSW_PCE_ACTION_TIMESTAMP_DISABLE',\n  '1': 'GSW_PCE_ACTION_TIMESTAMP_REGULAR',\n  '2': 'GSW_PCE_ACTION_TIMESTAMP_STORED'},\n 'GSW_PCE_ActionPortmap_t': {'0': 'GSW_PCE_ACTION_PORTMAP_DISABLE',\n  '1': 'GSW_PCE_ACTION_PORTMAP_REGULAR',\n  '2': 'GSW_PCE_ACTION_PORTMAP_DISCARD',\n  '3': 'GSW_PCE_ACTION_PORTMAP_CPU',\n  '4': 'GSW_PCE_ACTION_PORTMAP_ALTERNATIVE',\n  '5': 'GSW_PCE_ACTION_PORTMAP_MULTICAST_ROUTER',\n  '6': 'GSW_PCE_ACTION_PORTMAP_MULTICAST_HW_TABLE',\n  '7': 'GSW_PCE_ACTION_PORTMAP_ALTERNATIVE_VLAN',\n  '8': 'GSW_PCE_ACTION_PORTMAP_ALTERNATIVE_STAG_VLAN'},\n 'GSW_PCE_ActionVLAN_t': {'0': 'GSW_PCE_ACTION_VLAN_DISABLE',\n  '1': 'GSW_PCE_ACTION_VLAN_REGULAR',\n  '2': 'GSW_PCE_ACTION_VLAN_ALTERNATIVE'},\n 'GSW_PCE_ActionCrossVLAN_t': {'0': 'GSW_PCE_ACTION_CROSS_VLAN_DISABLE',\n  '1': 'GSW_PCE_ACTION_CROSS_VLAN_REGULAR',\n  '2': 'GSW_PCE_ACTION_CROSS_VLAN_CROSS'},\n 'GSW_resetMode_t': {'0': 'GSW_RESET_SWITCH', '1': 'GSW_RESET_MDIO'},\n 'GSW_portForward_t': {'0': 'GSW_PORT_FORWARD_DEFAULT',\n  '1': 'GSW_PORT_FORWARD_DISCARD',\n  '2': 'GSW_PORT_FORWARD_CPU',\n  '3': 'GSW_PORT_FORWARD_PORT'},\n 'GSW_STP_PortState_t': {'0': 'GSW_STP_PORT_STATE_FORWARD',\n  '1': 'GSW_STP_PORT_STATE_DISABLE',\n  '2': 'GSW_STP_PORT_STATE_LEARNING',\n  '3': 'GSW_STP_PORT_STATE_BLOCKING'},\n 'GSW_8021X_portState_t': {'0': 'GSW_8021X_PORT_STATE_AUTHORIZED',\n  '1': 'GSW_8021X_PORT_STATE_UNAUTHORIZED',\n  '2': 'GSW_8021X_PORT_STATE_RX_AUTHORIZED',\n  '3': 'GSW_8021X_PORT_STATE_TX_AUTHORIZED'},\n 'GSW_VLAN_Admit_t': {'0': 'GSW_VLAN_ADMIT_ALL',\n  '1': 'GSW_VLAN_ADMIT_UNTAGGED',\n  '2': 'GSW_VLAN_ADMIT_TAGGED'},\n 'GSW_VLAN_MemberViolation_t': {'0': 'GSW_VLAN_MEMBER_VIOLATION_NO',\n  '1': 'GSW_VLAN_MEMBER_VIOLATION_INGRESS',\n  '2': 'GSW_VLAN_MEMBER_VIOLATION_EGRESS',\n  '3': 'GSW_VLAN_MEMBER_VIOLATION_BOTH'},\n 'GSW_Qos_ingressRemarking_t': {'0': 'GSW_DSCP_REMARK_DISABLE',\n  '1': 'GSW_DSCP_REMARK_TC6',\n  '2': 'GSW_DSCP_REMARK_TC3',\n  '3': 'GSW_DSCP_REMARK_DP3',\n  '4': 'GSW_DSCP_REMARK_DP3_TC3'},\n 'GSW_QoS_DropPrecedence_t': {'0': 'GSW_DROP_PRECEDENCE_CRITICAL',\n  '1': 'GSW_DROP_PRECEDENCE_GREEN',\n  '2': 'GSW_DROP_PRECEDENCE_YELLOW',\n  '3': 'GSW_DROP_PRECEDENCE_RED'},\n 'GSW_QoS_ClassSelect_t': {'0': 'GSW_QOS_CLASS_SELECT_NO',\n  '1': 'GSW_QOS_CLASS_SELECT_DSCP',\n  '2': 'GSW_QOS_CLASS_SELECT_PCP',\n  '3': 'GSW_QOS_CLASS_SELECT_DSCP_PCP',\n  '4': 'GSW_QOS_CLASS_SELECT_PCP_DSCP',\n  '5': 'GSW_QOS_CLASS_SELECT_SPCP',\n  '6': 'GSW_QOS_CLASS_SELECT_SPCP_DSCP',\n  '7': 'GSW_QOS_CLASS_SELECT_DSCP_SPCP',\n  '8': 'GSW_QOS_CLASS_SELECT_SPCP_PCP',\n  '9': 'GSW_QOS_CLASS_SELECT_SPCP_PCP_DSCP',\n  '10': 'GSW_QOS_CLASS_SELECT_DSCP_SPCP_PCP'},\n 'GSW_QoS_WRED_ThreshMode_t': {'0': 'GSW_QOS_WRED_Local_Thresh',\n  '1': 'GSW_QOS_WRED_Global_Thresh'},\n 'GSW_QoS_WRED_Profile_t': {'0': 'GSW_QOS_WRED_PROFILE_P0',\n  '1': 'GSW_QOS_WRED_PROFILE_P1',\n  '2': 'GSW_QOS_WRED_PROFILE_P2',\n  '3': 'GSW_QOS_WRED_PROFILE_P3'},\n 'GSW_direction_t': {'0': 'GSW_DIRECTION_NONE',\n  '1': 'GSW_DIRECTION_INGRESS',\n  '2': 'GSW_DIRECTION_EGRESS',\n  '3': 'GSW_DIRECTION_BOTH'},\n 'GSW_QoS_Scheduler_t': {'0': 'GSW_QOS_SCHEDULER_STRICT',\n  '1': 'GSW_QOS_SCHEDULER_WFQ'},\n 'GSW_multicastSnoopMode_t': {'0': 'GSW_MULTICAST_SNOOP_MODE_DISABLED',\n  '1': 'GSW_MULTICAST_SNOOP_MODE_AUTOLEARNING',\n  '2': 'GSW_MULTICAST_SNOOP_MODE_FORWARD'},\n 'GSW_multicastReportSuppression_t': {'0': 'GSW_MULTICAST_REPORT_JOIN',\n  '1': 'GSW_MULTICAST_REPORT',\n  '2': 'GSW_MULTICAST_TRANSPARENT'},\n 'GSW_IGMP_MemberMode_t': {'0': 'GSW_IGMP_MEMBER_INCLUDE',\n  '1': 'GSW_IGMP_MEMBER_EXCLUDE',\n  '2': 'GSW_IGMP_MEMBER_DONT_CARE'},\n 'GSW_HW_InitMode_t': {'0': 'GSW_HW_INIT_WR',\n  '1': 'GSW_HW_INIT_RO',\n  '2': 'GSW_HW_INIT_NO'},\n 'GSW_ageTimer_t': {'1': 'GSW_AGETIMER_1_SEC',\n  '2': 'GSW_AGETIMER_10_SEC',\n  '3': 'GSW_AGETIMER_300_SEC',\n  '4': 'GSW_AGETIMER_1_HOUR',\n  '5': 'GSW_AGETIMER_1_DAY'},\n 'GSW_portSpeed_t': {'10': 'GSW_PORT_SPEED_10',\n  '100': 'GSW_PORT_SPEED_100',\n  '200': 'GSW_PORT_SPEED_200',\n  '1000': 'GSW_PORT_SPEED_1000',\n  '2500': 'GSW_PORT_SPEED_2500'},\n 'GSW_portDuplex_t': {'0': 'GSW_DUPLEX_FULL', '1': 'GSW_DUPLEX_HALF'},\n 'GSW_portLink_t': {'0': 'GSW_PORT_LINK_UP', '1': 'GSW_PORT_LINK_DOWN'},\n 'GSW_capType_t': {'0': 'GSW_CAP_TYPE_PORT',\n  '1': 'GSW_CAP_TYPE_VIRTUAL_PORT',\n  '2': 'GSW_CAP_TYPE_BUFFER_SIZE',\n  '3': 'GSW_CAP_TYPE_SEGMENT_SIZE',\n  '4': 'GSW_CAP_TYPE_PRIORITY_QUEUE',\n  '5': 'GSW_CAP_TYPE_METER',\n  '6': 'GSW_CAP_TYPE_RATE_SHAPER',\n  '7': 'GSW_CAP_TYPE_VLAN_GROUP',\n  '8': 'GSW_CAP_TYPE_FID',\n  '9': 'GSW_CAP_TYPE_MAC_TABLE_SIZE',\n  '10': 'GSW_CAP_TYPE_MULTICAST_TABLE_SIZE',\n  '11': 'GSW_CAP_TYPE_PPPOE_SESSION',\n  '12': 'GSW_CAP_TYPE_SVLAN_GROUP',\n  '13': 'GSW_CAP_TYPE_LAST'},\n 'GSW_portEnable_t': {'0': 'GSW_PORT_DISABLE',\n  '1': 'GSW_PORT_ENABLE_RXTX',\n  '2': 'GSW_PORT_ENABLE_RX',\n  '3': 'GSW_PORT_ENABLE_TX'},\n 'GSW_portMonitor_t': {'0': 'GSW_PORT_MONITOR_NONE',\n  '1': 'GSW_PORT_MONITOR_RX',\n  '2': 'GSW_PORT_MONITOR_TX',\n  '3': 'GSW_PORT_MONITOR_RXTX',\n  '4': 'GSW_PORT_MONITOR_VLAN_UNKNOWN',\n  '16': 'GSW_PORT_MONITOR_VLAN_MEMBERSHIP',\n  '32': 'GSW_PORT_MONITOR_PORT_STATE',\n  '64': 'GSW_PORT_MONITOR_LEARNING_LIMIT',\n  '128': 'GSW_PORT_MONITOR_PORT_LOCK'},\n 'GSW_portFlow_t': {'0': 'GSW_FLOW_AUTO',\n  '1': 'GSW_FLOW_RX',\n  '2': 'GSW_FLOW_TX',\n  '3': 'GSW_FLOW_RXTX',\n  '4': 'GSW_FLOW_OFF'},\n 'GSW_CPU_SpecialTagEthType_t': {'0': 'GSW_CPU_ETHTYPE_PREDEFINED',\n  '1': 'GSW_CPU_ETHTYPE_FLOWID'},\n 'GSW_CPU_HeaderMode_t': {'0': 'GSW_CPU_HEADER_NO',\n  '1': 'GSW_CPU_HEADER_MAC',\n  '2': 'GSW_CPU_HEADER_VLAN'},\n 'GSW_CPU_Pause_t': {'0': 'GSW_CPU_PAUSE_FORWARD',\n  '1': 'GSW_CPU_PAUSE_DISPATCH'},\n 'GSW_MII_Mode_t': {'0': 'GSW_PORT_HW_MII',\n  '1': 'GSW_PORT_HW_RMII',\n  '2': 'GSW_PORT_HW_GMII',\n  '3': 'GSW_PORT_HW_RGMII'},\n 'GSW_MII_Type_t': {'0': 'GSW_PORT_MAC', '1': 'GSW_PORT_PHY'},\n 'GSW_clkMode_t': {'0': 'GSW_PORT_CLK_NA',\n  '1': 'GSW_PORT_CLK_MASTER',\n  '2': 'GSW_PORT_CLK_SLAVE'},\n 'GSW_return_t': {'0': 'GSW_statusOk',\n  '-1': 'GSW_statusErr',\n  '-2': 'GSW_statusParam',\n  '-3': 'GSW_statusVLAN_Space',\n  '-4': 'GSW_statusVLAN_ID',\n  '-5': 'GSW_statusInvalIoctl',\n  '-6': 'GSW_statusNoSupport',\n  '-7': 'GSW_statusTimeout',\n  '-8': 'GSW_statusValueRange',\n  '-9': 'GSW_statusPortInvalid',\n  '-10': 'GSW_statusIRQ_Invalid',\n  '-11': 'GSW_statusMAC_TableFull',\n  '-12': 'GSW_statusLock_Failed',\n  '-13': 'GSW_statusMemErr',\n  '-14': 'GSW_statusBusErr',\n  '-15': 'GSW_statusTblFull'},\n 'GSW_RMON_type_t': {'0': 'GSW_RMON_ALL_TYPE',\n  '1': 'GSW_RMON_PMAC_TYPE',\n  '2': 'GSW_RMON_PORT_TYPE',\n  '3': 'GSW_RMON_METER_TYPE',\n  '4': 'GSW_RMON_IF_TYPE',\n  '5': 'GSW_RMON_ROUTE_TYPE',\n  '6': 'GSW_RMON_REDIRECT_TYPE'},\n 'GSW_RMON_CountMode_t': {'0': 'GSW_RMON_COUNT_PKTS',\n  '1': 'GSW_RMON_COUNT_BYTES',\n  '2': 'GSW_RMON_DROP_COUNT'}}"
     },
     "metadata": {},
     "execution_count": 5
    }
   ],
   "source": [
    "print (len(enum))\n",
    "enum"
   ]
  },
  {
   "cell_type": "code",
   "execution_count": 6,
   "metadata": {
    "tags": []
   },
   "outputs": [
    {
     "output_type": "stream",
     "name": "stdout",
     "text": "82\n"
    },
    {
     "output_type": "execute_result",
     "data": {
      "text/plain": "{'GSW_register_t': [['u16', 'nRegAddr'], ['u16', 'nData']],\n 'GSW_irq_t': [['u32', 'nPortId'], ['GSW_irqSrc_t', 'eIrqSrc']],\n 'GSW_PCE_pattern_t': [['int', 'nIndex'],\n  ['ltq_bool_t', 'bEnable'],\n  ['ltq_bool_t', 'bPortIdEnable'],\n  ['u8', 'nPortId'],\n  ['ltq_bool_t', 'bDSCP_Enable'],\n  ['u8', 'nDSCP'],\n  ['ltq_bool_t', 'bPCP_Enable'],\n  ['u8', 'nPCP'],\n  ['ltq_bool_t', 'bSTAG_PCP_DEI_Enable'],\n  ['u8', 'nSTAG_PCP_DEI'],\n  ['ltq_bool_t', 'bPktLngEnable'],\n  ['u16', 'nPktLng'],\n  ['u16', 'nPktLngRange'],\n  ['ltq_bool_t', 'bMAC_DstEnable'],\n  ['u8', 'nMAC_Dst[6]'],\n  ['u16', 'nMAC_DstMask'],\n  ['ltq_bool_t', 'bMAC_SrcEnable'],\n  ['u8', 'nMAC_Src[6]'],\n  ['u16', 'nMAC_SrcMask'],\n  ['ltq_bool_t', 'bAppDataMSB_Enable'],\n  ['u16', 'nAppDataMSB'],\n  ['ltq_bool_t', 'bAppMaskRangeMSB_Select'],\n  ['u16', 'nAppMaskRangeMSB'],\n  ['ltq_bool_t', 'bAppDataLSB_Enable'],\n  ['u16', 'nAppDataLSB'],\n  ['ltq_bool_t', 'bAppMaskRangeLSB_Select'],\n  ['u16', 'nAppMaskRangeLSB'],\n  ['GSW_PCE_IP_t', 'eDstIP_Select'],\n  ['GSW_IP_t', 'nDstIP'],\n  ['u32', 'nDstIP_Mask'],\n  ['GSW_PCE_IP_t', 'eSrcIP_Select'],\n  ['GSW_IP_t', 'nSrcIP'],\n  ['u32', 'nSrcIP_Mask'],\n  ['ltq_bool_t', 'bEtherTypeEnable'],\n  ['u16', 'nEtherType'],\n  ['u16', 'nEtherTypeMask'],\n  ['ltq_bool_t', 'bProtocolEnable'],\n  ['u8', 'nProtocol'],\n  ['u8', 'nProtocolMask'],\n  ['ltq_bool_t', 'bSessionIdEnable'],\n  ['u16', 'nSessionId'],\n  ['ltq_bool_t', 'bVid'],\n  ['u16', 'nVid'],\n  ['ltq_bool_t', 'bVidRange_Select'],\n  ['u16', 'nVidRange'],\n  ['ltq_bool_t', 'bSLAN_Vid'],\n  ['u16', 'nSLAN_Vid']],\n 'GSW_PCE_action_t': [['GSW_PCE_ActionTrafficClass_t', 'eTrafficClassAction'],\n  ['u8', 'nTrafficClassAlternate'],\n  ['GSW_PCE_ActionIGMP_Snoop_t', 'eSnoopingTypeAction'],\n  ['GSW_PCE_ActionLearning_t', 'eLearningAction'],\n  ['GSW_PCE_ActionIrq_t', 'eIrqAction'],\n  ['GSW_PCE_ActionCrossState_t', 'eCrossStateAction'],\n  ['GSW_PCE_ActionCriticalFrame_t', 'eCritFrameAction'],\n  ['GSW_PCE_ActionTimestamp_t', 'eTimestampAction'],\n  ['GSW_PCE_ActionPortmap_t', 'ePortMapAction'],\n  ['u32', 'nForwardPortMap'],\n  ['ltq_bool_t', 'bRemarkAction'],\n  ['ltq_bool_t', 'bRemarkPCP'],\n  ['ltq_bool_t', 'bRemarkSTAG_PCP'],\n  ['ltq_bool_t', 'bRemarkSTAG_DEI'],\n  ['ltq_bool_t', 'bRemarkDSCP'],\n  ['ltq_bool_t', 'bRemarkClass'],\n  ['GSW_PCE_ActionMeter_t', 'eMeterAction'],\n  ['u8', 'nMeterId'],\n  ['ltq_bool_t', 'bRMON_Action'],\n  ['u8', 'nRMON_Id'],\n  ['GSW_PCE_ActionVLAN_t', 'eVLAN_Action'],\n  ['u16', 'nVLAN_Id'],\n  ['u8', 'nFId'],\n  ['GSW_PCE_ActionVLAN_t', 'eSVLAN_Action'],\n  ['u16', 'nSVLAN_Id'],\n  ['GSW_PCE_ActionCrossVLAN_t', 'eVLAN_CrossAction'],\n  ['ltq_bool_t', 'bCVLAN_Ignore_Control'],\n  ['ltq_bool_t', 'bPortBitMapMuxControl'],\n  ['ltq_bool_t', 'bPortTrunkAction'],\n  ['ltq_bool_t', 'bPortLinkSelection'],\n  ['ltq_bool_t', 'bFlowID_Action'],\n  ['u16', 'nFlowID']],\n 'GSW_PCE_rule_t': [['GSW_PCE_pattern_t', 'pattern'],\n  ['GSW_PCE_action_t', 'action']],\n 'GSW_PCE_ruleDelete_t': [['u32', 'nIndex']],\n 'GSW_reset_t': [['GSW_resetMode_t', 'eReset']],\n 'GSW_RMON_extendGet_t': [['u8', 'nPortId'], ['u32', 'nTrafficFlowCnt[24]']],\n 'GSW_TIMESTAMP_Timer_t': [['u32', 'nSec'],\n  ['u32', 'nNanoSec'],\n  ['u32', 'nFractionalNanoSec']],\n 'GSW_TIMESTAMP_PortRead_t': [['u8', 'nPortId'],\n  ['u32', 'nIngressSec'],\n  ['u32', 'nIngressNanoSec'],\n  ['u32', 'nEgressSec'],\n  ['u32', 'nEgressNanoSec']],\n 'GSW_MAC_tableRead_t': [['ltq_bool_t', 'bInitial'],\n  ['ltq_bool_t', 'bLast'],\n  ['u32', 'nFId'],\n  ['u32', 'nPortId'],\n  ['int', 'nAgeTimer'],\n  ['u16', 'nSVLAN_Id'],\n  ['ltq_bool_t', 'bStaticEntry'],\n  ['u8', 'nMAC[6]']],\n 'GSW_MAC_tableQuery_t': [['u8', 'nMAC[6]'],\n  ['u32', 'nFId'],\n  ['ltq_bool_t', 'bFound'],\n  ['u32', 'nPortId'],\n  ['int', 'nAgeTimer'],\n  ['u16', 'nSVLAN_Id'],\n  ['ltq_bool_t', 'bStaticEntry']],\n 'GSW_MAC_tableAdd_t': [['u32', 'nFId'],\n  ['u32', 'nPortId'],\n  ['int', 'nAgeTimer'],\n  ['u16', 'nSVLAN_Id'],\n  ['ltq_bool_t', 'bStaticEntry'],\n  ['u8', 'nTrafficClass'],\n  ['u8', 'nMAC[6]']],\n 'GSW_MAC_tableRemove_t': [['u32', 'nFId'], ['u8', 'nMAC[6]']],\n 'GSW_STP_portCfg_t': [['u8', 'nPortId'],\n  ['u32', 'nFId'],\n  ['GSW_STP_PortState_t', 'ePortState']],\n 'GSW_STP_BPDU_Rule_t': [['GSW_portForward_t', 'eForwardPort'],\n  ['u8', 'nForwardPortId']],\n 'GSW_8021X_EAPOL_Rule_t': [['GSW_portForward_t', 'eForwardPort'],\n  ['u8', 'nForwardPortId']],\n 'GSW_8021X_portCfg_t': [['u32', 'nPortId'],\n  ['GSW_8021X_portState_t', 'eState']],\n 'GSW_trunkingCfg_t': [['ltq_bool_t', 'bIP_Src'],\n  ['ltq_bool_t', 'bIP_Dst'],\n  ['ltq_bool_t', 'bMAC_Src'],\n  ['ltq_bool_t', 'bMAC_Dst']],\n 'GSW_trunkingPortCfg_t': [['ltq_bool_t', 'bAggregateEnable'],\n  ['u32', 'nPortId'],\n  ['u32', 'nAggrPortId']],\n 'GSW_VLAN_IdCreate_t': [['u16', 'nVId'], ['u32', 'nFId']],\n 'GSW_VLAN_IdGet_t': [['u16', 'nVId'], ['u32', 'nFId']],\n 'GSW_VLAN_memberInit_t': [['u32', 'nPortMemberMap'],\n  ['u32', 'nEgressTagMap']],\n 'GSW_VLAN_IdDelete_t': [['u16', 'nVId']],\n 'GSW_VLAN_portMemberAdd_t': [['u16', 'nVId'],\n  ['u32', 'nPortId'],\n  ['ltq_bool_t', 'bVLAN_TagEgress']],\n 'GSW_VLAN_portMemberRemove_t': [['u16', 'nVId'], ['u32', 'nPortId']],\n 'GSW_VLAN_portMemberRead_t': [['ltq_bool_t', 'bInitial'],\n  ['ltq_bool_t', 'bLast'],\n  ['u16', 'nVId'],\n  ['u32', 'nPortId'],\n  ['u32', 'nTagId']],\n 'GSW_VLAN_portCfg_t': [['u8', 'nPortId'],\n  ['u16', 'nPortVId'],\n  ['ltq_bool_t', 'bVLAN_UnknownDrop'],\n  ['ltq_bool_t', 'bVLAN_ReAssign'],\n  ['GSW_VLAN_MemberViolation_t', 'eVLAN_MemberViolation'],\n  ['GSW_VLAN_Admit_t', 'eAdmitMode'],\n  ['ltq_bool_t', 'bTVM']],\n 'GSW_VLAN_reserved_t': [['u16', 'nVId']],\n 'GSW_SVLAN_cfg_t': [['u16', 'nEthertype']],\n 'GSW_SVLAN_portCfg_t': [['u8', 'nPortId'],\n  ['ltq_bool_t', 'bSVLAN_TagSupport'],\n  ['ltq_bool_t', 'bSVLAN_MACbasedTag'],\n  ['u16', 'nPortVId'],\n  ['ltq_bool_t', 'bVLAN_ReAssign'],\n  ['GSW_VLAN_MemberViolation_t', 'eVLAN_MemberViolation'],\n  ['GSW_VLAN_Admit_t', 'eAdmitMode']],\n 'GSW_QoS_DSCP_ClassCfg_t': [['u32', 'nDSCP'], ['u8', 'nTrafficClass[64]']],\n 'GSW_QoS_PCP_ClassCfg_t': [['u8', 'nPCP'], ['u8', 'nTrafficClass[8]']],\n 'GSW_QoS_portRemarkingCfg_t': [['u8', 'nPortId'],\n  ['GSW_Qos_ingressRemarking_t', 'eDSCP_IngressRemarkingEnable'],\n  ['ltq_bool_t', 'bDSCP_EgressRemarkingEnable'],\n  ['ltq_bool_t', 'bPCP_IngressRemarkingEnable'],\n  ['ltq_bool_t', 'bPCP_EgressRemarkingEnable'],\n  ['ltq_bool_t', 'bSTAG_PCP_IngressRemarkingEnable'],\n  ['ltq_bool_t', 'bSTAG_DEI_IngressRemarkingEnable'],\n  ['ltq_bool_t', 'bSTAG_PCP_DEI_EgressRemarkingEnable']],\n 'GSW_QoS_ClassDSCP_Cfg_t': [['u8', 'nTrafficClass'], ['u8', 'nDSCP[16]']],\n 'GSW_QoS_ClassPCP_Cfg_t': [['u8', 'nTrafficClass'], ['u8', 'nPCP[16]']],\n 'GSW_QoS_DSCP_DropPrecedenceCfg_t': [['u8', 'nDSCP'],\n  ['GSW_QoS_DropPrecedence_t', 'nDSCP_DropPrecedence[64]']],\n 'GSW_QoS_portCfg_t': [['u8', 'nPortId'],\n  ['GSW_QoS_ClassSelect_t', 'eClassMode'],\n  ['u8', 'nTrafficClass']],\n 'GSW_QoS_ShaperCfg_t': [['u32', 'nRateShaperId'],\n  ['ltq_bool_t', 'bEnable'],\n  ['ltq_bool_t', 'bAVB'],\n  ['u32', 'nCbs'],\n  ['u32', 'nRate']],\n 'GSW_QoS_ShaperQueue_t': [['u8', 'nRateShaperId'], ['u8', 'nQueueId']],\n 'GSW_QoS_ShaperQueueGet_t': [['u8', 'nQueueId'],\n  ['ltq_bool_t', 'bAssigned'],\n  ['u8', 'nRateShaperId']],\n 'GSW_QoS_WRED_Cfg_t': [['GSW_QoS_WRED_Profile_t', 'eProfile'],\n  ['GSW_QoS_WRED_ThreshMode_t', 'eThreshMode'],\n  ['u32', 'nRed_Min'],\n  ['u32', 'nRed_Max'],\n  ['u32', 'nYellow_Min'],\n  ['u32', 'nYellow_Max'],\n  ['u32', 'nGreen_Min'],\n  ['u32', 'nGreen_Max']],\n 'GSW_QoS_WRED_QueueCfg_t': [['u32', 'nQueueId'],\n  ['u32', 'nRed_Min'],\n  ['u32', 'nRed_Max'],\n  ['u32', 'nYellow_Min'],\n  ['u32', 'nYellow_Max'],\n  ['u32', 'nGreen_Min'],\n  ['u32', 'nGreen_Max']],\n 'GSW_QoS_WRED_PortCfg_t': [['u32', 'nPortId'],\n  ['u32', 'nRed_Min'],\n  ['u32', 'nRed_Max'],\n  ['u32', 'nYellow_Min'],\n  ['u32', 'nYellow_Max'],\n  ['u32', 'nGreen_Min'],\n  ['u32', 'nGreen_Max']],\n 'GSW_QoS_FlowCtrlCfg_t': [['u32', 'nFlowCtrlNonConform_Min'],\n  ['u32', 'nFlowCtrlNonConform_Max'],\n  ['u32', 'nFlowCtrlConform_Min'],\n  ['u32', 'nFlowCtrlConform_Max']],\n 'GSW_QoS_FlowCtrlPortCfg_t': [['u32', 'nPortId'],\n  ['u32', 'nFlowCtrl_Min'],\n  ['u32', 'nFlowCtrl_Max']],\n 'GSW_QoS_meterCfg_t': [['ltq_bool_t', 'bEnable'],\n  ['u32', 'nMeterId'],\n  ['u32', 'nCbs'],\n  ['u32', 'nEbs'],\n  ['u32', 'nRate']],\n 'GSW_QoS_meterPort_t': [['u32', 'nMeterId'],\n  ['GSW_direction_t', 'eDir'],\n  ['u32', 'nPortIngressId'],\n  ['u32', 'nPortEgressId']],\n 'GSW_QoS_meterPortGet_t': [['ltq_bool_t', 'bInitial'],\n  ['ltq_bool_t', 'bLast'],\n  ['GSW_direction_t', 'eDir'],\n  ['u8', 'nMeterId'],\n  ['u8', 'nPortIngressId'],\n  ['u8', 'nPortEgressId']],\n 'GSW_QoS_stormCfg_t': [['int', 'nMeterId'],\n  ['ltq_bool_t', 'bBroadcast'],\n  ['ltq_bool_t', 'bMulticast'],\n  ['ltq_bool_t', 'bUnknownUnicast']],\n 'GSW_QoS_schedulerCfg_t': [['u8', 'nQueueId'],\n  ['GSW_QoS_Scheduler_t', 'eType'],\n  ['u32', 'nWeight']],\n 'GSW_QoS_queuePort_t': [['u8', 'nPortId'],\n  ['u8', 'nTrafficClassId'],\n  ['u8', 'nQueueId']],\n 'GSW_QoS_QueueBufferReserveCfg_t': [['u8', 'nQueueId'],\n  ['u32', 'nBufferReserved']],\n 'GSW_QoS_SVLAN_ClassPCP_PortCfg_t': [['u8', 'nPortId'],\n  ['u8', 'nTrafficClass'],\n  ['u8', 'nCPCP[16]'],\n  ['u8', 'nSPCP[16]'],\n  ['u8', 'nDSCP[16]']],\n 'GSW_QoS_SVLAN_PCP_ClassCfg_t': [['u8', 'nTrafficClass[16]'],\n  ['u8', 'nTrafficColor[16]'],\n  ['u8', 'nPCP_Remark_Enable[16]'],\n  ['u8', 'nDEI_Remark_Enable[16]']],\n 'GSW_multicastSnoopCfg_t': [['GSW_multicastSnoopMode_t', 'eIGMP_Mode'],\n  ['ltq_bool_t', 'bIGMPv3'],\n  ['ltq_bool_t', 'bCrossVLAN'],\n  ['GSW_portForward_t', 'eForwardPort'],\n  ['u8', 'nForwardPortId'],\n  ['u8', 'nClassOfService'],\n  ['u8', 'nRobust'],\n  ['u8', 'nQueryInterval'],\n  ['GSW_multicastReportSuppression_t', 'eSuppressionAggregation'],\n  ['ltq_bool_t', 'bFastLeave'],\n  ['ltq_bool_t', 'bLearningRouter'],\n  ['ltq_bool_t', 'bMulticastUnknownDrop']],\n 'GSW_multicastRouter_t': [['u8', 'nPortId']],\n 'GSW_multicastRouterRead_t': [['ltq_bool_t', 'bInitial'],\n  ['ltq_bool_t', 'bLast'],\n  ['u8', 'nPortId']],\n 'GSW_multicastTable_t': [['u32', 'nPortId'],\n  ['GSW_IP_Select_t', 'eIPVersion'],\n  ['GSW_IP_t', 'uIP_Gda'],\n  ['GSW_IP_t', 'uIP_Gsa'],\n  ['GSW_IGMP_MemberMode_t', 'eModeMember']],\n 'GSW_multicastTableRead_t': [['ltq_bool_t', 'bInitial'],\n  ['ltq_bool_t', 'bLast'],\n  ['u8', 'nPortId'],\n  ['GSW_IP_Select_t', 'eIPVersion'],\n  ['GSW_IP_t', 'uIP_Gda'],\n  ['GSW_IP_t', 'uIP_Gsa'],\n  ['GSW_IGMP_MemberMode_t', 'eModeMember']],\n 'GSW_version_t': [['u16', 'nId'],\n  ['char', 'cName[64]'],\n  ['char', 'cVersion[64]']],\n 'GSW_HW_Init_t': [['GSW_HW_InitMode_t', 'eInitMode']],\n 'GSW_cap_t': [['GSW_capType_t', 'nCapType'],\n  ['char', 'cDesc[128]'],\n  ['u32', 'nCap']],\n 'GSW_cfg_t': [['GSW_ageTimer_t', 'eMAC_TableAgeTimer'],\n  ['ltq_bool_t', 'bVLAN_Aware'],\n  ['u16', 'nMaxPacketLen'],\n  ['ltq_bool_t', 'bLearningLimitAction'],\n  ['ltq_bool_t', 'bMAC_SpoofingAction'],\n  ['ltq_bool_t', 'bPauseMAC_ModeSrc'],\n  ['u8', 'nPauseMAC_Src[6]']],\n 'GSW_portCfg_t': [['u8', 'nPortId'],\n  ['GSW_portEnable_t', 'eEnable'],\n  ['ltq_bool_t', 'bUnicastUnknownDrop'],\n  ['ltq_bool_t', 'bMulticastUnknownDrop'],\n  ['ltq_bool_t', 'bReservedPacketDrop'],\n  ['ltq_bool_t', 'bBroadcastDrop'],\n  ['ltq_bool_t', 'bAging'],\n  ['ltq_bool_t', 'bLearning'],\n  ['ltq_bool_t', 'bLearningMAC_PortLock'],\n  ['u16', 'nLearningLimit'],\n  ['ltq_bool_t', 'bMAC_SpoofingDetection'],\n  ['GSW_portFlow_t', 'eFlowCtrl'],\n  ['GSW_portMonitor_t', 'ePortMonitor']],\n 'GSW_CPU_PortCfg_t': [['u8', 'nPortId'],\n  ['ltq_bool_t', 'bCPU_PortValid'],\n  ['ltq_bool_t', 'bSpecialTagIngress'],\n  ['ltq_bool_t', 'bSpecialTagEgress'],\n  ['ltq_bool_t', 'bFcsCheck'],\n  ['ltq_bool_t', 'bFcsGenerate'],\n  ['GSW_CPU_SpecialTagEthType_t', 'bSpecialTagEthType']],\n 'GSW_CPU_Header_t': [['u8', 'nMAC_Src[6]'],\n  ['u8', 'nMAC_Dst[6]'],\n  ['u16', 'nEthertype'],\n  ['u8', 'nVLAN_Prio'],\n  ['u8', 'nVLAN_CFI'],\n  ['u16', 'nVLAN_ID']],\n 'GSW_CPU_PortExtendCfg_t': [['GSW_CPU_HeaderMode_t', 'eHeaderAdd'],\n  ['ltq_bool_t', 'bHeaderRemove'],\n  ['GSW_CPU_Header_t', 'sHeader'],\n  ['GSW_CPU_Pause_t', 'ePauseCtrl'],\n  ['ltq_bool_t', 'bFcsRemove'],\n  ['u32', 'nWAN_Ports']],\n 'GSW_portLinkCfg_t': [['u8', 'nPortId'],\n  ['ltq_bool_t', 'bDuplexForce'],\n  ['GSW_portDuplex_t', 'eDuplex'],\n  ['ltq_bool_t', 'bSpeedForce'],\n  ['GSW_portSpeed_t', 'eSpeed'],\n  ['ltq_bool_t', 'bLinkForce'],\n  ['GSW_portLink_t', 'eLink'],\n  ['GSW_MII_Mode_t', 'eMII_Mode'],\n  ['GSW_MII_Type_t', 'eMII_Type'],\n  ['GSW_clkMode_t', 'eClkMode'],\n  ['ltq_bool_t', 'bLPI']],\n 'GSW_portRGMII_ClkCfg_t': [['u8', 'nPortId'],\n  ['u8', 'nDelayRx'],\n  ['u8', 'nDelayTx']],\n 'GSW_portPHY_Query_t': [['u8', 'nPortId'], ['ltq_bool_t', 'bPHY_Present']],\n 'GSW_portPHY_Addr_t': [['u8', 'nPortId'], ['u8', 'nAddressDev']],\n 'GSW_portRedirectCfg_t': [['u8', 'nPortId'],\n  ['ltq_bool_t', 'bRedirectEgress'],\n  ['ltq_bool_t', 'bRedirectIngress']],\n 'GSW_monitorPortCfg_t': [['u8', 'nPortId'], ['ltq_bool_t', 'bMonitorPort']],\n 'GSW_MDIO_cfg_t': [['u32', 'nMDIO_Speed'], ['ltq_bool_t', 'bMDIO_Enable']],\n 'GSW_MDIO_data_t': [['u8', 'nAddressDev'],\n  ['u8', 'nAddressReg'],\n  ['u16', 'nData']],\n 'GSW_MMD_data_t': [['u8', 'nAddressDev'],\n  ['u32', 'nAddressReg'],\n  ['u16', 'nData']],\n 'GSW_WoL_Cfg_t': [['u8', 'nWolMAC[6]'],\n  ['u8', 'nWolPassword[6]'],\n  ['ltq_bool_t', 'bWolPasswordEnable']],\n 'GSW_WoL_PortCfg_t': [['u8', 'nPortId'], ['ltq_bool_t', 'bWakeOnLAN_Enable']],\n 'GSW_RMON_clear_t': [['GSW_RMON_type_t', 'eRmonType'], ['u8', 'nRmonId']],\n 'GSW_RMON_Port_cnt_t': [['u8', 'nPortId'],\n  ['u32', 'nRxGoodPkts'],\n  ['u32', 'nRxUnicastPkts'],\n  ['u32', 'nRxBroadcastPkts'],\n  ['u32', 'nRxMulticastPkts'],\n  ['u32', 'nRxFCSErrorPkts'],\n  ['u32', 'nRxUnderSizeGoodPkts'],\n  ['u32', 'nRxOversizeGoodPkts'],\n  ['u32', 'nRxUnderSizeErrorPkts'],\n  ['u32', 'nRxGoodPausePkts'],\n  ['u32', 'nRxOversizeErrorPkts'],\n  ['u32', 'nRxAlignErrorPkts'],\n  ['u32', 'nRxFilteredPkts'],\n  ['u32', 'nRx64BytePkts'],\n  ['u32', 'nRx127BytePkts'],\n  ['u32', 'nRx255BytePkts'],\n  ['u32', 'nRx511BytePkts'],\n  ['u32', 'nRx1023BytePkts'],\n  ['u32', 'nRxMaxBytePkts'],\n  ['u32', 'nTxGoodPkts'],\n  ['u32', 'nTxUnicastPkts'],\n  ['u32', 'nTxBroadcastPkts'],\n  ['u32', 'nTxMulticastPkts'],\n  ['u32', 'nTxSingleCollCount'],\n  ['u32', 'nTxMultCollCount'],\n  ['u32', 'nTxLateCollCount'],\n  ['u32', 'nTxExcessCollCount'],\n  ['u32', 'nTxCollCount'],\n  ['u32', 'nTxPauseCount'],\n  ['u32', 'nTx64BytePkts'],\n  ['u32', 'nTx127BytePkts'],\n  ['u32', 'nTx255BytePkts'],\n  ['u32', 'nTx511BytePkts'],\n  ['u32', 'nTx1023BytePkts'],\n  ['u32', 'nTxMaxBytePkts'],\n  ['u32', 'nTxDroppedPkts'],\n  ['u32', 'nTxAcmDroppedPkts'],\n  ['u32', 'nRxDroppedPkts'],\n  ['u64', 'nRxGoodBytes'],\n  ['u64', 'nRxBadBytes'],\n  ['u64', 'nTxGoodBytes']],\n 'GSW_RMON_mode_t': [['GSW_RMON_type_t', 'eRmonType'],\n  ['GSW_RMON_CountMode_t', 'eCountMode']]}"
     },
     "metadata": {},
     "execution_count": 6
    }
   ],
   "source": [
    "print (len(struct))\n",
    "struct"
   ]
  },
  {
   "cell_type": "code",
   "execution_count": 7,
   "metadata": {},
   "outputs": [
    {
     "output_type": "execute_result",
     "data": {
      "text/plain": "'GSW_irqSrc_t, GSW_PCE_IP_t, GSW_PCE_ActionIGMP_Snoop_t, GSW_PCE_ActionLearning_t, GSW_PCE_ActionMeter_t, GSW_PCE_ActionTrafficClass_t, GSW_PCE_ActionIrq_t, GSW_PCE_ActionCrossState_t, GSW_PCE_ActionCriticalFrame_t, GSW_PCE_ActionTimestamp_t, GSW_PCE_ActionPortmap_t, GSW_PCE_ActionVLAN_t, GSW_PCE_ActionCrossVLAN_t, GSW_resetMode_t, GSW_portForward_t, GSW_STP_PortState_t, GSW_8021X_portState_t, GSW_VLAN_Admit_t, GSW_VLAN_MemberViolation_t, GSW_Qos_ingressRemarking_t, GSW_QoS_DropPrecedence_t, GSW_QoS_ClassSelect_t, GSW_QoS_WRED_ThreshMode_t, GSW_QoS_WRED_Profile_t, GSW_direction_t, GSW_QoS_Scheduler_t, GSW_multicastSnoopMode_t, GSW_multicastReportSuppression_t, GSW_IGMP_MemberMode_t, GSW_HW_InitMode_t, GSW_ageTimer_t, GSW_portSpeed_t, GSW_portDuplex_t, GSW_portLink_t, GSW_capType_t, GSW_portEnable_t, GSW_portMonitor_t, GSW_portFlow_t, GSW_CPU_SpecialTagEthType_t, GSW_CPU_HeaderMode_t, GSW_CPU_Pause_t, GSW_MII_Mode_t, GSW_MII_Type_t, GSW_clkMode_t, GSW_return_t, GSW_RMON_type_t, GSW_RMON_CountMode_t, '"
     },
     "metadata": {},
     "execution_count": 7
    }
   ],
   "source": [
    "s = \"\"\n",
    "for key in enum:\n",
    "    s = s + key + \", \"\n",
    "s"
   ]
  },
  {
   "cell_type": "markdown",
   "metadata": {},
   "source": [
    "## Process gsw_api_func.h to gsw_api_func_c.h\n",
    "- remove //* ... *//\n",
    "- every line for one function\n",
    "- remove \"(\", \")\", \",\", \";\"\n",
    "## Manually convert _c.h file to _d.h file\n",
    "#### Remove the return character in the end of last line\n",
    "#### Remove \"GSW_return_t \", \"void *cdev \", \"*parm \"\n",
    "#### Remove GSW_CPU_PortExtendCfgGet(), GSW_CPU_PortExtendCfgSet() GSW_IrqGet(), GSW_IrqStatusClear() because swapi v1.0.5 doesn't support\n",
    "#### Remove GSW_MmdDataRead(), GSW_MmdDataWrite() because the implementation in swapi v1.0.5 is wrong.\n",
    "#### Add instruction in the end of every function\n",
    "- 1st value, \n",
    "    - = 0, set funcion with param, \n",
    "    - = 1, set function without param, \n",
    "    - = 2, get function with param,\n",
    "    - = 3, get function without param, but there is param structure in C code when calling the API.\n",
    "    - = 4, GSW_PceRuleWrite()\n",
    "    - = 5, GSW_PceRuleRead()\n",
    "- for get funtion, list all the param serial numbers (in the struct, start from 0) needed when calling this function"
   ]
  },
  {
   "cell_type": "code",
   "execution_count": 79,
   "metadata": {
    "tags": []
   },
   "outputs": [
    {
     "ename": "NameError",
     "evalue": "name 'process_org_file' is not defined",
     "output_type": "error",
     "traceback": [
      "\u001b[0;31m---------------------------------------------------------------------------\u001b[0m",
      "\u001b[0;31mNameError\u001b[0m                                 Traceback (most recent call last)",
      "\u001b[0;32m<ipython-input-79-5794f7683bbb>\u001b[0m in \u001b[0;36m<module>\u001b[0;34m\u001b[0m\n\u001b[0;32m----> 1\u001b[0;31m \u001b[0mprocess_org_file\u001b[0m\u001b[0;34m(\u001b[0m\u001b[0;34m\"gsw_api_func.h\"\u001b[0m\u001b[0;34m)\u001b[0m\u001b[0;34m\u001b[0m\u001b[0;34m\u001b[0m\u001b[0m\n\u001b[0m\u001b[1;32m      2\u001b[0m \u001b[0;34m\u001b[0m\u001b[0m\n\u001b[1;32m      3\u001b[0m \u001b[0mf\u001b[0m \u001b[0;34m=\u001b[0m \u001b[0mopen\u001b[0m\u001b[0;34m(\u001b[0m\u001b[0;34m\"gsw_api_func_c.h\"\u001b[0m\u001b[0;34m,\u001b[0m \u001b[0;34m\"r\"\u001b[0m\u001b[0;34m)\u001b[0m\u001b[0;34m\u001b[0m\u001b[0;34m\u001b[0m\u001b[0m\n\u001b[1;32m      4\u001b[0m \u001b[0mlines\u001b[0m \u001b[0;34m=\u001b[0m \u001b[0mf\u001b[0m\u001b[0;34m.\u001b[0m\u001b[0mreadlines\u001b[0m\u001b[0;34m(\u001b[0m\u001b[0;34m)\u001b[0m\u001b[0;34m\u001b[0m\u001b[0;34m\u001b[0m\u001b[0m\n\u001b[1;32m      5\u001b[0m \u001b[0mls\u001b[0m \u001b[0;34m=\u001b[0m \u001b[0mlist\u001b[0m\u001b[0;34m(\u001b[0m\u001b[0;34m)\u001b[0m\u001b[0;34m\u001b[0m\u001b[0;34m\u001b[0m\u001b[0m\n",
      "\u001b[0;31mNameError\u001b[0m: name 'process_org_file' is not defined"
     ]
    }
   ],
   "source": [
    "process_org_file(\"gsw_api_func.h\")\n",
    "\n",
    "f = open(\"gsw_api_func_c.h\", \"r\")\n",
    "lines = f.readlines()\n",
    "ls = list()\n",
    "import re\n",
    "for line in lines:\n",
    "    if line == \"\\n\":\n",
    "        continue\n",
    "    end = 0\n",
    "    try:\n",
    "        if (line.split())[-1][-1] == \";\":\n",
    "            end = 1\n",
    "    except:\n",
    "        print (line, line.split(), len(line))\n",
    "    line = re.sub(\"[;,()]\", \" \", line)\n",
    "    ls.append(line.split())\n",
    "    if end == 1:\n",
    "        ls[-1].append(\"\\n\")\n",
    "\n",
    "f = open(\"gsw_api_func_c.h\", \"w\")\n",
    "for l in ls:\n",
    "    for i in l:\n",
    "        f.write(i)\n",
    "        if i != \"\\n\":\n",
    "            f.write(\" \")\n",
    "f.flush()"
   ]
  },
  {
   "cell_type": "markdown",
   "metadata": {},
   "source": [
    "## Generate C / Python code"
   ]
  },
  {
   "cell_type": "code",
   "execution_count": 24,
   "metadata": {
    "tags": []
   },
   "outputs": [
    {
     "name": "stdout",
     "output_type": "stream",
     "text": [
      "129\n"
     ]
    },
    {
     "data": {
      "text/plain": [
       "['GSW_8021X_EAPOL_RuleGet', 'GSW_8021X_EAPOL_Rule_t', '2', '1']"
      ]
     },
     "execution_count": 24,
     "metadata": {},
     "output_type": "execute_result"
    }
   ],
   "source": [
    "f = open(\"gsw_api_func_d.h\", \"r\")\n",
    "lines = f.readlines()\n",
    "\n",
    "fc = open(\"gsw_py_interface_c.c\", \"w\")\n",
    "fh = open(\"gsw_py_interface_c.h\", \"w\")\n",
    "\n",
    "print (len(lines))\n",
    "l = lines[0].split()\n",
    "l\n",
    "\n"
   ]
  },
  {
   "cell_type": "code",
   "execution_count": 25,
   "metadata": {
    "tags": []
   },
   "outputs": [],
   "source": [
    "def cg013(line, i):\n",
    "    l = line.split()\n",
    "    paralist = list()\n",
    "    indentation = \"          \"\n",
    "    s = \"int py\" + l[0] + \"(\"\n",
    "    #print (i, l[i])\n",
    "    if l[i] == \"0\":\n",
    "        #print (struct[l[1]])\n",
    "        for para in struct[l[1]]:\n",
    "            #print (l[1], para)\n",
    "            if (para[1][-1] == \"]\"):    # process array\n",
    "                #print (para)\n",
    "                #print (l[1], struct[l[1]])\n",
    "                n = para[1][para[1].find(\"[\")+1:-1]\n",
    "                name = para[1][:para[1].find(\"[\")]\n",
    "                #print (\"n  = \", n, \"name = \", name)                \n",
    "                for nn in range(int(n)):                 \n",
    "                    s = s + para[0] + \" \" + name + str(nn)\n",
    "                    paralist.append([name + \"[\" + str(nn) + \"]\", name + str(nn)])\n",
    "                    if (len(s) > 100):\n",
    "                        fc.write(s)\n",
    "                        fh.write(s)\n",
    "                        s = \", \\\\\\n\" + indentation\n",
    "                    else:\n",
    "                        s = s + \", \"\n",
    "            else:\n",
    "                s = s + para[0] + \" \" + para[1]\n",
    "                paralist.append([para[1], para[1]])\n",
    "                if (len(s) > 100):\n",
    "                    fc.write(s)\n",
    "                    fh.write(s)\n",
    "                    s = \", \\\\\\n\" + indentation\n",
    "                else:\n",
    "                    s = s + \", \"\n",
    "        if s == (\", \\\\\\n\" + indentation):\n",
    "            s = \", \"\n",
    "        s = s[:-2]\n",
    "    s = s + \")\\n\"\n",
    "    #print (s)\n",
    "    fc.write(s)\n",
    "    s = s[:-1] + \";\\n\"\n",
    "    fh.write(s)    # Function line\n",
    "    s = \"{\\n\"\n",
    "    fc.write(s)    # 2nd line: {\n",
    "    if l[i] == \"3\":\n",
    "        s = \"    FILE *fp;\\n\"    #declare file handler\n",
    "        fc.write(s)\n",
    "    s = \"    int ret;\\n\"    #declare return value    \n",
    "    fc.write(s)    \n",
    "    if l[i] == \"0\" or l[i] == \"3\":     #declaire the param\n",
    "        s = \"    \" + l[1] + \"  param;\\n\\n\"    \n",
    "        fc.write(s)\n",
    "        s = \"    memset( &param, 0, sizeof(\"+l[1]+\"));\\n\"\n",
    "        fc.write(s)\n",
    "        if l[i] == \"0\":    #for set API, give value of every parameter\n",
    "            for p in paralist:\n",
    "                s = \"    param.\" + p[0] + \" = \" + p[1] + \";\\n\"\n",
    "                fc.write(s)\n",
    "    if l[i] == \"0\" or l[i] == \"3\":    # call the API\n",
    "        s = \"\\n    ret = \" + l[0] + (\"(pedev0, &param);\\n\")    \n",
    "    else:\n",
    "        s = \"\\n    ret = \" + l[0] + (\"(pedev0);\\n\")\n",
    "    fc.write(s)\n",
    "    if l[i] == \"3\":    #save get values to file\n",
    "        s = \"    fp = fopen (fn, \\\"w+\\\");\\n\"    \n",
    "        fc.write(s)\n",
    "        s = \"    fprintf(fp, \\\"%s\\\\r\\\\n\\\", \\\"\" + l[0] + \"\\\");\\n\"    #print the fuction name\n",
    "        fc.write(s)\n",
    "        for para in struct[l[1]]:\n",
    "            if para[1][-1] != \"]\":    #none array value\n",
    "                s = \"    fprintf(fp, \\\"%s = 0x%x, %d\\\\r\\\\n\\\", \\\"\" + para[1] + \"\\\", param.\" + para[1] + \", param.\" + para[1] + \");\\n\"\n",
    "                fc.write(s)\n",
    "            else:               #print arry value to file as: name[n] = [xx, xx, xx, xx] \n",
    "                n = para[1][para[1].find(\"[\")+1:-1]\n",
    "                name = para[1][:para[1].find(\"[\")]      \n",
    "                s = \"    fprintf(fp, \\\"%s = [\\\", \\\"\"  + para[1] + \"\\\");\\n\"\n",
    "                fc.write(s)    \n",
    "                for nn in range(int(n)):\n",
    "                    s = \"    fprintf(fp, \\\" 0x%02x\\\", \" + \"param.\" + name + \"[\" + str(nn) + \"]);\\n\"\n",
    "                    fc.write(s)\n",
    "                s = \"    fprintf(fp, \\\"]\\\\r\\\\n\\\");\\n\"\n",
    "                fc.write(s)\n",
    "        s = \"    fclose(fp);\\n\"\n",
    "        fc.write(s)\n",
    "    s = \"\\n    return ret;\\n}\\n\\n\"\n",
    "    fc.write(s)\n",
    "    return\n",
    "\n",
    "\n",
    "\n",
    "\n",
    "\n",
    "\n",
    "\n",
    "def cg2(line):\n",
    "    l = line.split()\n",
    "    indentation = \"          \"    \n",
    "    s = \"int py\" + l[0] + \"(\"    #function name\n",
    "    paralist = list()\n",
    "    for i in l[3:]:\n",
    "        #print (l[1], para)\n",
    "        i = int(i)\n",
    "        if (struct[l[1]][i][1][-1] == \"]\"):    # process array\n",
    "            #print (para)\n",
    "            #print (l[1], struct[l[1]])\n",
    "            n = struct[l[1]][i][1][struct[l[1]][i][1].find(\"[\")+1:-1]\n",
    "            name = struct[l[1]][i][1][:struct[l[1]][i][1].find(\"[\")]\n",
    "            #print (\"n  = \", n, \"name = \", name)                \n",
    "            for nn in range(int(n)):\n",
    "                s = s + struct[l[1]][i][0] + \" \" + name + str(nn)\n",
    "                paralist.append([name + \"[\" + str(nn) + \"]\", name + str(nn)])\n",
    "                if (len(s) > 100):\n",
    "                    fc.write(s)\n",
    "                    fh.write(s)\n",
    "                    s = \", \\\\\\n\" + indentation\n",
    "                else:\n",
    "                    s = s + \", \"\n",
    "        else:\n",
    "            s = s + struct[l[1]][i][0] + \" \" + struct[l[1]][i][1]\n",
    "            paralist.append([struct[l[1]][i][1], struct[l[1]][i][1]])\n",
    "            if (len(s) > 100):\n",
    "                fc.write(s)\n",
    "                fh.write(s)\n",
    "                s = \", \\\\\\n\" + indentation\n",
    "            else:\n",
    "                s = s + \", \"\n",
    "    if s == (\", \\\\\\n\" + indentation):\n",
    "        s = \", \"                \n",
    "    s = s[:-2]\n",
    "    s = s + \")\\n\"\n",
    "    #print (s)\n",
    "    fc.write(s)\n",
    "    s = s[:-1] + \";\\n\"\n",
    "    fh.write(s)    # Function line\n",
    "    s = \"{\\n\"\n",
    "    fc.write(s)    # 2nd line: {\n",
    "    s = \"    FILE *fp;\\n\"    #declare file handler\n",
    "    fc.write(s)\n",
    "    s = \"    int ret;\\n\"    #declare return value    \n",
    "    fc.write(s)    \n",
    "    s = \"    \" + l[1] + \"  param;\\n\\n\"    #declaire the param\n",
    "    fc.write(s)\n",
    "    s = \"    memset( &param, 0, sizeof(\"+l[1]+\"));\\n\"\n",
    "    fc.write(s)\n",
    "    for p in paralist:    #give value of every input parameter\n",
    "        s = \"    param.\" + p[0] + \" = \" + p[1] + \";\\n\"\n",
    "        fc.write(s)\n",
    "    s = \"\\n    ret = \" + l[0] + (\"(pedev0, &param);\\n\\n\")    #call the function\n",
    "    fc.write(s)\n",
    "\n",
    "    s = \"    fp = fopen (fn, \\\"w+\\\");\\n\"    #save get values to file\n",
    "    fc.write(s)\n",
    "    s = \"    fprintf(fp, \\\"%s\\\\r\\\\n\\\", \\\"\" + l[0] + \"\\\");\\n\"    #print the fuction name\n",
    "    fc.write(s)\n",
    "    for para in struct[l[1]]:\n",
    "        if para[1][-1] != \"]\":    #none array value\n",
    "            s = \"    fprintf(fp, \\\"%s = 0x%x, %d\\\\r\\\\n\\\", \\\"\" + para[1] + \"\\\", param.\" + para[1] + \", param.\" + para[1] + \");\\n\"\n",
    "            fc.write(s)\n",
    "        else:               #print arry value to file as: name[n] = [xx, xx, xx, xx] \n",
    "            n = para[1][para[1].find(\"[\")+1:-1]\n",
    "            name = para[1][:para[1].find(\"[\")]      \n",
    "            s = \"    fprintf(fp, \\\"%s = [\\\", \\\"\"  + para[1] + \"\\\");\\n\"\n",
    "            fc.write(s)    \n",
    "            for nn in range(int(n)):\n",
    "                s = \"    fprintf(fp, \\\" 0x%02x\\\", \" + \"param.\" + name + \"[\" + str(nn) + \"]);\\n\"\n",
    "                fc.write(s)\n",
    "            s = \"    fprintf(fp, \\\"]\\\\r\\\\n\\\");\\n\"\n",
    "            fc.write(s)\n",
    "    s = \"    fclose(fp);\\n\"\n",
    "    fc.write(s)\n",
    "\n",
    "    s = \"\\n    return ret;\\n}\\n\\n\"\n",
    "    fc.write(s)\n",
    "    return\n",
    "\n",
    "\n",
    "'''\n",
    "'GSW_PCE_rule_t': [['GSW_PCE_pattern_t', 'pattern'],\n",
    "  ['GSW_PCE_action_t', 'action']],\n",
    "'''\n",
    "\n",
    "def cg45(line):\n",
    "    return\n",
    "\n",
    "for line in lines:\n",
    "    l = line.split()\n",
    "    if len(l) == 2:\n",
    "        i = 1\n",
    "    else:\n",
    "        i = 2\n",
    "    #print (l, i, len(l))\n",
    "    #print (l[i])\n",
    "    if l[i] == \"0\" or l[i] == \"1\" or l[i] == \"3\":\n",
    "        #print (\"calling cg01\")\n",
    "        cg013(line, i)\n",
    "    elif l[i] == \"2\":\n",
    "        cg2(line)\n",
    "    elif l[i] == \"4\" or l[i] == \"5\":\n",
    "        cg45(line)\n",
    "    else:\n",
    "        print (\"Something WRONG at line:\", line)        \n",
    "\n",
    "fc.close()\n",
    "fh.close()\n"
   ]
  },
  {
   "cell_type": "markdown",
   "metadata": {},
   "source": [
    "## Generate Switch.py\n",
    "\n",
    "def pyGSW_MAC_TableEntryRead(bInitial = 0, pr = 1):\n",
    "\n",
    "- ret = dict()\n",
    "\t\n",
    "- ret[\"ret\"] = sw.pyGSW_MAC_TableEntryRead(bInitial)"
   ]
  },
  {
   "cell_type": "code",
   "execution_count": 20,
   "metadata": {},
   "outputs": [],
   "source": [
    "fs = open(\"Switch_d.py\", \"w\")\n",
    "fh = open(\"gsw_api_func_d.h\", \"r\")\n",
    "indentation = \"          \"\n",
    "\n",
    "for line in fh.readlines():\n",
    "    l = line.split()\n",
    "    s = \"def py\" + l[0] + \"(\"\n",
    "    para = \"\"\n",
    "    para_w = \"\"\n",
    "    iter = 0\n",
    "    if len(l) != 2 and l[2] == \"0\":\n",
    "        iter = len(struct[l[1]])\n",
    "        for i in range(iter):\n",
    "            l.append(str(i))\n",
    "    elif len(l) != 2 and l[2] == \"2\":\n",
    "        iter = len(l)-3\n",
    "    for i in range(iter):\n",
    "        if len(s) > 100:\n",
    "            s = s + \"\\\\\\n\"\n",
    "            fs.write(s)\n",
    "            s = indentation\n",
    "        ll = struct[l[1]][int(l[i+3])][1]\n",
    "        intern = 1\n",
    "        if ll[-1] == \"]\":\n",
    "            intern = int(ll[ll.find(\"[\")+1:-1])\n",
    "            ll = ll[:ll.find(\"[\")]\n",
    "            s = s + ll + \" = [\"\n",
    "            for n in range(intern):\n",
    "                if len(s) > 100:\n",
    "                    s = s + \"\\\\\\n\"\n",
    "                    fs.write(s)\n",
    "                    s = indentation\n",
    "                s = s + \"0, \"\n",
    "            s = s[:-2] + \"], \"\n",
    "        else:\n",
    "            s = s + ll + \" = 0, \"\n",
    "\n",
    "        for n in range(intern):\n",
    "            if (len(para)) > 60:\n",
    "                para = para + \"\\\\\\n\"\n",
    "                para_w = para_w + para\n",
    "                para = indentation\n",
    "            if intern == 1:\n",
    "                para = para + ll + \", \"\n",
    "            else:\n",
    "                para = para + ll + \"[\" + str(n) + \"]\" + \", \"\n",
    "    if (len(para)) >= 2:\n",
    "        para = para[:-2]    \n",
    "    s = s + \"pr = 1):\\n\"\n",
    "    s = s + \"\tret = dict()\\n\"\n",
    "    s = s + \"\tret[\\\"ret\\\"] = sw.py\" + l[0] + \"(\" + para_w + para + \")\\n\\n\"\n",
    "\n",
    "    if len(l) == 2 or l[2] == \"0\":\n",
    "        s = s[:-1] + \"\treturn ret\\n\\n\"\n",
    "        fs.write(s)\n",
    "        continue\n",
    "    s = s + \"\tfo = open(fn, \\\"r\\\")\\n\tfor line in fo.readlines():\\n\t\tif len(line.split()) == 1:\\n\t\t\tline = line[:-1] + \\\"    ---    Return value: \\\" + nRet[ret[\\\"ret\\\"]] + \\\"\\\\n\\\"\\n\t\telse:\\n\t\t\tif line.split()[0][-1] == \\\"]\\\":\\n\t\t\t\ts = \\\"\\\"\\n\t\t\t\tfor i in line.split()[2:]:\\n\t\t\t\t\ts = s + i + \\\" \\\"\\n\t\t\t\tret[line.split()[0]] = s\\n\t\t\telse:\\n\t\t\t\tret[line.split()[0]] = line.split()[3]\\n\t\tif pr == 1:\\n\t\t\tprint (line[:-1])\\n\tfo.close()\\n\treturn ret\\n\\n\"\n",
    "    fs.write(s)\n",
    "\n",
    "fs.close()\n",
    "fh.close()\n",
    "\n",
    "\n"
   ]
  },
  {
   "cell_type": "code",
   "execution_count": 120,
   "metadata": {},
   "outputs": [
    {
     "ename": "TypeError",
     "evalue": "'_io.TextIOWrapper' object is not subscriptable",
     "output_type": "error",
     "traceback": [
      "\u001b[0;31m---------------------------------------------------------------------------\u001b[0m",
      "\u001b[0;31mTypeError\u001b[0m                                 Traceback (most recent call last)",
      "\u001b[0;32m<ipython-input-120-074e2d5a9c65>\u001b[0m in \u001b[0;36m<module>\u001b[0;34m\u001b[0m\n\u001b[1;32m      1\u001b[0m \u001b[0md\u001b[0m \u001b[0;34m=\u001b[0m \u001b[0mdict\u001b[0m\u001b[0;34m(\u001b[0m\u001b[0;34m)\u001b[0m\u001b[0;34m\u001b[0m\u001b[0;34m\u001b[0m\u001b[0m\n\u001b[0;32m----> 2\u001b[0;31m \u001b[0md\u001b[0m\u001b[0;34m[\u001b[0m\u001b[0mf\u001b[0m\u001b[0;34m[\u001b[0m\u001b[0;36m0\u001b[0m\u001b[0;34m]\u001b[0m\u001b[0;34m]\u001b[0m \u001b[0;34m=\u001b[0m \u001b[0mf\u001b[0m\u001b[0;34m[\u001b[0m\u001b[0;36m3\u001b[0m\u001b[0;34m]\u001b[0m\u001b[0;34m\u001b[0m\u001b[0;34m\u001b[0m\u001b[0m\n\u001b[0m\u001b[1;32m      3\u001b[0m \u001b[0md\u001b[0m\u001b[0;34m\u001b[0m\u001b[0;34m\u001b[0m\u001b[0m\n",
      "\u001b[0;31mTypeError\u001b[0m: '_io.TextIOWrapper' object is not subscriptable"
     ]
    }
   ],
   "source": [
    "d = dict()\n",
    "d[f[0]] = f[3]\n",
    "d"
   ]
  },
  {
   "cell_type": "code",
   "execution_count": 30,
   "metadata": {},
   "outputs": [
    {
     "data": {
      "text/plain": [
       "dict"
      ]
     },
     "execution_count": 30,
     "metadata": {},
     "output_type": "execute_result"
    }
   ],
   "source": [
    "type(d)"
   ]
  },
  {
   "cell_type": "code",
   "execution_count": 31,
   "metadata": {},
   "outputs": [
    {
     "data": {
      "text/plain": [
       "['a', 'b', [2, 'd'], 'e']"
      ]
     },
     "execution_count": 31,
     "metadata": {},
     "output_type": "execute_result"
    }
   ],
   "source": [
    "li=['a', 'b']   \n",
    "li.append([2,'d'])   \n",
    "li.append('e')   \n",
    "li"
   ]
  },
  {
   "cell_type": "code",
   "execution_count": 32,
   "metadata": {},
   "outputs": [
    {
     "data": {
      "text/plain": [
       "list"
      ]
     },
     "execution_count": 32,
     "metadata": {},
     "output_type": "execute_result"
    }
   ],
   "source": [
    "type(li)"
   ]
  },
  {
   "cell_type": "code",
   "execution_count": 42,
   "metadata": {},
   "outputs": [
    {
     "data": {
      "text/plain": [
       "'/*'"
      ]
     },
     "execution_count": 42,
     "metadata": {},
     "output_type": "execute_result"
    }
   ],
   "source": [
    "l = \"/*dfklj/*lhjlj\"\n",
    "l[0:2]"
   ]
  },
  {
   "cell_type": "code",
   "execution_count": 13,
   "metadata": {},
   "outputs": [
    {
     "data": {
      "text/plain": [
       "64"
      ]
     },
     "execution_count": 13,
     "metadata": {},
     "output_type": "execute_result"
    }
   ],
   "source": [
    "a = \"mac[64]\"\n",
    "b1 = a.find(\"[\")\n",
    "c = int(a[b1+1:-1])\n",
    "c"
   ]
  },
  {
   "cell_type": "code",
   "execution_count": null,
   "metadata": {},
   "outputs": [],
   "source": []
  }
 ],
 "metadata": {
  "kernelspec": {
   "display_name": "Python 3",
   "language": "python",
   "name": "python3"
  },
  "language_info": {
   "codemirror_mode": {
    "name": "ipython",
    "version": 3
   },
   "file_extension": ".py",
   "mimetype": "text/x-python",
   "name": "python",
   "nbconvert_exporter": "python",
   "pygments_lexer": "ipython3",
   "version": "3.7.3-final"
  }
 },
 "nbformat": 4,
 "nbformat_minor": 2
}