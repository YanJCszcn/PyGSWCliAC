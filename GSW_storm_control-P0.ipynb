{
 "cells": [
  {
   "cell_type": "markdown",
   "metadata": {},
   "source": [
    "## Tooling - GSW standalone board"
   ]
  },
  {
   "cell_type": "code",
   "execution_count": 1,
   "metadata": {},
   "outputs": [
    {
     "name": "stdout",
     "output_type": "stream",
     "text": [
      "module ser02.py: list_ports(), open_port(\"COMx\"), r(addr), w(addr, value), close_ports()\n",
      "COM14 - USB Serial Port (COM14)\n",
      "COM15 - USB Serial Port (COM15)\n",
      "COM16 - USB Serial Port (COM16)\n",
      "COM3 - Intel(R) Active Management Technology - SOL (COM3)\n",
      "COM17 - USB Serial Port (COM17)\n",
      "COM13 - USB Serial Port (COM13)\n",
      "Please input the port name (e.g. COMx): com13\n",
      "Open serial port at: com13\n",
      "('r(0xf383) = ', '03c0')\n",
      "('r(0xf384) = ', '003c')\n",
      "('w(0xf383) = ', '03c3')\n",
      "('w(0xf384) = ', '003f')\n"
     ]
    }
   ],
   "source": [
    "import Switch as sw"
   ]
  },
  {
   "cell_type": "markdown",
   "metadata": {},
   "source": [
    "#### Check if microcode enabled\n",
    "After microcode download, reg0x456 = 0x0008 (**the parser microcode is valid**), reg0x457 = 0x0201 (**bit1=0 PCE is enabled**).\n",
    "\n",
    "Without microcode downloaded, reg0x456 = 0x0000, reg0x457 = 0x0001\n",
    "\n",
    "0x456 bit 3\n",
    "<img src=\"GSW_reg0x456_bit3.PNG\">"
   ]
  },
  {
   "cell_type": "code",
   "execution_count": null,
   "metadata": {},
   "outputs": [],
   "source": [
    "print (hex(sw.r(0xf383)))\n",
    "print (hex(sw.r(0xf384)))\n",
    "print (hex(sw.r(0x456)))\n",
    "print (hex(sw.r(0x457)))"
   ]
  },
  {
   "cell_type": "markdown",
   "metadata": {},
   "source": [
    "#### Download microcode\n",
    "It takes 25sec."
   ]
  },
  {
   "cell_type": "code",
   "execution_count": 3,
   "metadata": {},
   "outputs": [
    {
     "name": "stdout",
     "output_type": "stream",
     "text": [
      "finished.\n"
     ]
    }
   ],
   "source": [
    "sw.pyGSW_HW_Init()\n",
    "print \"finished.\""
   ]
  },
  {
   "cell_type": "markdown",
   "metadata": {},
   "source": [
    "#### Global Switch Macro Hardware Reset\n",
    "\n",
    "Reset all hardware modules including the register settings. This reset\n",
    "acts similar to the hardware reset and is cleared by HW after Reset is\n",
    "executed.\n",
    "reg 0xF400 = 0x0002"
   ]
  },
  {
   "cell_type": "code",
   "execution_count": null,
   "metadata": {},
   "outputs": [],
   "source": [
    "sw.w(0xf400, 2)"
   ]
  },
  {
   "cell_type": "markdown",
   "metadata": {},
   "source": [
    "#### Reconnect the serial port \n",
    "And enable the UART - MDIO bridge"
   ]
  },
  {
   "cell_type": "code",
   "execution_count": null,
   "metadata": {},
   "outputs": [],
   "source": [
    "sw.rc()"
   ]
  },
  {
   "cell_type": "markdown",
   "metadata": {},
   "source": [
    "#### Close the serial port"
   ]
  },
  {
   "cell_type": "code",
   "execution_count": null,
   "metadata": {},
   "outputs": [],
   "source": [
    "sw.s.close_port()"
   ]
  },
  {
   "cell_type": "markdown",
   "metadata": {},
   "source": [
    "#### Port summary"
   ]
  },
  {
   "cell_type": "code",
   "execution_count": null,
   "metadata": {},
   "outputs": [],
   "source": [
    "for a in range(4):\n",
    "    sw.Phy_sum(a)\n",
    "    print (\" \")"
   ]
  },
  {
   "cell_type": "markdown",
   "metadata": {},
   "source": [
    "#### Set the counter type for port n"
   ]
  },
  {
   "cell_type": "code",
   "execution_count": null,
   "metadata": {},
   "outputs": [],
   "source": [
    "sw.set_counter(0)"
   ]
  },
  {
   "cell_type": "markdown",
   "metadata": {},
   "source": [
    "#### List of capabilities"
   ]
  },
  {
   "cell_type": "code",
   "execution_count": 4,
   "metadata": {},
   "outputs": [
    {
     "name": "stdout",
     "output_type": "stream",
     "text": [
      "Number of Ethernet ports : 7\r\n",
      "\n",
      "Number of virtual ports : 6\r\n",
      "\n",
      "Pcket buffer size[in Bytes]: : 131072\r\n",
      "\n",
      "Buffer Segment size: : 256\r\n",
      "\n",
      "Number of queues: : 32\r\n",
      "\n",
      "Number of traffic meters: : 16\r\n",
      "\n",
      "Number of rate shapers: : 32\r\n",
      "\n",
      "Number of VLAN groups: : 64\r\n",
      "\n",
      "Number of FIDs: : 64\r\n",
      "\n",
      "Number of MAC entries: : 2048\r\n",
      "\n",
      "Number of multicast entries : 64\r\n",
      "\n",
      "Number of PPPoE sessions: : 16\r\n",
      "\n",
      "Number of STAG VLAN groups: : 64\r\n",
      "\n",
      "The end of capability list.  : 0\r\n",
      "\n"
     ]
    }
   ],
   "source": [
    "a = 0\n",
    "while sw.pyGSW_CapGet(a)==0:\n",
    "    a = a+1"
   ]
  },
  {
   "cell_type": "markdown",
   "metadata": {},
   "source": [
    "#### The used APIs for storm control\n",
    "\n",
    "sw.pyGSW_QoS_MeterCfgSet(en, mid, cbs, ebs, rate)\n",
    "\n",
    "pyGSW_QoS_MeterPortAssign(mid, dir, piid, peid)  - dir:0 None, 1 Ingress, 2 Egress, 3 Both. \n",
    "\n",
    "pyGSW_QoS_StormCfgSet(mid, bc, mc, uc)\n",
    "\n",
    "pyGSW_QoS_WredCfgSet(pf, tm, redmin, redmax, yellowmin, yellowmax, greenmin, greenmax)"
   ]
  },
  {
   "cell_type": "code",
   "execution_count": null,
   "metadata": {},
   "outputs": [],
   "source": [
    "#50Mbps\n",
    "#sw.pyGSW_QoS_MeterCfgSet(1, 0, 500, 0, 50*1024)#port 0 ingress\n",
    "#sw.pyGSW_QoS_MeterPortAssign(0, 1, 0, 0)"
   ]
  },
  {
   "cell_type": "code",
   "execution_count": null,
   "metadata": {},
   "outputs": [],
   "source": [
    "#sw.pyGSW_QoS_MeterCfgSet(1, 1, 500, 0, 50*1024)\n",
    "#port 3 ingress\n",
    "#sw.pyGSW_QoS_MeterPortAssign(0, 1, 3, 0)"
   ]
  },
  {
   "cell_type": "code",
   "execution_count": null,
   "metadata": {},
   "outputs": [],
   "source": [
    "#50Mbps\n",
    "sw.pyGSW_QoS_MeterCfgSet(1, 0, 500, 0, 50*1024)\n",
    "sw.pyGSW_QoS_StormCfgSet(0, 1, 1, 1)\n",
    "sw.pyGSW_QoS_WredCfgSet(0, 0, 0, 0, 0, 0, 0xffff, 0xffff)"
   ]
  },
  {
   "cell_type": "code",
   "execution_count": null,
   "metadata": {},
   "outputs": [],
   "source": []
  },
  {
   "cell_type": "code",
   "execution_count": null,
   "metadata": {},
   "outputs": [],
   "source": []
  },
  {
   "cell_type": "markdown",
   "metadata": {},
   "source": [
    "#### 2 * EASY GPY211 back to back throughput test\n",
    "Use 3 ports (port 0, 2, 3) of GWT140 as trunk to connect 2 * EASY GPY211. Configure:\n",
    "\n",
    "**Board #0:** \n",
    "\n",
    "MAC_TableEntryAdd 0 0 1000000 0 1 0 00:22:A2:00:00:01\n",
    "\n",
    "MAC_TableEntryAdd 0 2 1000000 0 1 0 00:22:A2:00:00:03\n",
    "\n",
    "MAC_TableEntryAdd 0 3 1000000 0 1 0 00:22:A2:00:00:05\n",
    "\n",
    "MAC_TableEntryAdd 0 4 1000000 0 1 0 00:22:A2:00:00:00\n",
    "\n",
    "MAC_TableEntryAdd 0 4 1000000 0 1 0 00:22:A2:00:00:02\n",
    "\n",
    "MAC_TableEntryAdd 0 4 1000000 0 1 0 00:22:A2:00:00:04\n",
    "\n",
    "Traffic input from Port 4, the 2.5G PHY, des MAC are 00:22:A2:00:00:01/03/05\n",
    "\n",
    "**Board #1:** \n",
    "\n",
    "MAC_TableEntryAdd 0 0 1000000 0 1 0 00:22:A2:00:00:00\n",
    "\n",
    "MAC_TableEntryAdd 0 2 1000000 0 1 0 00:22:A2:00:00:02\n",
    "\n",
    "MAC_TableEntryAdd 0 3 1000000 0 1 0 00:22:A2:00:00:04\n",
    "\n",
    "MAC_TableEntryAdd 0 4 1000000 0 1 0 00:22:A2:00:00:01\n",
    "\n",
    "MAC_TableEntryAdd 0 4 1000000 0 1 0 00:22:A2:00:00:03\n",
    "\n",
    "MAC_TableEntryAdd 0 4 1000000 0 1 0 00:22:A2:00:00:05\n",
    "\n",
    "Traffic input from Port 4, the 2.5G PHY, des MAC are 00:22:A2:00:00:00/02/04\n",
    "\n",
    "pyGSW_MAC_TableEntryAdd(nFId, nPortId, nAgeTimer, nSVLAN_Id, bStaticEntry, nTrafficClass, nMAC_0, nMAC_1, nMAC_2, nMAC_3, nMAC_4, nMAC_5):\n"
   ]
  },
  {
   "cell_type": "code",
   "execution_count": null,
   "metadata": {},
   "outputs": [],
   "source": [
    "#Board #0\n",
    "for a in range(1):\n",
    "    sw.pyGSW_MAC_TableEntryAdd(0, 0, 1000000, 0, 1, 0, 0x0, 0x22, 0xa2, 0x00, 0x00, 0x01+a*8)\n",
    "    sw.pyGSW_MAC_TableEntryAdd(0, 1, 1000000, 0, 1, 0, 0x0, 0x22, 0xa2, 0x00, 0x00, 0x03+a*8)\n",
    "    sw.pyGSW_MAC_TableEntryAdd(0, 2, 1000000, 0, 1, 0, 0x0, 0x22, 0xa2, 0x00, 0x00, 0x05+a*8)\n",
    "    sw.pyGSW_MAC_TableEntryAdd(0, 3, 1000000, 0, 1, 0, 0x0, 0x22, 0xa2, 0x00, 0x00, 0x07+a*8)\n",
    "    sw.pyGSW_MAC_TableEntryAdd(0, 4, 1000000, 0, 1, 0, 0x0, 0x22, 0xa2, 0x00, 0x00, 0x00+a*8)\n",
    "    sw.pyGSW_MAC_TableEntryAdd(0, 4, 1000000, 0, 1, 0, 0x0, 0x22, 0xa2, 0x00, 0x00, 0x02+a*8)\n",
    "    sw.pyGSW_MAC_TableEntryAdd(0, 4, 1000000, 0, 1, 0, 0x0, 0x22, 0xa2, 0x00, 0x00, 0x04+a*8)\n",
    "    sw.pyGSW_MAC_TableEntryAdd(0, 4, 1000000, 0, 1, 0, 0x0, 0x22, 0xa2, 0x00, 0x00, 0x06+a*8)"
   ]
  },
  {
   "cell_type": "code",
   "execution_count": null,
   "metadata": {},
   "outputs": [],
   "source": [
    "#Board #1\n",
    "for a in range(1):\n",
    "    sw.pyGSW_MAC_TableEntryAdd(0, 0, 1000000, 0, 1, 0, 0x0, 0x22, 0xa2, 0x00, 0x00, 0x00+a*8)\n",
    "    sw.pyGSW_MAC_TableEntryAdd(0, 1, 1000000, 0, 1, 0, 0x0, 0x22, 0xa2, 0x00, 0x00, 0x02+a*8)\n",
    "    sw.pyGSW_MAC_TableEntryAdd(0, 2, 1000000, 0, 1, 0, 0x0, 0x22, 0xa2, 0x00, 0x00, 0x04+a*8)\n",
    "    sw.pyGSW_MAC_TableEntryAdd(0, 3, 1000000, 0, 1, 0, 0x0, 0x22, 0xa2, 0x00, 0x00, 0x06+a*8)\n",
    "    sw.pyGSW_MAC_TableEntryAdd(0, 4, 1000000, 0, 1, 0, 0x0, 0x22, 0xa2, 0x00, 0x00, 0x01+a*8)\n",
    "    sw.pyGSW_MAC_TableEntryAdd(0, 4, 1000000, 0, 1, 0, 0x0, 0x22, 0xa2, 0x00, 0x00, 0x03+a*8)\n",
    "    sw.pyGSW_MAC_TableEntryAdd(0, 4, 1000000, 0, 1, 0, 0x0, 0x22, 0xa2, 0x00, 0x00, 0x05+a*8)\n",
    "    sw.pyGSW_MAC_TableEntryAdd(0, 4, 1000000, 0, 1, 0, 0x0, 0x22, 0xa2, 0x00, 0x00, 0x07+a*8)"
   ]
  },
  {
   "cell_type": "code",
   "execution_count": null,
   "metadata": {
    "scrolled": false
   },
   "outputs": [],
   "source": [
    "sw.pyGSW_MAC_TableEntryRead(1)\n",
    "for a in range(100):\n",
    "    if sw.pyGSW_MAC_TableEntryRead(0) == 1:\n",
    "        break"
   ]
  },
  {
   "cell_type": "markdown",
   "metadata": {},
   "source": [
    "#### Play around"
   ]
  },
  {
   "cell_type": "code",
   "execution_count": null,
   "metadata": {},
   "outputs": [],
   "source": [
    "print (hex(sw.mdior(0, 0x15)))\n",
    "print (hex(sw.mdior(0, 3)))"
   ]
  },
  {
   "cell_type": "code",
   "execution_count": null,
   "metadata": {},
   "outputs": [],
   "source": [
    "sw.pyGSW_PceRuleReadf(0, 0)"
   ]
  },
  {
   "cell_type": "code",
   "execution_count": null,
   "metadata": {},
   "outputs": [],
   "source": []
  }
 ],
 "metadata": {
  "kernelspec": {
   "display_name": "Python 2",
   "language": "python",
   "name": "python2"
  },
  "language_info": {
   "codemirror_mode": {
    "name": "ipython",
    "version": 2
   },
   "file_extension": ".py",
   "mimetype": "text/x-python",
   "name": "python",
   "nbconvert_exporter": "python",
   "pygments_lexer": "ipython2",
   "version": "2.7.17"
  }
 },
 "nbformat": 4,
 "nbformat_minor": 2
}
