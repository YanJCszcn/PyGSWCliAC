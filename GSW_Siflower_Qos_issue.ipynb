{
 "cells": [
  {
   "cell_type": "markdown",
   "metadata": {},
   "source": [
    "## Tooling - GSW standalone board"
   ]
  },
  {
   "cell_type": "code",
   "execution_count": 1,
   "metadata": {
    "tags": []
   },
   "outputs": [
    {
     "name": "stdout",
     "output_type": "stream",
     "text": [
      "module ser02.py: list_ports(), open_port(\"COMx\"), r(addr), w(addr, value), close_ports()\n",
      "device: /dev/ttyS0\n",
      "name: ttyS0\n",
      "description: n/a\n",
      "device_path: /sys/devices/platform/soc/fe215040.serial\n",
      "hwid: n/a\n",
      "subsystem: platform\n",
      "\n",
      "device: /dev/ttyUSB3\n",
      "name: ttyUSB3\n",
      "description: Quad RS232-HS\n",
      "device_path: /sys/devices/platform/scb/fd500000.pcie/pci0000:00/0000:00:00.0/0000:01:00.0/usb1/1-1/1-1.3/1-1.3:1.3/ttyUSB3\n",
      "hwid: USB VID:PID=0403:6011 LOCATION=1-1.3:1.3\n",
      "subsystem: usb-serial\n",
      "\n",
      "device: /dev/ttyUSB2\n",
      "name: ttyUSB2\n",
      "description: Quad RS232-HS\n",
      "device_path: /sys/devices/platform/scb/fd500000.pcie/pci0000:00/0000:00:00.0/0000:01:00.0/usb1/1-1/1-1.3/1-1.3:1.2/ttyUSB2\n",
      "hwid: USB VID:PID=0403:6011 LOCATION=1-1.3:1.2\n",
      "subsystem: usb-serial\n",
      "\n",
      "device: /dev/ttyUSB1\n",
      "name: ttyUSB1\n",
      "description: Quad RS232-HS\n",
      "device_path: /sys/devices/platform/scb/fd500000.pcie/pci0000:00/0000:00:00.0/0000:01:00.0/usb1/1-1/1-1.3/1-1.3:1.1/ttyUSB1\n",
      "hwid: USB VID:PID=0403:6011 LOCATION=1-1.3:1.1\n",
      "subsystem: usb-serial\n",
      "\n",
      "device: /dev/ttyUSB0\n",
      "name: ttyUSB0\n",
      "description: Quad RS232-HS\n",
      "device_path: /sys/devices/platform/scb/fd500000.pcie/pci0000:00/0000:00:00.0/0000:01:00.0/usb1/1-1/1-1.3/1-1.3:1.0/ttyUSB0\n",
      "hwid: USB VID:PID=0403:6011 LOCATION=1-1.3:1.0\n",
      "subsystem: usb-serial\n",
      "\n",
      "device: /dev/ttyAMA1\n",
      "name: ttyAMA1\n",
      "description: ttyAMA1\n",
      "device_path: /sys/devices/platform/soc/fe201600.serial\n",
      "hwid: fe201600.serial\n",
      "subsystem: amba\n",
      "\n",
      "device: /dev/ttyAMA0\n",
      "name: ttyAMA0\n",
      "description: ttyAMA0\n",
      "device_path: /sys/devices/platform/soc/fe201000.serial\n",
      "hwid: fe201000.serial\n",
      "subsystem: amba\n",
      "\n",
      "/dev/ttyS0 - n/a\n",
      "/dev/ttyUSB3 - Quad RS232-HS\n",
      "/dev/ttyUSB2 - Quad RS232-HS\n",
      "/dev/ttyUSB1 - Quad RS232-HS\n",
      "/dev/ttyUSB0 - Quad RS232-HS\n",
      "/dev/ttyAMA1 - ttyAMA1\n",
      "/dev/ttyAMA0 - ttyAMA0\n",
      "Please input the port name (e.g. COMx): /dev/ttyUSB1\n",
      "Open serial port at: /dev/ttyUSB1\n",
      "r(0xfa10) = 0x1713\n",
      "r(0xfa11) = 0x3003\n",
      "r(0xf383) =  03c0\n",
      "r(0xf384) =  003c\n",
      "w(0xf383) =  03c3\n",
      "w(0xf384) =  003f\n"
     ]
    }
   ],
   "source": [
    "import Switch as sw"
   ]
  },
  {
   "cell_type": "code",
   "execution_count": 3,
   "metadata": {},
   "outputs": [
    {
     "name": "stdout",
     "output_type": "stream",
     "text": [
      "3758096384\n",
      "0xe0000000\n",
      "0x7fffffff\n"
     ]
    }
   ],
   "source": [
    "import sys\n",
    "print (224*0x1000000)\n",
    "print (\"%#x\"%(224*0x1000000))\n",
    "print (\"%#x\"%sys.maxsize)"
   ]
  },
  {
   "cell_type": "markdown",
   "metadata": {},
   "source": [
    "#### Check if microcode enabled\n",
    "After microcode download, reg0x456 = 0x0008 (**the parser microcode is valid**), reg0x457 = 0x0201 (**bit1=0 PCE is enabled**).\n",
    "\n",
    "Without microcode downloaded, reg0x456 = 0x0000, reg0x457 = 0x0001\n",
    "\n",
    "0x456 bit 3\n",
    "<img src=\"GSW_reg0x456_bit3.PNG\">"
   ]
  },
  {
   "cell_type": "code",
   "execution_count": 2,
   "metadata": {},
   "outputs": [
    {
     "name": "stdout",
     "output_type": "stream",
     "text": [
      "0x03c3\n",
      "0x003f\n",
      "0x0000\n",
      "0x0001\n"
     ]
    }
   ],
   "source": [
    "print (\"0x%04x\"%sw.r(0xf383))\n",
    "print (\"0x%04x\"%sw.r(0xf384))\n",
    "print (\"0x%04x\"%sw.r(0x456))\n",
    "print (\"0x%04x\"%sw.r(0x457))"
   ]
  },
  {
   "cell_type": "markdown",
   "metadata": {},
   "source": [
    "#### Download microcode\n",
    "It takes 25sec."
   ]
  },
  {
   "cell_type": "code",
   "execution_count": 2,
   "metadata": {},
   "outputs": [
    {
     "name": "stdout",
     "output_type": "stream",
     "text": [
      "finished.\n"
     ]
    }
   ],
   "source": [
    "sw.pyGSW_HW_Init()\n",
    "print (\"finished.\")"
   ]
  },
  {
   "cell_type": "markdown",
   "metadata": {},
   "source": [
    "### Set port 0 egress rate shaping\n",
    "Port 0 default queue 0 <- rate shaping ID 0.\n",
    "\n",
    "- pyGSW_QoS_ShaperCfgSet:  nRateShaperId = 0, bEnable = 0, bAVB = 0, nCbs = 0, nRate = 0\n",
    "- pyGSW_QoS_ShaperQueueAssign(nRateShaperId = 0, nQueueId = 0, pr = 1):"
   ]
  },
  {
   "cell_type": "code",
   "execution_count": 30,
   "metadata": {},
   "outputs": [
    {
     "data": {
      "text/plain": [
       "{'ret': 0}"
      ]
     },
     "execution_count": 30,
     "metadata": {},
     "output_type": "execute_result"
    }
   ],
   "source": [
    "'''\n",
    "for tc in range(16):\n",
    "    sw.pyGSW_QoS_QueuePortGet(1, tc)\n",
    "'''\n",
    "sw.pyGSW_QoS_ShaperCfgSet(0, 1, 0, 2000, 38*1024)\n",
    "sw.pyGSW_QoS_ShaperQueueAssign(0, 0)\n",
    "sw.pyGSW_QoS_ShaperQueueAssign(0, 1)\n",
    "sw.pyGSW_QoS_ShaperQueueAssign(0, 2)\n",
    "sw.pyGSW_QoS_ShaperQueueAssign(0, 3)\n"
   ]
  },
  {
   "cell_type": "markdown",
   "metadata": {},
   "source": [
    "### Test PCP QoS\n",
    "- pyGSW_QoS_PortCfgSet(nPortId = 0, eClassMode = 0, nTrafficClass = 0, \n",
    "- pyGSW_QoS_SchedulerCfgSet(nQueueId = 0, eType = 0, nWeight = 0,"
   ]
  },
  {
   "cell_type": "code",
   "execution_count": 29,
   "metadata": {},
   "outputs": [
    {
     "name": "stdout",
     "output_type": "stream",
     "text": [
      "{'ret': 0}\n",
      "{'ret': 0}\n"
     ]
    }
   ],
   "source": [
    "#pcp_tc = [0,0,0,0,0,2,0,0]\n",
    "#print (sw.pyGSW_QoS_PCP_ClassSet(7, pcp_tc))\n",
    "print (sw.pyGSW_QoS_PortCfgSet(1,0,2))\n",
    "print (sw.pyGSW_QoS_SchedulerCfgSet(2, 0, 0xfffe))\n",
    "#print (sw.pyGSW_QoS_SchedulerCfgSet(2, 0, 0))"
   ]
  },
  {
   "cell_type": "code",
   "execution_count": 3,
   "metadata": {},
   "outputs": [
    {
     "name": "stdout",
     "output_type": "stream",
     "text": [
      "GSW_QoS_SchedulerCfgGet    ---    Return value: GSW_statusOk \n",
      "nQueueId = 0x0, 0 \n",
      "eType = 0x0, 0 GSW_QOS_SCHEDULER_STRICT  [GSW_QoS_Scheduler_t]\n",
      "nWeight = 0x1800, 6144 \n",
      "\n",
      "GSW_QoS_SchedulerCfgGet    ---    Return value: GSW_statusOk \n",
      "nQueueId = 0x2, 2 \n",
      "eType = 0x0, 0 GSW_QOS_SCHEDULER_STRICT  [GSW_QoS_Scheduler_t]\n",
      "nWeight = 0x1800, 6144 \n"
     ]
    },
    {
     "data": {
      "text/plain": [
       "{'ret': 0, 'nQueueId': '2', 'eType': '0', 'nWeight': '6144'}"
      ]
     },
     "execution_count": 3,
     "metadata": {},
     "output_type": "execute_result"
    }
   ],
   "source": [
    "sw.pyGSW_QoS_SchedulerCfgGet(0)\n",
    "print(\"\")\n",
    "sw.pyGSW_QoS_SchedulerCfgGet(2)"
   ]
  },
  {
   "cell_type": "markdown",
   "metadata": {},
   "source": [
    "- pyGSW_QoS_MeterCfgSet(bEnable, nMeterId, nCbs, nEbs, nRate)\n",
    "- pyGSW_QoS_MeterPortAssign(nMeterId, eDir, nPortIngressId, nPortEgressId)\n",
    "- pyGSW_QoS_WredCfgSet(eProfile, eThreshMode, nRed_Min, nRed_Max, nYellow_Min, nYellow_Max, nGreen_Min, nGreen_Max)\n",
    "- pyGSW_QoS_WredPortCfgSet(nPortId, nRed_Min, nRed_Max, nYellow_Min, nYellow_Max, nGreen_Min, nGreen_Max)"
   ]
  },
  {
   "cell_type": "code",
   "execution_count": 26,
   "metadata": {},
   "outputs": [
    {
     "name": "stdout",
     "output_type": "stream",
     "text": [
      "{'ret': 0}\n",
      "{'ret': 0}\n",
      "{'ret': 0}\n"
     ]
    }
   ],
   "source": [
    "print (sw.pyGSW_QoS_MeterCfgSet(1, 4, 4000, 4000, 50*1024))\n",
    "print (sw.pyGSW_QoS_MeterPortAssign(4, 2, 0, 0))\n",
    "\n",
    "print (sw.pyGSW_QoS_WredPortCfgSet(0, 0,0,0,0,65536,65536))\n",
    "\n",
    "#print (sw.pyGSW_QoS_MeterCfgSet(1, 0, 4000, 4000, 50*1024))\n",
    "#print (sw.pyGSW_QoS_MeterPortAssign(0, 1, 0, 0))\n",
    "\n",
    "#print( sw.pyGSW_QoS_WredCfgSet(0,0,0,0,0,0,65536,65536))"
   ]
  },
  {
   "cell_type": "markdown",
   "metadata": {},
   "source": [
    "#### List of capabilities"
   ]
  },
  {
   "cell_type": "code",
   "execution_count": 3,
   "metadata": {},
   "outputs": [
    {
     "name": "stdout",
     "output_type": "stream",
     "text": [
      "Number of Ethernet ports 7\n",
      "Number of virtual ports 6\n",
      "Pcket buffer size[in Bytes]: 131072\n",
      "Buffer Segment size: 256\n",
      "Number of queues: 32\n",
      "Number of traffic meters: 16\n",
      "Number of rate shapers: 32\n",
      "Number of VLAN groups: 64\n",
      "Number of FIDs: 64\n",
      "Number of MAC entries: 2048\n",
      "Number of multicast entries 64\n",
      "Number of PPPoE sessions: 16\n",
      "Number of STAG VLAN groups: 64\n",
      " 0\n"
     ]
    }
   ],
   "source": [
    "ret = {\"nCapType\": \"0\"}\n",
    "a = 0\n",
    "while ret[\"nCapType\"]!=\"13\":\n",
    "    ret = sw.pyGSW_CapGet(a, pr=0)\n",
    "    #print ( \"nCapType\", ret[\"nCapType\"])\n",
    "    desc = ret[\"cDesc[128]\"][2:-1].split()\n",
    "    cap = \"\"\n",
    "    for s in desc:\n",
    "        if (s == \"0x00\"):\n",
    "            break\n",
    "        else:\n",
    "            cap = cap + (bytes.fromhex(s[2:]).decode('utf-8'))\n",
    "    print (cap, ret[\"nCap\"])\n",
    "    a = a+1"
   ]
  },
  {
   "cell_type": "markdown",
   "metadata": {},
   "source": [
    "#### MAC Table read\n",
    "| Device            | MAC addr          |\n",
    "| ----------------- |:-----------------:|\n",
    "| HP_Z2 I915        | 84:a9:3e:71:dd:95 |\n",
    "| Tektronix MDO3054 | 08:00:11:21:f9:61 |\n",
    "| DELL_YJCH_Home    | 14:fe:b5:b4:37:9f |\n",
    "| 550XT2.p0         | b4:96:91:60:40:f0 |\n",
    "| 550XT2.p1         | b4:96:91:60:40:f1 |\n",
    "| Thinkpad 1G       | 98:fa:9b:a9:e6:b2 |\n"
   ]
  },
  {
   "cell_type": "code",
   "execution_count": 33,
   "metadata": {
    "scrolled": false
   },
   "outputs": [
    {
     "name": "stdout",
     "output_type": "stream",
     "text": [
      "ret =  GSW_statusOk\n",
      "nMAC[6] = [ 0xb4 0x96 0x91 0x60 0x40 0xf0]  , Pid = 2 , nFId = 0 , nAgeTimer = 300\n",
      "nMAC[6] = [ 0xb4 0x96 0x91 0x76 0xff 0x35]  , Pid = 1 , nFId = 0 , nAgeTimer = 300\n"
     ]
    }
   ],
   "source": [
    "ret = sw.pyGSW_MAC_TableEntryRead(1, pr = 0)\n",
    "print (\"ret = \", sw.nRet[ret[\"ret\"]])\n",
    "for a in range(100):\n",
    "    print (\"nMAC[6] =\", ret[\"nMAC[6]\"], \", Pid =\", ret[\"nPortId\"], \", nFId =\", ret[\"nFId\"], \", nAgeTimer =\", ret[\"nAgeTimer\"], )\n",
    "    if int(ret[\"bLast\"]) == 1:\n",
    "        break\n",
    "    ret = sw.pyGSW_MAC_TableEntryRead(0, pr=0)\n",
    "    "
   ]
  },
  {
   "cell_type": "code",
   "execution_count": 10,
   "metadata": {},
   "outputs": [
    {
     "name": "stdout",
     "output_type": "stream",
     "text": [
      "GSW_PortCfgGet    ---    Return value: GSW_statusOk \n",
      "nPortId = 0x0, 0 \n",
      "eEnable = 0x1, 1 GSW_PORT_ENABLE_RXTX  [GSW_portEnable_t]\n",
      "bUnicastUnknownDrop = 0x0, 0 \n",
      "bMulticastUnknownDrop = 0x0, 0 \n",
      "bReservedPacketDrop = 0x0, 0 \n",
      "bBroadcastDrop = 0x0, 0 \n",
      "bAging = 0x0, 0 \n",
      "bLearning = 0x0, 0 \n",
      "bLearningMAC_PortLock = 0x0, 0 \n",
      "nLearningLimit = 0xff, 255 \n",
      "bMAC_SpoofingDetection = 0x0, 0 \n",
      "eFlowCtrl = 0x1, 1 GSW_FLOW_RX  [GSW_portFlow_t]\n",
      "ePortMonitor = 0x0, 0 GSW_PORT_MONITOR_NONE  [GSW_portMonitor_t]\n"
     ]
    }
   ],
   "source": [
    "ret = sw.pyGSW_PortCfgGet(0)"
   ]
  },
  {
   "cell_type": "code",
   "execution_count": 7,
   "metadata": {},
   "outputs": [
    {
     "name": "stdout",
     "output_type": "stream",
     "text": [
      "16777216\n"
     ]
    },
    {
     "data": {
      "text/plain": [
       "{'ret': 0}"
      ]
     },
     "execution_count": 7,
     "metadata": {},
     "output_type": "execute_result"
    }
   ],
   "source": [
    "pce = sw.clear_pce_data()\n",
    "p = pce[0]\n",
    "a = pce[1]\n",
    "p[\"nIndex\"] = 0\n",
    "p[\"bEnable\"] = 1\n",
    "p[\"bPordIdEnable\"] = 1\n",
    "p[\"nPortId\"] = 4\n",
    "p[\"bDstIP_Select\"] = 1\n",
    "p[\"nDstIPipv4\"] = 1*0x1000000\n",
    "print (p[\"nDstIPipv4\"])\n",
    "p[\"nDstIP_Mask\"] = 0x7e\n",
    "a[\"ePortMapAction\"] = 4\n",
    "a[\"nForwardPortMap\"] = 0x40\n",
    "a[\"bPortBitMapMuxControl\"] = 0\n",
    "sw.pyGSW_PceRuleWrite(p, a)"
   ]
  },
  {
   "cell_type": "code",
   "execution_count": 13,
   "metadata": {},
   "outputs": [
    {
     "name": "stdout",
     "output_type": "stream",
     "text": [
      "param.pattern.nDstIP.nIPv4 = 00000000, 0 \n",
      "PCE rule index 1, enabled = 1\n",
      "pattern:\n",
      "   , bPortIdEnable = 0, nPortId = 0\n",
      "   , bDSCP_Enable = 0, nDSCP = 0\n",
      "   , bPCP_Enable = 0, nPCP = 0\n",
      "   , bSTAG_PCP_DEI_Enable = 0, nSTAG_PCP_DEI = 0\n",
      "   , bPktLngEnable = 0, nPktLng = 0, nPktLngRange = 0\n",
      "   , bMAC_DstEnable = 0, nMAC_Dst = 00:00:00:00:00:00, nMAC_DstMask = 0\n",
      "   , bMAC_SrcEnable = 0, nMAC_Src = 00:00:00:00:00:00, nMAC_SrcMask = 0\n",
      "   , bAppDataMSB_Enable = 0, nAppDataMSB = 0\n",
      "   , bAppMaskRangeMSB_Select = 0, nAppMaskRangeMSB = 0\n",
      "   , bAppDataLSB_Enable = 0, nAppDataLSB = 0\n",
      "   , bAppMaskRangeLSB_Select = 0, nAppMaskRangeLSB = 0\n",
      "   , eDstIP_Select = 0, nDstIPipv4 = 0.0.0.0, nDstIPipv6 = 0000:0000:0000:0000, nDstIP_Mask = 0\n",
      "   , eSrcIP_Select = 0, nSrcIPipv4 = 0.0.0.0, nSrcIPipv6 = 0000:0000:0000:0000, nSrcIP_Mask = 0\n",
      "   , bEtherTypeEnable = 0, nEtherType = 0, nEtherTypeMask = 0\n",
      "   , bProtocolEnable = 0, nProtocol = 0, nProtocolMask = 0\n",
      "   , bSessionIdEnable = 0, nSessionId = 0, bVid = 0, nVid = 0\n",
      "   , bVidRange_Select = 0, nVidRange = 0, bSLAN_Vid = 0, nSLAN_Vid = 0\n",
      "Action:\n",
      "   , eTrafficClassAction = 0, nTrafficClassAlternate = 0\n",
      "   , eSnoopingTypeAction = 0\n",
      "   , eLearningAction = 0\n",
      "   , eIrqAction = 0\n",
      "   , eCrossStateAction = 0\n",
      "   , eCritFrameAction = 0\n",
      "   , eTimestampAction = 0\n",
      "   , ePortMapAction = 4, nForwardPortMap = 64\n",
      "   , bRemarkAction = 0, bRemarkPCP = 0, bRemarkSTAG_PCP = 0, bRemarkSTAG_DEI = 0, bRemarkDSCP = 0, bRemarkClass = 0\n",
      "   , eMeterAction = 0, nMeterId = 0\n",
      "   , bRMON_Action = 0, nRMON_Id = 0\n",
      "   , eVLAN_Action = 0, nVLAN_Id = 0, nFId = 0\n",
      "   , eSVLAN_Action = 0, nSVLAN_Id = 0\n",
      "   , eVLAN_CrossAction = 0, bCVLAN_Ignore_Control = 0, bPortBitMapMuxControl = 0\n",
      "   , bPortTrunkAction = 0, bPortLinkSelection = 0\n",
      "   , bFlowID_Action = 0, nFlowID = 0\n",
      "\n"
     ]
    },
    {
     "data": {
      "text/plain": [
       "{'ret': 0}"
      ]
     },
     "execution_count": 13,
     "metadata": {},
     "output_type": "execute_result"
    }
   ],
   "source": [
    "sw.pyGSW_PceRuleRead(1)"
   ]
  },
  {
   "cell_type": "markdown",
   "metadata": {},
   "source": [
    "#### Reconnect the serial port \n",
    "And enable the UART - MDIO bridge"
   ]
  },
  {
   "cell_type": "code",
   "execution_count": 16,
   "metadata": {},
   "outputs": [
    {
     "name": "stdout",
     "output_type": "stream",
     "text": [
      "Now close port at: com24\n",
      "Open serial port at: com24\n",
      "('r(0xf383) = ', '0000')\n",
      "('r(0xf384) = ', '003c')\n",
      "('w(0xf383) = ', '0003')\n",
      "('w(0xf384) = ', '003f')\n"
     ]
    }
   ],
   "source": [
    "sw.rc()"
   ]
  },
  {
   "cell_type": "markdown",
   "metadata": {},
   "source": [
    "#### Close the serial port"
   ]
  },
  {
   "cell_type": "code",
   "execution_count": 43,
   "metadata": {},
   "outputs": [
    {
     "data": {
      "text/plain": [
       "'Now close port at: com15'"
      ]
     },
     "execution_count": 43,
     "metadata": {},
     "output_type": "execute_result"
    }
   ],
   "source": [
    "sw.s.close_port()"
   ]
  },
  {
   "cell_type": "markdown",
   "metadata": {},
   "source": [
    "#### Port summary"
   ]
  },
  {
   "cell_type": "code",
   "execution_count": 5,
   "metadata": {},
   "outputs": [
    {
     "name": "stdout",
     "output_type": "stream",
     "text": [
      "Phy: 0    Link state: 1.0     Speed: 1000 Mbps\n",
      "Master(1)/Slave(0): 0.0     Local receiver OK: 1.0     Remote receiver OK: 1.0\n",
      "SNR margin: 8.0     Cable length: 150 m\n",
      " \n",
      "Phy: 1    Link state: 1.0     Speed: 1000 Mbps\n",
      "Master(1)/Slave(0): 1.0     Local receiver OK: 1.0     Remote receiver OK: 1.0\n",
      "SNR margin: 8.0     Cable length: 150 m\n",
      " \n",
      "Phy: 2    Link state: 0.0     Speed: 1000 Mbps\n",
      "Master(1)/Slave(0): 0.0     Local receiver OK: 0.0     Remote receiver OK: 0.0\n",
      "SNR margin: 15.0     Cable length: 150 m\n",
      " \n",
      "Phy: 3    Link state: 0.0     Speed: 10 Mbps\n",
      "Master(1)/Slave(0): 0.0     Local receiver OK: 0.0     Remote receiver OK: 0.0\n",
      "SNR margin: 15.0     Cable length: 150 m\n",
      " \n",
      "Phy: 4    Link state: 1.0     Speed: 10000 Mbps\n",
      "Master(1)/Slave(0): 1.0     Local receiver OK: 1.0     Remote receiver OK: 1.0\n",
      "SNR margin: 15.0     Cable length: 150 m\n",
      " \n"
     ]
    }
   ],
   "source": [
    "for a in range(5):\n",
    "    sw.Phy_sum(a)\n",
    "    print (\" \")"
   ]
  },
  {
   "cell_type": "markdown",
   "metadata": {},
   "source": [
    "#### 2 * EASY GPY211 back to back throughput test\n",
    "Use 3 ports (port 0, 2, 3) of GWT140 as trunk to connect 2 * EASY GPY211. Configure:\n",
    "\n",
    "**Board #0:** \n",
    "\n",
    "MAC_TableEntryAdd 0 0 1000000 0 1 0 00:22:A2:00:00:01\n",
    "\n",
    "MAC_TableEntryAdd 0 2 1000000 0 1 0 00:22:A2:00:00:03\n",
    "\n",
    "MAC_TableEntryAdd 0 3 1000000 0 1 0 00:22:A2:00:00:05\n",
    "\n",
    "MAC_TableEntryAdd 0 4 1000000 0 1 0 00:22:A2:00:00:00\n",
    "\n",
    "MAC_TableEntryAdd 0 4 1000000 0 1 0 00:22:A2:00:00:02\n",
    "\n",
    "MAC_TableEntryAdd 0 4 1000000 0 1 0 00:22:A2:00:00:04\n",
    "\n",
    "Traffic input from Port 4, the 2.5G PHY, des MAC are 00:22:A2:00:00:01/03/05\n",
    "\n",
    "**Board #1:** \n",
    "\n",
    "MAC_TableEntryAdd 0 0 1000000 0 1 0 00:22:A2:00:00:00\n",
    "\n",
    "MAC_TableEntryAdd 0 2 1000000 0 1 0 00:22:A2:00:00:02\n",
    "\n",
    "MAC_TableEntryAdd 0 3 1000000 0 1 0 00:22:A2:00:00:04\n",
    "\n",
    "MAC_TableEntryAdd 0 4 1000000 0 1 0 00:22:A2:00:00:01\n",
    "\n",
    "MAC_TableEntryAdd 0 4 1000000 0 1 0 00:22:A2:00:00:03\n",
    "\n",
    "MAC_TableEntryAdd 0 4 1000000 0 1 0 00:22:A2:00:00:05\n",
    "\n",
    "Traffic input from Port 4, the 2.5G PHY, des MAC are 00:22:A2:00:00:00/02/04\n",
    "\n",
    "pyGSW_MAC_TableEntryAdd(nFId, nPortId, nAgeTimer, nSVLAN_Id, bStaticEntry, nTrafficClass, nMAC_0, nMAC_1, nMAC_2, nMAC_3, nMAC_4, nMAC_5):\n"
   ]
  },
  {
   "cell_type": "code",
   "execution_count": 33,
   "metadata": {},
   "outputs": [],
   "source": [
    "#Board #0\n",
    "for a in range(4):\n",
    "    sw.pyGSW_MAC_TableEntryAdd(0, 0, 1000000, 0, 1, 0, 0x0, 0x22, 0xa2, 0x00, 0x00, 0x01+a*8)\n",
    "    sw.pyGSW_MAC_TableEntryAdd(0, 1, 1000000, 0, 1, 0, 0x0, 0x22, 0xa2, 0x00, 0x00, 0x03+a*8)\n",
    "    sw.pyGSW_MAC_TableEntryAdd(0, 2, 1000000, 0, 1, 0, 0x0, 0x22, 0xa2, 0x00, 0x00, 0x05+a*8)\n",
    "    sw.pyGSW_MAC_TableEntryAdd(0, 3, 1000000, 0, 1, 0, 0x0, 0x22, 0xa2, 0x00, 0x00, 0x07+a*8)\n",
    "    sw.pyGSW_MAC_TableEntryAdd(0, 4, 1000000, 0, 1, 0, 0x0, 0x22, 0xa2, 0x00, 0x00, 0x00+a*8)\n",
    "    sw.pyGSW_MAC_TableEntryAdd(0, 4, 1000000, 0, 1, 0, 0x0, 0x22, 0xa2, 0x00, 0x00, 0x02+a*8)\n",
    "    sw.pyGSW_MAC_TableEntryAdd(0, 4, 1000000, 0, 1, 0, 0x0, 0x22, 0xa2, 0x00, 0x00, 0x04+a*8)\n",
    "    sw.pyGSW_MAC_TableEntryAdd(0, 4, 1000000, 0, 1, 0, 0x0, 0x22, 0xa2, 0x00, 0x00, 0x06+a*8)"
   ]
  },
  {
   "cell_type": "code",
   "execution_count": 6,
   "metadata": {},
   "outputs": [],
   "source": [
    "#Board #1\n",
    "for a in range(1):\n",
    "    sw.pyGSW_MAC_TableEntryAdd(0, 0, 1000000, 0, 1, 0, 0x0, 0x22, 0xa2, 0x00, 0x00, 0x00+a*8)\n",
    "    sw.pyGSW_MAC_TableEntryAdd(0, 1, 1000000, 0, 1, 0, 0x0, 0x22, 0xa2, 0x00, 0x00, 0x02+a*8)\n",
    "    sw.pyGSW_MAC_TableEntryAdd(0, 2, 1000000, 0, 1, 0, 0x0, 0x22, 0xa2, 0x00, 0x00, 0x04+a*8)\n",
    "    sw.pyGSW_MAC_TableEntryAdd(0, 3, 1000000, 0, 1, 0, 0x0, 0x22, 0xa2, 0x00, 0x00, 0x06+a*8)\n",
    "    sw.pyGSW_MAC_TableEntryAdd(0, 4, 1000000, 0, 1, 0, 0x0, 0x22, 0xa2, 0x00, 0x00, 0x01+a*8)\n",
    "    sw.pyGSW_MAC_TableEntryAdd(0, 4, 1000000, 0, 1, 0, 0x0, 0x22, 0xa2, 0x00, 0x00, 0x03+a*8)\n",
    "    sw.pyGSW_MAC_TableEntryAdd(0, 4, 1000000, 0, 1, 0, 0x0, 0x22, 0xa2, 0x00, 0x00, 0x05+a*8)\n",
    "    sw.pyGSW_MAC_TableEntryAdd(0, 4, 1000000, 0, 1, 0, 0x0, 0x22, 0xa2, 0x00, 0x00, 0x07+a*8)"
   ]
  },
  {
   "cell_type": "code",
   "execution_count": null,
   "metadata": {},
   "outputs": [],
   "source": []
  }
 ],
 "metadata": {
  "kernelspec": {
   "display_name": "Python 3",
   "language": "python",
   "name": "python3"
  },
  "language_info": {
   "codemirror_mode": {
    "name": "ipython",
    "version": 3
   },
   "file_extension": ".py",
   "mimetype": "text/x-python",
   "name": "python",
   "nbconvert_exporter": "python",
   "pygments_lexer": "ipython3",
   "version": "3.7.3"
  }
 },
 "nbformat": 4,
 "nbformat_minor": 2
}
