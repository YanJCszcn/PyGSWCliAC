{
 "cells": [
  {
   "cell_type": "markdown",
   "metadata": {},
   "source": [
    "## Tooling - GSW standalone board"
   ]
  },
  {
   "cell_type": "code",
   "execution_count": 1,
   "metadata": {
    "tags": []
   },
   "outputs": [
    {
     "name": "stdout",
     "output_type": "stream",
     "text": [
      "module ser02.py: list_ports(), open_port(\"COMx\"), r(addr), w(addr, value), close_ports()\n",
      "device: /dev/ttyS0\n",
      "name: ttyS0\n",
      "description: n/a\n",
      "device_path: /sys/devices/platform/soc/fe215040.serial\n",
      "hwid: n/a\n",
      "subsystem: platform\n",
      "\n",
      "device: /dev/ttyUSB0\n",
      "name: ttyUSB0\n",
      "description: FT232R USB UART\n",
      "device_path: /sys/devices/platform/scb/fd500000.pcie/pci0000:00/0000:00:00.0/0000:01:00.0/usb1/1-1/1-1.3/1-1.3:1.0/ttyUSB0\n",
      "hwid: USB VID:PID=0403:6001 SER=A503TT9Q LOCATION=1-1.3\n",
      "subsystem: usb-serial\n",
      "\n",
      "device: /dev/ttyAMA1\n",
      "name: ttyAMA1\n",
      "description: ttyAMA1\n",
      "device_path: /sys/devices/platform/soc/fe201600.serial\n",
      "hwid: fe201600.serial\n",
      "subsystem: amba\n",
      "\n",
      "device: /dev/ttyAMA0\n",
      "name: ttyAMA0\n",
      "description: ttyAMA0\n",
      "device_path: /sys/devices/platform/soc/fe201000.serial\n",
      "hwid: fe201000.serial\n",
      "subsystem: amba\n",
      "\n",
      "/dev/ttyS0 - n/a\n",
      "/dev/ttyUSB0 - FT232R USB UART\n",
      "/dev/ttyAMA1 - ttyAMA1\n",
      "/dev/ttyAMA0 - ttyAMA0\n",
      "Please input the port name (e.g. COMx): /dev/ttyUSB0\n",
      "Open serial port at: /dev/ttyUSB0\n",
      "r(0xfa10) = 0x1713\n",
      "r(0xfa11) = 0x3003\n",
      "r(0xf383) =  03c3\n",
      "r(0xf384) =  003f\n",
      "w(0xf383) =  03c3\n",
      "w(0xf384) =  003f\n"
     ]
    }
   ],
   "source": [
    "import Switch as sw"
   ]
  },
  {
   "cell_type": "code",
   "execution_count": 3,
   "metadata": {},
   "outputs": [
    {
     "name": "stdout",
     "output_type": "stream",
     "text": [
      "3758096384\n",
      "0xe0000000\n",
      "0x7fffffff\n"
     ]
    }
   ],
   "source": [
    "import sys\n",
    "print (224*0x1000000)\n",
    "print (\"%#x\"%(224*0x1000000))\n",
    "print (\"%#x\"%sys.maxsize)"
   ]
  },
  {
   "cell_type": "markdown",
   "metadata": {},
   "source": [
    "#### Check if microcode enabled\n",
    "After microcode download, reg0x456 = 0x0008 (**the parser microcode is valid**), reg0x457 = 0x0201 (**bit1=0 PCE is enabled**).\n",
    "\n",
    "Without microcode downloaded, reg0x456 = 0x0000, reg0x457 = 0x0001\n",
    "\n",
    "0x456 bit 3\n",
    "<img src=\"GSW_reg0x456_bit3.PNG\">"
   ]
  },
  {
   "cell_type": "code",
   "execution_count": 3,
   "metadata": {},
   "outputs": [
    {
     "name": "stdout",
     "output_type": "stream",
     "text": [
      "0x3c3\n",
      "0x3f\n",
      "0x0\n",
      "0x1\n"
     ]
    }
   ],
   "source": [
    "print (hex(sw.r(0xf383)))\n",
    "print (hex(sw.r(0xf384)))\n",
    "print (hex(sw.r(0x456)))\n",
    "print (hex(sw.r(0x457)))"
   ]
  },
  {
   "cell_type": "markdown",
   "metadata": {},
   "source": [
    "#### Download microcode\n",
    "It takes 25sec."
   ]
  },
  {
   "cell_type": "code",
   "execution_count": 3,
   "metadata": {},
   "outputs": [
    {
     "name": "stdout",
     "output_type": "stream",
     "text": [
      "finished.\n"
     ]
    }
   ],
   "source": [
    "sw.pyGSW_HW_Init()\n",
    "print (\"finished.\")"
   ]
  },
  {
   "cell_type": "markdown",
   "metadata": {},
   "source": [
    "#### List of capabilities"
   ]
  },
  {
   "cell_type": "code",
   "execution_count": 3,
   "metadata": {},
   "outputs": [
    {
     "name": "stdout",
     "output_type": "stream",
     "text": [
      "Number of Ethernet ports 7\n",
      "Number of virtual ports 6\n",
      "Pcket buffer size[in Bytes]: 131072\n",
      "Buffer Segment size: 256\n",
      "Number of queues: 32\n",
      "Number of traffic meters: 16\n",
      "Number of rate shapers: 32\n",
      "Number of VLAN groups: 64\n",
      "Number of FIDs: 64\n",
      "Number of MAC entries: 2048\n",
      "Number of multicast entries 64\n",
      "Number of PPPoE sessions: 16\n",
      "Number of STAG VLAN groups: 64\n",
      " 0\n"
     ]
    }
   ],
   "source": [
    "ret = {\"nCapType\": \"0\"}\n",
    "a = 0\n",
    "while ret[\"nCapType\"]!=\"13\":\n",
    "    ret = sw.pyGSW_CapGet(a, pr=0)\n",
    "    #print ( \"nCapType\", ret[\"nCapType\"])\n",
    "    desc = ret[\"cDesc[128]\"][2:-1].split()\n",
    "    cap = \"\"\n",
    "    for s in desc:\n",
    "        if (s == \"0x00\"):\n",
    "            break\n",
    "        else:\n",
    "            cap = cap + (bytes.fromhex(s[2:]).decode('utf-8'))\n",
    "    print (cap, ret[\"nCap\"])\n",
    "    a = a+1"
   ]
  },
  {
   "cell_type": "code",
   "execution_count": 9,
   "metadata": {
    "scrolled": false
   },
   "outputs": [
    {
     "name": "stdout",
     "output_type": "stream",
     "text": [
      "GSW_MAC_TableEntryRead    ---    Return value: GSW_statusOk \n",
      "bInitial = 0x0, 0 \n",
      "bLast = 0x1, 1 \n",
      "nFId = 0x0, 0 \n",
      "nPortId = 0x0, 0 \n",
      "nAgeTimer = 0x0, 0 \n",
      "nSVLAN_Id = 0x0, 0 \n",
      "bStaticEntry = 0x0, 0 \n",
      "nMAC[6] = [ 0x00 0x00 0x00 0x00 0x00 0x00] \n",
      "ret =  GSW_statusOk\n",
      "nMAC[6] = [ 0x00 0x00 0x00 0x00 0x00 0x00]  , Pid = 0 , nFId = 0 , nAgeTimer = 0\n"
     ]
    }
   ],
   "source": [
    "ret = sw.pyGSW_MAC_TableEntryRead(1, pr = 1)\n",
    "print (\"ret = \", sw.nRet[ret[\"ret\"]])\n",
    "for a in range(100):\n",
    "    print (\"nMAC[6] =\", ret[\"nMAC[6]\"], \", Pid =\", ret[\"nPortId\"], \", nFId =\", ret[\"nFId\"], \", nAgeTimer =\", ret[\"nAgeTimer\"], )\n",
    "    if int(ret[\"bLast\"]) == 1:\n",
    "        break\n",
    "    ret = sw.pyGSW_MAC_TableEntryRead(0)\n",
    "    "
   ]
  },
  {
   "cell_type": "code",
   "execution_count": 10,
   "metadata": {},
   "outputs": [
    {
     "name": "stdout",
     "output_type": "stream",
     "text": [
      "GSW_PortCfgGet    ---    Return value: GSW_statusOk \n",
      "nPortId = 0x0, 0 \n",
      "eEnable = 0x1, 1 GSW_PORT_ENABLE_RXTX  [GSW_portEnable_t]\n",
      "bUnicastUnknownDrop = 0x0, 0 \n",
      "bMulticastUnknownDrop = 0x0, 0 \n",
      "bReservedPacketDrop = 0x0, 0 \n",
      "bBroadcastDrop = 0x0, 0 \n",
      "bAging = 0x0, 0 \n",
      "bLearning = 0x0, 0 \n",
      "bLearningMAC_PortLock = 0x0, 0 \n",
      "nLearningLimit = 0xff, 255 \n",
      "bMAC_SpoofingDetection = 0x0, 0 \n",
      "eFlowCtrl = 0x1, 1 GSW_FLOW_RX  [GSW_portFlow_t]\n",
      "ePortMonitor = 0x0, 0 GSW_PORT_MONITOR_NONE  [GSW_portMonitor_t]\n"
     ]
    }
   ],
   "source": [
    "ret = sw.pyGSW_PortCfgGet(0)"
   ]
  },
  {
   "cell_type": "code",
   "execution_count": 7,
   "metadata": {},
   "outputs": [
    {
     "name": "stdout",
     "output_type": "stream",
     "text": [
      "16777216\n"
     ]
    },
    {
     "data": {
      "text/plain": [
       "{'ret': 0}"
      ]
     },
     "execution_count": 7,
     "metadata": {},
     "output_type": "execute_result"
    }
   ],
   "source": [
    "pce = sw.clear_pce_data()\n",
    "p = pce[0]\n",
    "a = pce[1]\n",
    "p[\"nIndex\"] = 0\n",
    "p[\"bEnable\"] = 1\n",
    "p[\"bPordIdEnable\"] = 1\n",
    "p[\"nPortId\"] = 4\n",
    "p[\"bDstIP_Select\"] = 1\n",
    "p[\"nDstIPipv4\"] = 1*0x1000000\n",
    "print (p[\"nDstIPipv4\"])\n",
    "p[\"nDstIP_Mask\"] = 0x7e\n",
    "a[\"ePortMapAction\"] = 4\n",
    "a[\"nForwardPortMap\"] = 0x40\n",
    "a[\"bPortBitMapMuxControl\"] = 0\n",
    "sw.pyGSW_PceRuleWrite(p, a)"
   ]
  },
  {
   "cell_type": "code",
   "execution_count": 13,
   "metadata": {},
   "outputs": [
    {
     "name": "stdout",
     "output_type": "stream",
     "text": [
      "param.pattern.nDstIP.nIPv4 = 00000000, 0 \n",
      "PCE rule index 1, enabled = 1\n",
      "pattern:\n",
      "   , bPortIdEnable = 0, nPortId = 0\n",
      "   , bDSCP_Enable = 0, nDSCP = 0\n",
      "   , bPCP_Enable = 0, nPCP = 0\n",
      "   , bSTAG_PCP_DEI_Enable = 0, nSTAG_PCP_DEI = 0\n",
      "   , bPktLngEnable = 0, nPktLng = 0, nPktLngRange = 0\n",
      "   , bMAC_DstEnable = 0, nMAC_Dst = 00:00:00:00:00:00, nMAC_DstMask = 0\n",
      "   , bMAC_SrcEnable = 0, nMAC_Src = 00:00:00:00:00:00, nMAC_SrcMask = 0\n",
      "   , bAppDataMSB_Enable = 0, nAppDataMSB = 0\n",
      "   , bAppMaskRangeMSB_Select = 0, nAppMaskRangeMSB = 0\n",
      "   , bAppDataLSB_Enable = 0, nAppDataLSB = 0\n",
      "   , bAppMaskRangeLSB_Select = 0, nAppMaskRangeLSB = 0\n",
      "   , eDstIP_Select = 0, nDstIPipv4 = 0.0.0.0, nDstIPipv6 = 0000:0000:0000:0000, nDstIP_Mask = 0\n",
      "   , eSrcIP_Select = 0, nSrcIPipv4 = 0.0.0.0, nSrcIPipv6 = 0000:0000:0000:0000, nSrcIP_Mask = 0\n",
      "   , bEtherTypeEnable = 0, nEtherType = 0, nEtherTypeMask = 0\n",
      "   , bProtocolEnable = 0, nProtocol = 0, nProtocolMask = 0\n",
      "   , bSessionIdEnable = 0, nSessionId = 0, bVid = 0, nVid = 0\n",
      "   , bVidRange_Select = 0, nVidRange = 0, bSLAN_Vid = 0, nSLAN_Vid = 0\n",
      "Action:\n",
      "   , eTrafficClassAction = 0, nTrafficClassAlternate = 0\n",
      "   , eSnoopingTypeAction = 0\n",
      "   , eLearningAction = 0\n",
      "   , eIrqAction = 0\n",
      "   , eCrossStateAction = 0\n",
      "   , eCritFrameAction = 0\n",
      "   , eTimestampAction = 0\n",
      "   , ePortMapAction = 4, nForwardPortMap = 64\n",
      "   , bRemarkAction = 0, bRemarkPCP = 0, bRemarkSTAG_PCP = 0, bRemarkSTAG_DEI = 0, bRemarkDSCP = 0, bRemarkClass = 0\n",
      "   , eMeterAction = 0, nMeterId = 0\n",
      "   , bRMON_Action = 0, nRMON_Id = 0\n",
      "   , eVLAN_Action = 0, nVLAN_Id = 0, nFId = 0\n",
      "   , eSVLAN_Action = 0, nSVLAN_Id = 0\n",
      "   , eVLAN_CrossAction = 0, bCVLAN_Ignore_Control = 0, bPortBitMapMuxControl = 0\n",
      "   , bPortTrunkAction = 0, bPortLinkSelection = 0\n",
      "   , bFlowID_Action = 0, nFlowID = 0\n",
      "\n"
     ]
    },
    {
     "data": {
      "text/plain": [
       "{'ret': 0}"
      ]
     },
     "execution_count": 13,
     "metadata": {},
     "output_type": "execute_result"
    }
   ],
   "source": [
    "sw.pyGSW_PceRuleRead(1)"
   ]
  },
  {
   "cell_type": "code",
   "execution_count": 7,
   "metadata": {},
   "outputs": [
    {
     "name": "stdout",
     "output_type": "stream",
     "text": [
      "{'nIndex': 0, 'bEnable': 0, 'bPortIdEnable': 0, 'nPortId': 0, 'bDSCP_Enable': 0, 'nDSCP': 0, 'bPCP_Enable': 0, 'nPCP': 0, 'bSTAG_PCP_DEI_Enable': 0, 'nSTAG_PCP_DEI': 0, 'bPktLngEnable': 0, 'nPktLng': 0, 'nPktLngRange': 0, 'bMAC_DstEnable': 0, 'nMAC_Dst0': 0, 'nMAC_Dst1': 0, 'nMAC_Dst2': 0, 'nMAC_Dst3': 0, 'nMAC_Dst4': 0, 'nMAC_Dst5': 0, 'nMAC_DstMask': 0, 'bMAC_SrcEnable': 0, 'nMAC_Src0': 0, 'nMAC_Src1': 0, 'nMAC_Src2': 0, 'nMAC_Src3': 0, 'nMAC_Src4': 0, 'nMAC_Src5': 0, 'nMAC_SrcMask': 0, 'bAppDataMSB_Enable': 0, 'nAppDataMSB': 0, 'bAppMaskRangeMSB_Select': 0, 'nAppMaskRangeMSB': 0, 'bAppDataLSB_Enable': 0, 'nAppDataLSB': 0, 'bAppMaskRangeLSB_Select': 0, 'nAppMaskRangeLSB': 0, 'eDstIP_Select': 0, 'nDstIPipv4': 0, 'nDstIPipv60': 0, 'nDstIPipv61': 0, 'nDstIPipv62': 0, 'nDstIPipv63': 0, 'nDstIPipv64': 0, 'nDstIPipv65': 0, 'nDstIPipv66': 0, 'nDstIPipv67': 0, 'nDstIP_Mask': 0, 'eSrcIP_Select': 0, 'nSrcIPipv4': 0, 'nSrcIPipv60': 0, 'nSrcIPipv61': 0, 'nSrcIPipv62': 0, 'nSrcIPipv63': 0, 'nSrcIPipv64': 0, 'nSrcIPipv65': 0, 'nSrcIPipv66': 0, 'nSrcIPipv67': 0, 'nSrcIP_Mask': 0, 'bEtherTypeEnable': 0, 'nEtherType': 0, 'nEtherTypeMask': 0, 'bProtocolEnable': 0, 'nProtocol': 0, 'nProtocolMask': 0, 'bSessionIdEnable': 0, 'nSessionId': 0, 'bVid': 0, 'nVid': 0, 'bVidRange_Select': 0, 'nVidRange': 0, 'bSLAN_Vid': 0, 'nSLAN_Vid': 0}\n",
      "0\n",
      "0\n"
     ]
    }
   ],
   "source": [
    "pce = sw.clear_pce_data()\n",
    "p = pce[0]\n",
    "a = pce[1]\n",
    "print (p)\n",
    "def pyGSW_PceRuleWrite(p, a):\n",
    "    print (p[\"bPortIdEnable\"])\n",
    "    print (a[\"ePortMapAction\"])\n",
    "\n",
    "pyGSW_PceRuleWrite(p, a)"
   ]
  },
  {
   "cell_type": "markdown",
   "metadata": {},
   "source": [
    "#### Global Switch Macro Hardware Reset\n",
    "\n",
    "Reset all hardware modules including the register settings. This reset\n",
    "acts similar to the hardware reset and is cleared by HW after Reset is\n",
    "executed.\n",
    "reg 0xF400 = 0x0002"
   ]
  },
  {
   "cell_type": "code",
   "execution_count": 31,
   "metadata": {},
   "outputs": [
    {
     "name": "stdout",
     "output_type": "stream",
     "text": [
      "[['u8 act', 'p1'], ['u6 act', 'p2'], ['int pattern', 'p5']]\n"
     ]
    },
    {
     "data": {
      "text/plain": [
       "['act = p1', 'act = p2', 'pattern = p5']"
      ]
     },
     "execution_count": 31,
     "metadata": {},
     "output_type": "execute_result"
    }
   ],
   "source": [
    "a = \"u8 act_p1, u6 act_p2, int pattern_p5\"\n",
    "a = a.split(\", \")\n",
    "c = list()\n",
    "for b in a:\n",
    "    c.append(b.split(\"_\"))\n",
    "print (c)\n",
    "a = list()\n",
    "for b in c:\n",
    "    t = b[0].split(\" \")\n",
    "    t.append(b[1])\n",
    "    a.append(t)\n",
    "c = list()\n",
    "for b in a:\n",
    "    c.append(b[1] + \" = \" + b[2])\n",
    "c\n",
    "    "
   ]
  },
  {
   "cell_type": "code",
   "execution_count": 5,
   "metadata": {},
   "outputs": [
    {
     "name": "stdout",
     "output_type": "stream",
     "text": [
      "\tfo = open(fn, \"r\")\n",
      "\tfor line in fo.readlines():\n",
      "\t\tif len(line.split()) == 1:\n",
      "\t\t\tline = line[:-1] + \"    ---    Return value: \" + nRet[ret[\"ret\"]] + \"\\n\"\n",
      "\t\telse:\n",
      "\t\t\tif line.split()[0][-1] == \"]\":\n",
      "\t\t\t\ts = \"\"\n",
      "\t\t\t\tfor i in line.split()[2:]:\n",
      "\t\t\t\t\ts = s + i + \" \"\n",
      "\t\t\t\tret[line.split()[0]] = s\n",
      "\t\t\telse:\n",
      "\t\t\t\tret[line.split()[0]] = line.split()[3]\n",
      "\t\tif pr == 1:\n",
      "\t\t\ts = \"\"\n",
      "\t\t\tfor st in swse.struct:\n",
      "\t\t\t\tfor p in swse.struct[st]:\n",
      "\t\t\t\t\tif p[1] == line.split()[0]:\n",
      "\t\t\t\t\t\te = p[0]\n",
      "\t\t\t\t\t\tif p[0] in swse.enum:\n",
      "\t\t\t\t\t\t\ts = swse.enum[p[0]][line.split()[3]] + \"  [\" + p[0] + \"]\"\n",
      "\t\t\tprint (line[:-1], s)\n",
      "\tfo.close()\n",
      "\treturn ret\n"
     ]
    }
   ],
   "source": [
    "s = \"\"\n",
    "s = s + \"\tfo = open(fn, \\\"r\\\")\\n\tfor line in fo.readlines():\\n\t\tif len(line.split()) == 1:\\n\t\t\tline = line[:-1] + \\\"    ---    Return value: \\\" + nRet[ret[\\\"ret\\\"]] + \\\"\\\\n\\\"\\n\t\telse:\\n\t\t\tif line.split()[0][-1] == \\\"]\\\":\\n\t\t\t\ts = \\\"\\\"\\n\t\t\t\tfor i in line.split()[2:]:\\n\t\t\t\t\ts = s + i + \\\" \\\"\\n\t\t\t\tret[line.split()[0]] = s\\n\t\t\telse:\\n\t\t\t\tret[line.split()[0]] = line.split()[3]\\n\t\tif pr == 1:\\n\t\t\ts = \\\"\\\"\\n\t\t\tfor st in swse.struct:\\n\t\t\t\tfor p in swse.struct[st]:\\n\t\t\t\t\tif p[1] == line.split()[0]:\\n\t\t\t\t\t\te = p[0]\\n\t\t\t\t\t\tif p[0] in swse.enum:\\n\t\t\t\t\t\t\ts = swse.enum[p[0]][line.split()[3]] + \\\"  [\\\" + p[0] + \\\"]\\\"\\n\t\t\tprint (line[:-1], s)\\n\tfo.close()\\n\treturn ret\"\n",
    "print (s)"
   ]
  },
  {
   "cell_type": "markdown",
   "metadata": {},
   "source": [
    "#### Reconnect the serial port \n",
    "And enable the UART - MDIO bridge"
   ]
  },
  {
   "cell_type": "code",
   "execution_count": 16,
   "metadata": {},
   "outputs": [
    {
     "name": "stdout",
     "output_type": "stream",
     "text": [
      "Now close port at: com24\n",
      "Open serial port at: com24\n",
      "('r(0xf383) = ', '0000')\n",
      "('r(0xf384) = ', '003c')\n",
      "('w(0xf383) = ', '0003')\n",
      "('w(0xf384) = ', '003f')\n"
     ]
    }
   ],
   "source": [
    "sw.rc()"
   ]
  },
  {
   "cell_type": "markdown",
   "metadata": {},
   "source": [
    "#### Close the serial port"
   ]
  },
  {
   "cell_type": "code",
   "execution_count": 43,
   "metadata": {},
   "outputs": [
    {
     "data": {
      "text/plain": [
       "'Now close port at: com15'"
      ]
     },
     "execution_count": 43,
     "metadata": {},
     "output_type": "execute_result"
    }
   ],
   "source": [
    "sw.s.close_port()"
   ]
  },
  {
   "cell_type": "markdown",
   "metadata": {},
   "source": [
    "#### Port summary"
   ]
  },
  {
   "cell_type": "code",
   "execution_count": 5,
   "metadata": {},
   "outputs": [
    {
     "name": "stdout",
     "output_type": "stream",
     "text": [
      "Phy: 0    Link state: 0.0     Speed: 10 Mbps\n",
      "Master(1)/Slave(0): 0.0     Local receiver OK: 0.0     Remote receiver OK: 0.0\n",
      "SNR margin: 15.0     Cable length: 150 m\n"
     ]
    },
    {
     "ename": "TypeError",
     "evalue": "list indices must be integers or slices, not float",
     "output_type": "error",
     "traceback": [
      "\u001b[0;31m---------------------------------------------------------------------------\u001b[0m",
      "\u001b[0;31mTypeError\u001b[0m                                 Traceback (most recent call last)",
      "\u001b[0;32m<ipython-input-5-3b222125bd11>\u001b[0m in \u001b[0;36m<module>\u001b[0;34m\u001b[0m\n\u001b[1;32m      1\u001b[0m \u001b[0;32mfor\u001b[0m \u001b[0ma\u001b[0m \u001b[0;32min\u001b[0m \u001b[0mrange\u001b[0m\u001b[0;34m(\u001b[0m\u001b[0;36m5\u001b[0m\u001b[0;34m)\u001b[0m\u001b[0;34m:\u001b[0m\u001b[0;34m\u001b[0m\u001b[0;34m\u001b[0m\u001b[0m\n\u001b[0;32m----> 2\u001b[0;31m     \u001b[0msw\u001b[0m\u001b[0;34m.\u001b[0m\u001b[0mPhy_sum\u001b[0m\u001b[0;34m(\u001b[0m\u001b[0ma\u001b[0m\u001b[0;34m)\u001b[0m\u001b[0;34m\u001b[0m\u001b[0;34m\u001b[0m\u001b[0m\n\u001b[0m\u001b[1;32m      3\u001b[0m     \u001b[0mprint\u001b[0m \u001b[0;34m(\u001b[0m\u001b[0;34m\" \"\u001b[0m\u001b[0;34m)\u001b[0m\u001b[0;34m\u001b[0m\u001b[0;34m\u001b[0m\u001b[0m\n",
      "\u001b[0;32m/home/pi/Downloads/Standalone_Switch_API/PySwithCli/Switch.py\u001b[0m in \u001b[0;36mPhy_sum\u001b[0;34m(n)\u001b[0m\n\u001b[1;32m    155\u001b[0m                 \u001b[0mprint\u001b[0m \u001b[0;34m(\u001b[0m\u001b[0;34m\"SNR margin:\"\u001b[0m\u001b[0;34m,\u001b[0m \u001b[0;34m(\u001b[0m\u001b[0mc\u001b[0m\u001b[0;34m&\u001b[0m\u001b[0;36m0xf0\u001b[0m\u001b[0;34m)\u001b[0m\u001b[0;34m/\u001b[0m\u001b[0;36m0x10\u001b[0m\u001b[0;34m,\u001b[0m \u001b[0;34m\"    Cable length:\"\u001b[0m\u001b[0;34m,\u001b[0m \u001b[0;34m(\u001b[0m\u001b[0mc\u001b[0m\u001b[0;34m&\u001b[0m\u001b[0;36m0xf\u001b[0m\u001b[0;34m)\u001b[0m\u001b[0;34m*\u001b[0m\u001b[0;36m10\u001b[0m\u001b[0;34m,\u001b[0m \u001b[0;34m\"m\"\u001b[0m\u001b[0;34m)\u001b[0m\u001b[0;34m\u001b[0m\u001b[0;34m\u001b[0m\u001b[0m\n\u001b[1;32m    156\u001b[0m                 \u001b[0mstr01\u001b[0m \u001b[0;34m=\u001b[0m \u001b[0;34m[\u001b[0m\u001b[0;34m\"rx err\"\u001b[0m\u001b[0;34m,\u001b[0m\u001b[0;34m\"rx frames\"\u001b[0m\u001b[0;34m,\u001b[0m\u001b[0;34m\"ESD err\"\u001b[0m\u001b[0;34m,\u001b[0m\u001b[0;34m\"SSD err\"\u001b[0m\u001b[0;34m,\u001b[0m\u001b[0;34m\"tx err\"\u001b[0m\u001b[0;34m,\u001b[0m\u001b[0;34m\"tx frames\"\u001b[0m\u001b[0;34m,\u001b[0m\u001b[0;34m\"collision\"\u001b[0m\u001b[0;34m,\u001b[0m\u001b[0;34m\"no. of link down\"\u001b[0m\u001b[0;34m,\u001b[0m\u001b[0;34m\"no. of ADS\"\u001b[0m\u001b[0;34m]\u001b[0m\u001b[0;34m\u001b[0m\u001b[0;34m\u001b[0m\u001b[0m\n\u001b[0;32m--> 157\u001b[0;31m                 \u001b[0mprint\u001b[0m \u001b[0;34m(\u001b[0m\u001b[0;34m\"Error counter:\"\u001b[0m\u001b[0;34m,\u001b[0m \u001b[0me\u001b[0m\u001b[0;34m&\u001b[0m\u001b[0;36m0xff\u001b[0m\u001b[0;34m,\u001b[0m \u001b[0;34m\"   \"\u001b[0m\u001b[0;34m,\u001b[0m \u001b[0mstr01\u001b[0m\u001b[0;34m[\u001b[0m\u001b[0;34m(\u001b[0m\u001b[0me\u001b[0m\u001b[0;34m&\u001b[0m\u001b[0;36m0xf00\u001b[0m\u001b[0;34m)\u001b[0m\u001b[0;34m/\u001b[0m\u001b[0;36m0x100\u001b[0m\u001b[0;34m%\u001b[0m\u001b[0;36m9\u001b[0m\u001b[0;34m]\u001b[0m\u001b[0;34m)\u001b[0m\u001b[0;34m\u001b[0m\u001b[0;34m\u001b[0m\u001b[0m\n\u001b[0m\u001b[1;32m    158\u001b[0m \u001b[0;34m\u001b[0m\u001b[0m\n\u001b[1;32m    159\u001b[0m \u001b[0;32mdef\u001b[0m \u001b[0mset_counter\u001b[0m\u001b[0;34m(\u001b[0m\u001b[0mn\u001b[0m\u001b[0;34m)\u001b[0m\u001b[0;34m:\u001b[0m\u001b[0;34m\u001b[0m\u001b[0;34m\u001b[0m\u001b[0m\n",
      "\u001b[0;31mTypeError\u001b[0m: list indices must be integers or slices, not float"
     ]
    }
   ],
   "source": [
    "for a in range(5):\n",
    "    sw.Phy_sum(a)\n",
    "    print (\" \")"
   ]
  },
  {
   "cell_type": "markdown",
   "metadata": {},
   "source": [
    "#### Set the counter type for port n"
   ]
  },
  {
   "cell_type": "code",
   "execution_count": 25,
   "metadata": {},
   "outputs": [
    {
     "name": "stdout",
     "output_type": "stream",
     "text": [
      "0: rx err\n",
      "1: rx frames\n",
      "2: ESD err\n",
      "3: SSD err\n",
      "4: tx err\n",
      "5: tx frames\n",
      "6: collision\n",
      "7: no. of link down\n",
      "8: no. of ADS\n",
      "Which counter to set: 0-8 [1]1\n"
     ]
    }
   ],
   "source": [
    "sw.set_counter(0)"
   ]
  },
  {
   "cell_type": "markdown",
   "metadata": {},
   "source": [
    "### Port reditect\n",
    "\n",
    "  #### CPU port set / get\n",
    "    def pyGSW_CPU_PortCfgSet(pid, valid, ing, eg, fcsch, fcsgen, spectg):\n",
    "\n",
    "    def pyGSW_CPU_PortCfgGet(pid):\n",
    "\n",
    "  #### Port to be redirected set / get\n",
    "    def pyGSW_PortRedirectSet(pid, eg, ing):\n",
    "\n",
    "    def pyGSW_PortRedirectGet(pid):\n"
   ]
  },
  {
   "cell_type": "code",
   "execution_count": 5,
   "metadata": {},
   "outputs": [
    {
     "data": {
      "text/plain": [
       "{'ret': 0}"
      ]
     },
     "execution_count": 5,
     "metadata": {},
     "output_type": "execute_result"
    }
   ],
   "source": [
    "sw.pyGSW_CPU_PortCfgSet(4, 1, 0, 0, 0, 0, 0)"
   ]
  },
  {
   "cell_type": "code",
   "execution_count": 3,
   "metadata": {},
   "outputs": [
    {
     "ename": "KeyError",
     "evalue": "'value:'",
     "output_type": "error",
     "traceback": [
      "\u001b[0;31m---------------------------------------------------------------------------\u001b[0m",
      "\u001b[0;31mKeyError\u001b[0m                                  Traceback (most recent call last)",
      "\u001b[0;32m<ipython-input-3-76af50b3ce57>\u001b[0m in \u001b[0;36m<module>\u001b[0;34m\u001b[0m\n\u001b[0;32m----> 1\u001b[0;31m \u001b[0mret\u001b[0m \u001b[0;34m=\u001b[0m \u001b[0msw\u001b[0m\u001b[0;34m.\u001b[0m\u001b[0mpyGSW_CPU_PortCfgGet\u001b[0m\u001b[0;34m(\u001b[0m\u001b[0;36m4\u001b[0m\u001b[0;34m)\u001b[0m\u001b[0;34m\u001b[0m\u001b[0;34m\u001b[0m\u001b[0m\n\u001b[0m\u001b[1;32m      2\u001b[0m \u001b[0mret\u001b[0m\u001b[0;34m\u001b[0m\u001b[0;34m\u001b[0m\u001b[0m\n",
      "\u001b[0;32m/home/pi/Downloads/Standalone_Switch_API/PyGSWCliAC/Switch.py\u001b[0m in \u001b[0;36mpyGSW_CPU_PortCfgGet\u001b[0;34m(nPortId, pr)\u001b[0m\n\u001b[1;32m   1523\u001b[0m                                         \u001b[0;32mif\u001b[0m \u001b[0mp\u001b[0m\u001b[0;34m[\u001b[0m\u001b[0;36m1\u001b[0m\u001b[0;34m]\u001b[0m \u001b[0;34m==\u001b[0m \u001b[0mline\u001b[0m\u001b[0;34m.\u001b[0m\u001b[0msplit\u001b[0m\u001b[0;34m(\u001b[0m\u001b[0;34m)\u001b[0m\u001b[0;34m[\u001b[0m\u001b[0;36m0\u001b[0m\u001b[0;34m]\u001b[0m\u001b[0;34m:\u001b[0m\u001b[0;34m\u001b[0m\u001b[0;34m\u001b[0m\u001b[0m\n\u001b[1;32m   1524\u001b[0m                                                 \u001b[0me\u001b[0m \u001b[0;34m=\u001b[0m \u001b[0mp\u001b[0m\u001b[0;34m[\u001b[0m\u001b[0;36m0\u001b[0m\u001b[0;34m]\u001b[0m\u001b[0;34m\u001b[0m\u001b[0;34m\u001b[0m\u001b[0m\n\u001b[0;32m-> 1525\u001b[0;31m                         \u001b[0ms\u001b[0m \u001b[0;34m=\u001b[0m \u001b[0mswse\u001b[0m\u001b[0;34m.\u001b[0m\u001b[0menum\u001b[0m\u001b[0;34m[\u001b[0m\u001b[0mp\u001b[0m\u001b[0;34m[\u001b[0m\u001b[0;36m0\u001b[0m\u001b[0;34m]\u001b[0m\u001b[0;34m]\u001b[0m\u001b[0;34m[\u001b[0m\u001b[0mline\u001b[0m\u001b[0;34m.\u001b[0m\u001b[0msplit\u001b[0m\u001b[0;34m(\u001b[0m\u001b[0;34m)\u001b[0m\u001b[0;34m[\u001b[0m\u001b[0;36m3\u001b[0m\u001b[0;34m]\u001b[0m\u001b[0;34m]\u001b[0m \u001b[0;34m+\u001b[0m \u001b[0;34m\"[\"\u001b[0m \u001b[0;34m+\u001b[0m \u001b[0mp\u001b[0m\u001b[0;34m[\u001b[0m\u001b[0;36m0\u001b[0m\u001b[0;34m]\u001b[0m \u001b[0;34m+\u001b[0m \u001b[0;34m\"]\"\u001b[0m\u001b[0;34m\u001b[0m\u001b[0;34m\u001b[0m\u001b[0m\n\u001b[0m\u001b[1;32m   1526\u001b[0m                         \u001b[0mprint\u001b[0m \u001b[0;34m(\u001b[0m\u001b[0mline\u001b[0m\u001b[0;34m[\u001b[0m\u001b[0;34m:\u001b[0m\u001b[0;34m-\u001b[0m\u001b[0;36m1\u001b[0m\u001b[0;34m]\u001b[0m\u001b[0;34m,\u001b[0m \u001b[0ms\u001b[0m\u001b[0;34m)\u001b[0m\u001b[0;34m\u001b[0m\u001b[0;34m\u001b[0m\u001b[0m\n\u001b[1;32m   1527\u001b[0m         \u001b[0mfo\u001b[0m\u001b[0;34m.\u001b[0m\u001b[0mclose\u001b[0m\u001b[0;34m(\u001b[0m\u001b[0;34m)\u001b[0m\u001b[0;34m\u001b[0m\u001b[0;34m\u001b[0m\u001b[0m\n",
      "\u001b[0;31mKeyError\u001b[0m: 'value:'"
     ]
    }
   ],
   "source": [
    "ret = sw.pyGSW_CPU_PortCfgGet(4)\n",
    "ret"
   ]
  },
  {
   "cell_type": "code",
   "execution_count": 29,
   "metadata": {},
   "outputs": [
    {
     "data": {
      "text/plain": [
       "{'ret': 0}"
      ]
     },
     "execution_count": 29,
     "metadata": {},
     "output_type": "execute_result"
    }
   ],
   "source": [
    "sw.pyGSW_PortRedirectSet(0, 0, 1)\n",
    "sw.pyGSW_PortRedirectSet(1, 0, 1)\n",
    "sw.pyGSW_PortRedirectSet(2, 0, 1)\n",
    "sw.pyGSW_PortRedirectSet(3, 0, 1)"
   ]
  },
  {
   "cell_type": "code",
   "execution_count": 30,
   "metadata": {},
   "outputs": [
    {
     "name": "stdout",
     "output_type": "stream",
     "text": [
      "GSW_PortRedirectGet    ---    Return value: GSW_statusOk\n",
      "nPortId = 0x0, 0\n",
      "bRedirectEgress = 0x0, 0\n",
      "bRedirectIngress = 0x1, 1\n",
      "GSW_PortRedirectGet    ---    Return value: GSW_statusOk\n",
      "nPortId = 0x1, 1\n",
      "bRedirectEgress = 0x0, 0\n",
      "bRedirectIngress = 0x1, 1\n",
      "GSW_PortRedirectGet    ---    Return value: GSW_statusOk\n",
      "nPortId = 0x2, 2\n",
      "bRedirectEgress = 0x0, 0\n",
      "bRedirectIngress = 0x1, 1\n",
      "GSW_PortRedirectGet    ---    Return value: GSW_statusOk\n",
      "nPortId = 0x3, 3\n",
      "bRedirectEgress = 0x0, 0\n",
      "bRedirectIngress = 0x1, 1\n"
     ]
    },
    {
     "data": {
      "text/plain": [
       "{'ret': 0, 'nPortId': '3', 'bRedirectEgress': '0', 'bRedirectIngress': '1'}"
      ]
     },
     "execution_count": 30,
     "metadata": {},
     "output_type": "execute_result"
    }
   ],
   "source": [
    "sw.pyGSW_PortRedirectGet(0)\n",
    "sw.pyGSW_PortRedirectGet(1)\n",
    "sw.pyGSW_PortRedirectGet(2)\n",
    "sw.pyGSW_PortRedirectGet(3)"
   ]
  },
  {
   "cell_type": "code",
   "execution_count": 6,
   "metadata": {},
   "outputs": [
    {
     "data": {
      "text/plain": [
       "0"
      ]
     },
     "execution_count": 6,
     "metadata": {},
     "output_type": "execute_result"
    }
   ],
   "source": [
    "sw.pyGSW_PortRedirectSet(0, 0, 0)\n",
    "sw.pyGSW_PortRedirectSet(1, 0, 0)\n",
    "sw.pyGSW_PortRedirectSet(2, 0, 0)\n",
    "sw.pyGSW_PortRedirectSet(3, 0, 0)"
   ]
  },
  {
   "cell_type": "markdown",
   "metadata": {},
   "source": [
    "#### Port config set / get\n",
    "def pyGSW_PortCfgSet(pid, en, uni, mul, res, brd, aging, learning, portlock, learninglimit, spoofdet, flowctl, portmon):\n",
    "\n",
    "def pyGSW_PortCfgGet(pid):\n"
   ]
  },
  {
   "cell_type": "code",
   "execution_count": 33,
   "metadata": {},
   "outputs": [
    {
     "data": {
      "text/plain": [
       "{'ret': 0}"
      ]
     },
     "execution_count": 33,
     "metadata": {},
     "output_type": "execute_result"
    }
   ],
   "source": [
    "#sw.pyGSW_PortCfgSet(0, 1, 0,0,0,0, 0,0,1, 0xff, 0, 0, 0)\n",
    "#sw.pyGSW_PortCfgSet(1, 1, 0,0,0,0, 0,0,1, 0xff, 0, 0, 0)\n",
    "#sw.pyGSW_PortCfgSet(2, 1, 0,0,0,0, 0,0,1, 0xff, 0, 0, 0)\n",
    "#sw.pyGSW_PortCfgSet(3, 1, 0,0,0,0, 0,0,1, 0xff, 0, 0, 0)\n",
    "sw.pyGSW_PortCfgSet(4, 1, 0,0,0,0, 0,0,1, 0xff, 0, 0, 0)\n"
   ]
  },
  {
   "cell_type": "code",
   "execution_count": 6,
   "metadata": {},
   "outputs": [
    {
     "data": {
      "text/plain": [
       "100"
      ]
     },
     "execution_count": 6,
     "metadata": {},
     "output_type": "execute_result"
    }
   ],
   "source": [
    "sw.pyGSW_PortCfgSet(4, 1, 0,0,0,0, 0,0,0, 0xff, 0, 0, 0)"
   ]
  },
  {
   "cell_type": "code",
   "execution_count": 34,
   "metadata": {},
   "outputs": [
    {
     "name": "stdout",
     "output_type": "stream",
     "text": [
      "GSW_PortCfgGet    ---    Return value: GSW_statusOk\n",
      "nPortId = 0x0, 0\n",
      "eEnable = 0x1, 1\n",
      "bUnicastUnknownDrop = 0x0, 0\n",
      "bMulticastUnknownDrop = 0x0, 0\n",
      "bReservedPacketDrop = 0x0, 0\n",
      "bBroadcastDrop = 0x0, 0\n",
      "bAging = 0x0, 0\n",
      "bLearning = 0x0, 0\n",
      "bLearningMAC_PortLock = 0x0, 0\n",
      "nLearningLimit = 0xff, 255\n",
      "bMAC_SpoofingDetection = 0x0, 0\n",
      "eFlowCtrl = 0x1, 1\n",
      "ePortMonitor = 0x0, 0\n",
      "\n",
      "GSW_PortCfgGet    ---    Return value: GSW_statusOk\n",
      "nPortId = 0x1, 1\n",
      "eEnable = 0x1, 1\n",
      "bUnicastUnknownDrop = 0x0, 0\n",
      "bMulticastUnknownDrop = 0x0, 0\n",
      "bReservedPacketDrop = 0x0, 0\n",
      "bBroadcastDrop = 0x0, 0\n",
      "bAging = 0x0, 0\n",
      "bLearning = 0x0, 0\n",
      "bLearningMAC_PortLock = 0x0, 0\n",
      "nLearningLimit = 0xff, 255\n",
      "bMAC_SpoofingDetection = 0x0, 0\n",
      "eFlowCtrl = 0x1, 1\n",
      "ePortMonitor = 0x0, 0\n",
      "\n",
      "GSW_PortCfgGet    ---    Return value: GSW_statusOk\n",
      "nPortId = 0x2, 2\n",
      "eEnable = 0x1, 1\n",
      "bUnicastUnknownDrop = 0x0, 0\n",
      "bMulticastUnknownDrop = 0x0, 0\n",
      "bReservedPacketDrop = 0x0, 0\n",
      "bBroadcastDrop = 0x0, 0\n",
      "bAging = 0x0, 0\n",
      "bLearning = 0x0, 0\n",
      "bLearningMAC_PortLock = 0x0, 0\n",
      "nLearningLimit = 0xff, 255\n",
      "bMAC_SpoofingDetection = 0x0, 0\n",
      "eFlowCtrl = 0x1, 1\n",
      "ePortMonitor = 0x0, 0\n",
      "\n",
      "GSW_PortCfgGet    ---    Return value: GSW_statusOk\n",
      "nPortId = 0x3, 3\n",
      "eEnable = 0x1, 1\n",
      "bUnicastUnknownDrop = 0x0, 0\n",
      "bMulticastUnknownDrop = 0x0, 0\n",
      "bReservedPacketDrop = 0x0, 0\n",
      "bBroadcastDrop = 0x0, 0\n",
      "bAging = 0x0, 0\n",
      "bLearning = 0x0, 0\n",
      "bLearningMAC_PortLock = 0x0, 0\n",
      "nLearningLimit = 0xff, 255\n",
      "bMAC_SpoofingDetection = 0x0, 0\n",
      "eFlowCtrl = 0x1, 1\n",
      "ePortMonitor = 0x0, 0\n",
      "\n",
      "GSW_PortCfgGet    ---    Return value: GSW_statusOk\n",
      "nPortId = 0x4, 4\n",
      "eEnable = 0x1, 1\n",
      "bUnicastUnknownDrop = 0x0, 0\n",
      "bMulticastUnknownDrop = 0x0, 0\n",
      "bReservedPacketDrop = 0x0, 0\n",
      "bBroadcastDrop = 0x0, 0\n",
      "bAging = 0x0, 0\n",
      "bLearning = 0x0, 0\n",
      "bLearningMAC_PortLock = 0x1, 1\n",
      "nLearningLimit = 0xff, 255\n",
      "bMAC_SpoofingDetection = 0x0, 0\n",
      "eFlowCtrl = 0x0, 0\n",
      "ePortMonitor = 0x0, 0\n",
      "\n"
     ]
    }
   ],
   "source": [
    "for p in range(5):\n",
    "    sw.pyGSW_PortCfgGet(p)\n",
    "    print (\"\")"
   ]
  },
  {
   "cell_type": "markdown",
   "metadata": {},
   "source": [
    "### Storm Control\n",
    "#### The used APIs for storm control\n",
    "\n",
    "sw.pyGSW_QoS_MeterCfgSet(en, mid, cbs, ebs, rate)\n",
    "\n",
    "pyGSW_QoS_MeterPortAssign(mid, dir, piid, peid)  - dir:0 None, 1 Ingress, 2 Egress, 3 Both. \n",
    "\n",
    "pyGSW_QoS_StormCfgSet(mid, bc, mc, uc)\n",
    "\n",
    "pyGSW_QoS_WredCfgSet(pf, tm, redmin, redmax, yellowmin, yellowmax, greenmin, greenmax)"
   ]
  },
  {
   "cell_type": "code",
   "execution_count": 17,
   "metadata": {},
   "outputs": [],
   "source": [
    "#50Mbps\n",
    "#sw.pyGSW_QoS_MeterCfgSet(1, 0, 500, 0, 50*1024)#port 0 ingress\n",
    "#sw.pyGSW_QoS_MeterPortAssign(0, 1, 0, 0)"
   ]
  },
  {
   "cell_type": "code",
   "execution_count": 18,
   "metadata": {},
   "outputs": [],
   "source": [
    "#sw.pyGSW_QoS_MeterCfgSet(1, 1, 500, 0, 50*1024)\n",
    "#port 3 ingress\n",
    "#sw.pyGSW_QoS_MeterPortAssign(0, 1, 3, 0)"
   ]
  },
  {
   "cell_type": "code",
   "execution_count": 8,
   "metadata": {},
   "outputs": [
    {
     "data": {
      "text/plain": [
       "0"
      ]
     },
     "execution_count": 8,
     "metadata": {},
     "output_type": "execute_result"
    }
   ],
   "source": [
    "#50Mbps\n",
    "sw.pyGSW_QoS_MeterCfgSet(1, 0, 4000, 0, 5*1024)\n",
    "sw.pyGSW_QoS_StormCfgSet(0, 1, 1, 1)\n",
    "sw.pyGSW_QoS_WredCfgSet(0, 0, 0, 0, 0, 0, 0xffff, 0xffff)"
   ]
  },
  {
   "cell_type": "code",
   "execution_count": null,
   "metadata": {},
   "outputs": [],
   "source": []
  },
  {
   "cell_type": "code",
   "execution_count": null,
   "metadata": {},
   "outputs": [],
   "source": []
  },
  {
   "cell_type": "markdown",
   "metadata": {},
   "source": [
    "#### 2 * EASY GPY211 back to back throughput test\n",
    "Use 3 ports (port 0, 2, 3) of GWT140 as trunk to connect 2 * EASY GPY211. Configure:\n",
    "\n",
    "**Board #0:** \n",
    "\n",
    "MAC_TableEntryAdd 0 0 1000000 0 1 0 00:22:A2:00:00:01\n",
    "\n",
    "MAC_TableEntryAdd 0 2 1000000 0 1 0 00:22:A2:00:00:03\n",
    "\n",
    "MAC_TableEntryAdd 0 3 1000000 0 1 0 00:22:A2:00:00:05\n",
    "\n",
    "MAC_TableEntryAdd 0 4 1000000 0 1 0 00:22:A2:00:00:00\n",
    "\n",
    "MAC_TableEntryAdd 0 4 1000000 0 1 0 00:22:A2:00:00:02\n",
    "\n",
    "MAC_TableEntryAdd 0 4 1000000 0 1 0 00:22:A2:00:00:04\n",
    "\n",
    "Traffic input from Port 4, the 2.5G PHY, des MAC are 00:22:A2:00:00:01/03/05\n",
    "\n",
    "**Board #1:** \n",
    "\n",
    "MAC_TableEntryAdd 0 0 1000000 0 1 0 00:22:A2:00:00:00\n",
    "\n",
    "MAC_TableEntryAdd 0 2 1000000 0 1 0 00:22:A2:00:00:02\n",
    "\n",
    "MAC_TableEntryAdd 0 3 1000000 0 1 0 00:22:A2:00:00:04\n",
    "\n",
    "MAC_TableEntryAdd 0 4 1000000 0 1 0 00:22:A2:00:00:01\n",
    "\n",
    "MAC_TableEntryAdd 0 4 1000000 0 1 0 00:22:A2:00:00:03\n",
    "\n",
    "MAC_TableEntryAdd 0 4 1000000 0 1 0 00:22:A2:00:00:05\n",
    "\n",
    "Traffic input from Port 4, the 2.5G PHY, des MAC are 00:22:A2:00:00:00/02/04\n",
    "\n",
    "pyGSW_MAC_TableEntryAdd(nFId, nPortId, nAgeTimer, nSVLAN_Id, bStaticEntry, nTrafficClass, nMAC_0, nMAC_1, nMAC_2, nMAC_3, nMAC_4, nMAC_5):\n"
   ]
  },
  {
   "cell_type": "code",
   "execution_count": 33,
   "metadata": {},
   "outputs": [],
   "source": [
    "#Board #0\n",
    "for a in range(4):\n",
    "    sw.pyGSW_MAC_TableEntryAdd(0, 0, 1000000, 0, 1, 0, 0x0, 0x22, 0xa2, 0x00, 0x00, 0x01+a*8)\n",
    "    sw.pyGSW_MAC_TableEntryAdd(0, 1, 1000000, 0, 1, 0, 0x0, 0x22, 0xa2, 0x00, 0x00, 0x03+a*8)\n",
    "    sw.pyGSW_MAC_TableEntryAdd(0, 2, 1000000, 0, 1, 0, 0x0, 0x22, 0xa2, 0x00, 0x00, 0x05+a*8)\n",
    "    sw.pyGSW_MAC_TableEntryAdd(0, 3, 1000000, 0, 1, 0, 0x0, 0x22, 0xa2, 0x00, 0x00, 0x07+a*8)\n",
    "    sw.pyGSW_MAC_TableEntryAdd(0, 4, 1000000, 0, 1, 0, 0x0, 0x22, 0xa2, 0x00, 0x00, 0x00+a*8)\n",
    "    sw.pyGSW_MAC_TableEntryAdd(0, 4, 1000000, 0, 1, 0, 0x0, 0x22, 0xa2, 0x00, 0x00, 0x02+a*8)\n",
    "    sw.pyGSW_MAC_TableEntryAdd(0, 4, 1000000, 0, 1, 0, 0x0, 0x22, 0xa2, 0x00, 0x00, 0x04+a*8)\n",
    "    sw.pyGSW_MAC_TableEntryAdd(0, 4, 1000000, 0, 1, 0, 0x0, 0x22, 0xa2, 0x00, 0x00, 0x06+a*8)"
   ]
  },
  {
   "cell_type": "code",
   "execution_count": 6,
   "metadata": {},
   "outputs": [],
   "source": [
    "#Board #1\n",
    "for a in range(1):\n",
    "    sw.pyGSW_MAC_TableEntryAdd(0, 0, 1000000, 0, 1, 0, 0x0, 0x22, 0xa2, 0x00, 0x00, 0x00+a*8)\n",
    "    sw.pyGSW_MAC_TableEntryAdd(0, 1, 1000000, 0, 1, 0, 0x0, 0x22, 0xa2, 0x00, 0x00, 0x02+a*8)\n",
    "    sw.pyGSW_MAC_TableEntryAdd(0, 2, 1000000, 0, 1, 0, 0x0, 0x22, 0xa2, 0x00, 0x00, 0x04+a*8)\n",
    "    sw.pyGSW_MAC_TableEntryAdd(0, 3, 1000000, 0, 1, 0, 0x0, 0x22, 0xa2, 0x00, 0x00, 0x06+a*8)\n",
    "    sw.pyGSW_MAC_TableEntryAdd(0, 4, 1000000, 0, 1, 0, 0x0, 0x22, 0xa2, 0x00, 0x00, 0x01+a*8)\n",
    "    sw.pyGSW_MAC_TableEntryAdd(0, 4, 1000000, 0, 1, 0, 0x0, 0x22, 0xa2, 0x00, 0x00, 0x03+a*8)\n",
    "    sw.pyGSW_MAC_TableEntryAdd(0, 4, 1000000, 0, 1, 0, 0x0, 0x22, 0xa2, 0x00, 0x00, 0x05+a*8)\n",
    "    sw.pyGSW_MAC_TableEntryAdd(0, 4, 1000000, 0, 1, 0, 0x0, 0x22, 0xa2, 0x00, 0x00, 0x07+a*8)"
   ]
  },
  {
   "cell_type": "markdown",
   "metadata": {},
   "source": [
    "#### MAC Table read\n",
    "| Device            | MAC addr          |\n",
    "| ----------------- |:-----------------:|\n",
    "| HP_Z2 I915        | 84:a9:3e:71:dd:95 |\n",
    "| Tektronix MDO3054 | 08:00:11:21:f9:61 |\n",
    "| DELL_YJCH_Home    | 14:fe:b5:b4:37:9f |\n",
    "| 550XT2.p0         | b4:96:91:60:40:f0 |\n",
    "| 550XT2.p1         | b4:96:91:60:40:f1 |\n",
    "| Thinkpad 1G       | 98:fa:9b:a9:e6:b2 |\n"
   ]
  },
  {
   "cell_type": "code",
   "execution_count": 2,
   "metadata": {
    "scrolled": false
   },
   "outputs": [
    {
     "ename": "TypeError",
     "evalue": "in method 'pyGSW_MAC_TableEntryRead', argument 1 of type 'ltq_bool_t'",
     "output_type": "error",
     "traceback": [
      "\u001b[0;31m---------------------------------------------------------------------------\u001b[0m",
      "\u001b[0;31mTypeError\u001b[0m                                 Traceback (most recent call last)",
      "\u001b[0;32m<ipython-input-2-e9d493caea70>\u001b[0m in \u001b[0;36m<module>\u001b[0;34m\u001b[0m\n\u001b[0;32m----> 1\u001b[0;31m \u001b[0mret\u001b[0m \u001b[0;34m=\u001b[0m \u001b[0msw\u001b[0m\u001b[0;34m.\u001b[0m\u001b[0mpyGSW_MAC_TableEntryRead\u001b[0m\u001b[0;34m(\u001b[0m\u001b[0;36m1\u001b[0m\u001b[0;34m)\u001b[0m\u001b[0;34m\u001b[0m\u001b[0;34m\u001b[0m\u001b[0m\n\u001b[0m\u001b[1;32m      2\u001b[0m \u001b[0;32mfor\u001b[0m \u001b[0ma\u001b[0m \u001b[0;32min\u001b[0m \u001b[0mrange\u001b[0m\u001b[0;34m(\u001b[0m\u001b[0;36m100\u001b[0m\u001b[0;34m)\u001b[0m\u001b[0;34m:\u001b[0m\u001b[0;34m\u001b[0m\u001b[0;34m\u001b[0m\u001b[0m\n\u001b[1;32m      3\u001b[0m     \u001b[0;32mif\u001b[0m \u001b[0mret\u001b[0m \u001b[0;34m==\u001b[0m \u001b[0;36m1\u001b[0m\u001b[0;34m:\u001b[0m\u001b[0;34m\u001b[0m\u001b[0;34m\u001b[0m\u001b[0m\n\u001b[1;32m      4\u001b[0m         \u001b[0;32mbreak\u001b[0m\u001b[0;34m\u001b[0m\u001b[0;34m\u001b[0m\u001b[0m\n\u001b[1;32m      5\u001b[0m     \u001b[0mret\u001b[0m \u001b[0;34m=\u001b[0m \u001b[0msw\u001b[0m\u001b[0;34m.\u001b[0m\u001b[0mpyGSW_MAC_TableEntryRead\u001b[0m\u001b[0;34m(\u001b[0m\u001b[0;36m0\u001b[0m\u001b[0;34m)\u001b[0m\u001b[0;34m\u001b[0m\u001b[0;34m\u001b[0m\u001b[0m\n",
      "\u001b[0;32m/home/pi/Downloads/Standalone_Switch_API/PyGSWCliAC/Switch.py\u001b[0m in \u001b[0;36mpyGSW_MAC_TableEntryRead\u001b[0;34m(bInitial)\u001b[0m\n\u001b[1;32m     90\u001b[0m \u001b[0;34m\u001b[0m\u001b[0m\n\u001b[1;32m     91\u001b[0m \u001b[0;32mdef\u001b[0m \u001b[0mpyGSW_MAC_TableEntryRead\u001b[0m\u001b[0;34m(\u001b[0m\u001b[0mbInitial\u001b[0m\u001b[0;34m)\u001b[0m\u001b[0;34m:\u001b[0m\u001b[0;34m\u001b[0m\u001b[0;34m\u001b[0m\u001b[0m\n\u001b[0;32m---> 92\u001b[0;31m     \u001b[0mret\u001b[0m \u001b[0;34m=\u001b[0m \u001b[0msw\u001b[0m\u001b[0;34m.\u001b[0m\u001b[0mpyGSW_MAC_TableEntryRead\u001b[0m\u001b[0;34m(\u001b[0m\u001b[0mbInitial\u001b[0m\u001b[0;34m)\u001b[0m\u001b[0;34m\u001b[0m\u001b[0;34m\u001b[0m\u001b[0m\n\u001b[0m\u001b[1;32m     93\u001b[0m \u001b[0;34m\u001b[0m\u001b[0m\n\u001b[1;32m     94\u001b[0m     \u001b[0mf\u001b[0m \u001b[0;34m=\u001b[0m \u001b[0mopen\u001b[0m\u001b[0;34m(\u001b[0m\u001b[0mfn\u001b[0m\u001b[0;34m,\u001b[0m \u001b[0;34m\"r\"\u001b[0m\u001b[0;34m)\u001b[0m\u001b[0;34m\u001b[0m\u001b[0;34m\u001b[0m\u001b[0m\n",
      "\u001b[0;31mTypeError\u001b[0m: in method 'pyGSW_MAC_TableEntryRead', argument 1 of type 'ltq_bool_t'"
     ]
    }
   ],
   "source": [
    "ret = sw.pyGSW_MAC_TableEntryRead(1)\n",
    "for a in range(100):\n",
    "    if ret == 1:\n",
    "        break\n",
    "    ret = sw.pyGSW_MAC_TableEntryRead(0)"
   ]
  },
  {
   "cell_type": "code",
   "execution_count": 19,
   "metadata": {},
   "outputs": [
    {
     "data": {
      "text/plain": [
       "100"
      ]
     },
     "execution_count": 19,
     "metadata": {},
     "output_type": "execute_result"
    }
   ],
   "source": [
    "sw.pyGSW_PortCfgSet(5, 1, 0,0,0,0, 0,0,1, 0xff, 0, 0, 0)\n"
   ]
  },
  {
   "cell_type": "markdown",
   "metadata": {},
   "source": [
    "#### Play around"
   ]
  },
  {
   "cell_type": "code",
   "execution_count": 17,
   "metadata": {},
   "outputs": [
    {
     "name": "stdout",
     "output_type": "stream",
     "text": [
      "0x0\n",
      "0xa409\n"
     ]
    }
   ],
   "source": [
    "print (hex(sw.mdior(0, 0x15)))\n",
    "print (hex(sw.mdior(0, 3)))"
   ]
  },
  {
   "cell_type": "code",
   "execution_count": 34,
   "metadata": {},
   "outputs": [
    {
     "name": "stdout",
     "output_type": "stream",
     "text": [
      "[PySwitch pce_rule p.nIndex = 0, p.bEnable = 0 -- read]\r\n",
      "------------------------------------------------------------------------\r\n",
      "PCE rule index 0, enabled = 0\r\n",
      "pattern:bPortIdEnable = 0, nPortId = 0\r\n",
      "        bDSCP_Enable = 0, nDSCP = 0\r\n",
      "        bPCP_Enable = 0, nPCP = 0\r\n",
      "        bSTAG_PCP_DEI_Enable = 0, nSTAG_PCP_DEI = 0\r\n",
      "        bPktLngEnable = 0, nPktLng = 0, nPktLngRange = 0\r\n",
      "        bMAC_DstEnable = 0, nMAC_Dst = 00:00:00:00:00:00, nMAC_DstMask = 0x0\r\n",
      "        bMAC_SrcEnable = 0, nMAC_Src = 00:00:00:00:00:00, nMAC_SrcMask = 0x0\r\n",
      "        bAppDataMSB_Enable = 0, nAppDataMSB = 0, bAppMaskRangeMSB_Select = 0, nAppMaskRangeMSB = 0\r\n",
      "        bAppDataLSB_Enable = 0, nAppDataLSB = 0, bAppMaskRangeLSB_Select = 0, nAppMaskRangeLSB = 0\r\n",
      "        eDstIP_Select = 0, nDstIP = 00000000, nDstIP_Mask = 0x0\r\n",
      "        eSrcIP_Select = 0, nSrcIP = 00000000, nSrcIP_Mask = 0x0\r\n",
      "Action:\r\n",
      "eTrafficClassAction = 0, nTrafficClassAlternate = 0\r\n",
      "eSnoopingTypeAction = 0\r\n",
      "eLearningAction = 0\r\n",
      "eIrqAction = 0\r\n",
      "eCrossStateAction = 0\r\n",
      "eCritFrameAction = 0\r\n",
      "eTimestampAction = 0\r\n",
      "ePortMapAction = 0, nForwardPortMap = 0x0\r\n",
      "bRemarkAction = 0, bRemarkPCP = 0, bRemarkSTAG_PCP = 0, bRemarkSTAG_DEI = 0, bRemarkDSCP = 0, bRemarkClass = 0\r\n",
      "eMeterAction = 0, nMeterId = 0\r\n",
      "bRMON_Action = 0, nRMON_Id = 0\r\n",
      "eVLAN_Action = 0, nVLAN_Id = 0, nFId = 0\r\n",
      "eSVLAN_Action = 0, nSVLAN_Id = 0\r\n",
      "eVLAN_CrossAction = 0, bCVLAN_Ignore_Control = 0, bPortBitMapMuxControl = 0\r\n",
      "bPortTrunkAction = 0, bPortLinkSelection = 0\r\n",
      "bFlowID_Action = 0, nFlowID = 0\r\n",
      "------------------------------------------------------------------------\r\n",
      "\n"
     ]
    }
   ],
   "source": [
    "sw.pyGSW_PceRuleReadf(0, 0)"
   ]
  },
  {
   "cell_type": "code",
   "execution_count": 8,
   "metadata": {},
   "outputs": [
    {
     "name": "stdout",
     "output_type": "stream",
     "text": [
      "0x0\n"
     ]
    }
   ],
   "source": [
    "print (hex(sw.mdior(0, 9)))"
   ]
  },
  {
   "cell_type": "code",
   "execution_count": 7,
   "metadata": {},
   "outputs": [
    {
     "data": {
      "text/plain": [
       "0"
      ]
     },
     "execution_count": 7,
     "metadata": {},
     "output_type": "execute_result"
    }
   ],
   "source": [
    "sw.mdiow(0,9,0)"
   ]
  },
  {
   "cell_type": "code",
   "execution_count": 1,
   "metadata": {},
   "outputs": [
    {
     "name": "stdout",
     "output_type": "stream",
     "text": [
      "module ser02.py: list_ports(), open_port(\"COMx\"), r(addr), w(addr, value), close_ports()\n",
      "device: /dev/ttyS0\n",
      "name: ttyS0\n",
      "description: n/a\n",
      "device_path: /sys/devices/platform/soc/fe215040.serial\n",
      "hwid: n/a\n",
      "subsystem: platform\n",
      "\n",
      "device: /dev/ttyUSB3\n",
      "name: ttyUSB3\n",
      "description: Quad RS232-HS\n",
      "device_path: /sys/devices/platform/scb/fd500000.pcie/pci0000:00/0000:00:00.0/0000:01:00.0/usb1/1-1/1-1.3/1-1.3:1.3/ttyUSB3\n",
      "hwid: USB VID:PID=0403:6011 LOCATION=1-1.3:1.3\n",
      "subsystem: usb-serial\n",
      "\n",
      "device: /dev/ttyUSB2\n",
      "name: ttyUSB2\n",
      "description: Quad RS232-HS\n",
      "device_path: /sys/devices/platform/scb/fd500000.pcie/pci0000:00/0000:00:00.0/0000:01:00.0/usb1/1-1/1-1.3/1-1.3:1.2/ttyUSB2\n",
      "hwid: USB VID:PID=0403:6011 LOCATION=1-1.3:1.2\n",
      "subsystem: usb-serial\n",
      "\n",
      "device: /dev/ttyUSB1\n",
      "name: ttyUSB1\n",
      "description: Quad RS232-HS\n",
      "device_path: /sys/devices/platform/scb/fd500000.pcie/pci0000:00/0000:00:00.0/0000:01:00.0/usb1/1-1/1-1.3/1-1.3:1.1/ttyUSB1\n",
      "hwid: USB VID:PID=0403:6011 LOCATION=1-1.3:1.1\n",
      "subsystem: usb-serial\n",
      "\n",
      "device: /dev/ttyUSB0\n",
      "name: ttyUSB0\n",
      "description: Quad RS232-HS\n",
      "device_path: /sys/devices/platform/scb/fd500000.pcie/pci0000:00/0000:00:00.0/0000:01:00.0/usb1/1-1/1-1.3/1-1.3:1.0/ttyUSB0\n",
      "hwid: USB VID:PID=0403:6011 LOCATION=1-1.3:1.0\n",
      "subsystem: usb-serial\n",
      "\n",
      "device: /dev/ttyAMA1\n",
      "name: ttyAMA1\n",
      "description: ttyAMA1\n",
      "device_path: /sys/devices/platform/soc/fe201600.serial\n",
      "hwid: fe201600.serial\n",
      "subsystem: amba\n",
      "\n",
      "device: /dev/ttyAMA0\n",
      "name: ttyAMA0\n",
      "description: ttyAMA0\n",
      "device_path: /sys/devices/platform/soc/fe201000.serial\n",
      "hwid: fe201000.serial\n",
      "subsystem: amba\n",
      "\n",
      "/dev/ttyS0 - n/a\n",
      "/dev/ttyUSB3 - Quad RS232-HS\n",
      "/dev/ttyUSB2 - Quad RS232-HS\n",
      "/dev/ttyUSB1 - Quad RS232-HS\n",
      "/dev/ttyUSB0 - Quad RS232-HS\n",
      "/dev/ttyAMA1 - ttyAMA1\n",
      "/dev/ttyAMA0 - ttyAMA0\n",
      "will open port:  /dev/ttyUSB1 115200 5\n",
      "press any key to continue.../dev/ttyUSB1\n",
      "Open serial port at: /dev/ttyUSB1\n"
     ]
    }
   ],
   "source": [
    "import ser02 as s\n",
    "s.list_ports()\n",
    "s.open_port(\"/dev/ttyUSB1\")"
   ]
  },
  {
   "cell_type": "code",
   "execution_count": 1,
   "metadata": {},
   "outputs": [
    {
     "name": "stdout",
     "output_type": "stream",
     "text": [
      "module ser02.py: list_ports(), open_port(\"COMx\"), r(addr), w(addr, value), close_ports()\n",
      "device: /dev/ttyS0\n",
      "name: ttyS0\n",
      "description: n/a\n",
      "device_path: /sys/devices/platform/soc/fe215040.serial\n",
      "hwid: n/a\n",
      "subsystem: platform\n",
      "\n",
      "device: /dev/ttyUSB3\n",
      "name: ttyUSB3\n",
      "description: Quad RS232-HS\n",
      "device_path: /sys/devices/platform/scb/fd500000.pcie/pci0000:00/0000:00:00.0/0000:01:00.0/usb1/1-1/1-1.3/1-1.3:1.3/ttyUSB3\n",
      "hwid: USB VID:PID=0403:6011 LOCATION=1-1.3:1.3\n",
      "subsystem: usb-serial\n",
      "\n",
      "device: /dev/ttyUSB2\n",
      "name: ttyUSB2\n",
      "description: Quad RS232-HS\n",
      "device_path: /sys/devices/platform/scb/fd500000.pcie/pci0000:00/0000:00:00.0/0000:01:00.0/usb1/1-1/1-1.3/1-1.3:1.2/ttyUSB2\n",
      "hwid: USB VID:PID=0403:6011 LOCATION=1-1.3:1.2\n",
      "subsystem: usb-serial\n",
      "\n",
      "device: /dev/ttyUSB1\n",
      "name: ttyUSB1\n",
      "description: Quad RS232-HS\n",
      "device_path: /sys/devices/platform/scb/fd500000.pcie/pci0000:00/0000:00:00.0/0000:01:00.0/usb1/1-1/1-1.3/1-1.3:1.1/ttyUSB1\n",
      "hwid: USB VID:PID=0403:6011 LOCATION=1-1.3:1.1\n",
      "subsystem: usb-serial\n",
      "\n",
      "device: /dev/ttyUSB0\n",
      "name: ttyUSB0\n",
      "description: Quad RS232-HS\n",
      "device_path: /sys/devices/platform/scb/fd500000.pcie/pci0000:00/0000:00:00.0/0000:01:00.0/usb1/1-1/1-1.3/1-1.3:1.0/ttyUSB0\n",
      "hwid: USB VID:PID=0403:6011 LOCATION=1-1.3:1.0\n",
      "subsystem: usb-serial\n",
      "\n",
      "device: /dev/ttyAMA1\n",
      "name: ttyAMA1\n",
      "description: ttyAMA1\n",
      "device_path: /sys/devices/platform/soc/fe201600.serial\n",
      "hwid: fe201600.serial\n",
      "subsystem: amba\n",
      "\n",
      "device: /dev/ttyAMA0\n",
      "name: ttyAMA0\n",
      "description: ttyAMA0\n",
      "device_path: /sys/devices/platform/soc/fe201000.serial\n",
      "hwid: fe201000.serial\n",
      "subsystem: amba\n",
      "\n",
      "/dev/ttyS0 - n/a\n",
      "/dev/ttyUSB3 - Quad RS232-HS\n",
      "/dev/ttyUSB2 - Quad RS232-HS\n",
      "/dev/ttyUSB1 - Quad RS232-HS\n",
      "/dev/ttyUSB0 - Quad RS232-HS\n",
      "/dev/ttyAMA1 - ttyAMA1\n",
      "/dev/ttyAMA0 - ttyAMA0\n",
      "Please input the port name (e.g. COMx): /dev/ttyUSB1\n",
      "/dev/ttyUSB1\n",
      "Open serial port at: /dev/ttyUSB1\n",
      "\n",
      ">\n",
      "\n",
      ">\n",
      "\n",
      ">\n"
     ]
    }
   ],
   "source": [
    "import ser02 as s\n",
    "s.list_ports()\n",
    "pn = input(\"Please input the port name (e.g. COMx): \")\n",
    "print (pn)\n",
    "s.open_port(\"/dev/ttyUSB1\")\n"
   ]
  },
  {
   "cell_type": "code",
   "execution_count": 2,
   "metadata": {},
   "outputs": [
    {
     "name": "stdout",
     "output_type": "stream",
     "text": [
      "r fa10\n",
      "1713\n",
      ">\n",
      "0x1713 <class 'int'>\n",
      "press any key to continue 16\n",
      "0x1713\n"
     ]
    }
   ],
   "source": [
    "print (\"0x%04x\"%s.r(0xfa10))"
   ]
  },
  {
   "cell_type": "code",
   "execution_count": 10,
   "metadata": {},
   "outputs": [
    {
     "data": {
      "text/plain": [
       "1"
      ]
     },
     "execution_count": 10,
     "metadata": {},
     "output_type": "execute_result"
    }
   ],
   "source": [
    "s.ser.write(b'\\x1B')"
   ]
  },
  {
   "cell_type": "code",
   "execution_count": 11,
   "metadata": {},
   "outputs": [
    {
     "name": "stdout",
     "output_type": "stream",
     "text": [
      "\r\n",
      ">\n"
     ]
    },
    {
     "ename": "KeyboardInterrupt",
     "evalue": "",
     "output_type": "error",
     "traceback": [
      "\u001b[0;31m---------------------------------------------------------------------------\u001b[0m",
      "\u001b[0;31mKeyboardInterrupt\u001b[0m                         Traceback (most recent call last)",
      "\u001b[0;32m<ipython-input-11-c061342d401d>\u001b[0m in \u001b[0;36m<module>\u001b[0;34m\u001b[0m\n\u001b[0;32m----> 1\u001b[0;31m \u001b[0ms\u001b[0m\u001b[0;34m.\u001b[0m\u001b[0mrev_anything\u001b[0m\u001b[0;34m(\u001b[0m\u001b[0;34m\"\"\u001b[0m\u001b[0;34m)\u001b[0m\u001b[0;34m\u001b[0m\u001b[0;34m\u001b[0m\u001b[0m\n\u001b[0m",
      "\u001b[0;32m/home/pi/Downloads/Standalone_Switch_API/PySwithCli/ser02.py\u001b[0m in \u001b[0;36mrev_anything\u001b[0;34m(r)\u001b[0m\n\u001b[1;32m     70\u001b[0m         \u001b[0mi\u001b[0m \u001b[0;34m=\u001b[0m \u001b[0;36m1000\u001b[0m\u001b[0;34m\u001b[0m\u001b[0;34m\u001b[0m\u001b[0m\n\u001b[1;32m     71\u001b[0m         \u001b[0;32mwhile\u001b[0m \u001b[0mi\u001b[0m \u001b[0;34m>\u001b[0m \u001b[0;36m0\u001b[0m\u001b[0;34m:\u001b[0m\u001b[0;34m\u001b[0m\u001b[0;34m\u001b[0m\u001b[0m\n\u001b[0;32m---> 72\u001b[0;31m                 \u001b[0;32mif\u001b[0m \u001b[0mser\u001b[0m\u001b[0;34m.\u001b[0m\u001b[0min_waiting\u001b[0m\u001b[0;34m:\u001b[0m\u001b[0;34m\u001b[0m\u001b[0;34m\u001b[0m\u001b[0m\n\u001b[0m\u001b[1;32m     73\u001b[0m                         \u001b[0mstr\u001b[0m\u001b[0;34m=\u001b[0m\u001b[0mser\u001b[0m\u001b[0;34m.\u001b[0m\u001b[0mread\u001b[0m\u001b[0;34m(\u001b[0m\u001b[0mser\u001b[0m\u001b[0;34m.\u001b[0m\u001b[0min_waiting\u001b[0m \u001b[0;34m)\u001b[0m\u001b[0;34m.\u001b[0m\u001b[0mdecode\u001b[0m\u001b[0;34m(\u001b[0m\u001b[0;34m\"windows-1252\"\u001b[0m\u001b[0;34m)\u001b[0m\u001b[0;34m\u001b[0m\u001b[0;34m\u001b[0m\u001b[0m\n\u001b[1;32m     74\u001b[0m                         \u001b[0;31m#print(\"rev:\",str)\u001b[0m\u001b[0;34m\u001b[0m\u001b[0;34m\u001b[0m\u001b[0;34m\u001b[0m\u001b[0m\n",
      "\u001b[0;32m/usr/lib/python3/dist-packages/serial/serialposix.py\u001b[0m in \u001b[0;36min_waiting\u001b[0;34m(self)\u001b[0m\n\u001b[1;32m    465\u001b[0m         \u001b[0;34m\"\"\"Return the number of bytes currently in the input buffer.\"\"\"\u001b[0m\u001b[0;34m\u001b[0m\u001b[0;34m\u001b[0m\u001b[0m\n\u001b[1;32m    466\u001b[0m         \u001b[0;31m#~ s = fcntl.ioctl(self.fd, termios.FIONREAD, TIOCM_zero_str)\u001b[0m\u001b[0;34m\u001b[0m\u001b[0;34m\u001b[0m\u001b[0;34m\u001b[0m\u001b[0m\n\u001b[0;32m--> 467\u001b[0;31m         \u001b[0ms\u001b[0m \u001b[0;34m=\u001b[0m \u001b[0mfcntl\u001b[0m\u001b[0;34m.\u001b[0m\u001b[0mioctl\u001b[0m\u001b[0;34m(\u001b[0m\u001b[0mself\u001b[0m\u001b[0;34m.\u001b[0m\u001b[0mfd\u001b[0m\u001b[0;34m,\u001b[0m \u001b[0mTIOCINQ\u001b[0m\u001b[0;34m,\u001b[0m \u001b[0mTIOCM_zero_str\u001b[0m\u001b[0;34m)\u001b[0m\u001b[0;34m\u001b[0m\u001b[0;34m\u001b[0m\u001b[0m\n\u001b[0m\u001b[1;32m    468\u001b[0m         \u001b[0;32mreturn\u001b[0m \u001b[0mstruct\u001b[0m\u001b[0;34m.\u001b[0m\u001b[0munpack\u001b[0m\u001b[0;34m(\u001b[0m\u001b[0;34m'I'\u001b[0m\u001b[0;34m,\u001b[0m \u001b[0ms\u001b[0m\u001b[0;34m)\u001b[0m\u001b[0;34m[\u001b[0m\u001b[0;36m0\u001b[0m\u001b[0;34m]\u001b[0m\u001b[0;34m\u001b[0m\u001b[0;34m\u001b[0m\u001b[0m\n\u001b[1;32m    469\u001b[0m \u001b[0;34m\u001b[0m\u001b[0m\n",
      "\u001b[0;31mKeyboardInterrupt\u001b[0m: "
     ]
    }
   ],
   "source": [
    "s.rev_anything(\"\")"
   ]
  },
  {
   "cell_type": "code",
   "execution_count": 8,
   "metadata": {},
   "outputs": [
    {
     "data": {
      "text/plain": [
       "'\\\\x80abc'"
      ]
     },
     "execution_count": 8,
     "metadata": {},
     "output_type": "execute_result"
    }
   ],
   "source": [
    "b'\\x80abc'.decode(\"utf-8\", \"backslashreplace\")"
   ]
  },
  {
   "cell_type": "code",
   "execution_count": 13,
   "metadata": {},
   "outputs": [
    {
     "data": {
      "text/plain": [
       "62"
      ]
     },
     "execution_count": 13,
     "metadata": {},
     "output_type": "execute_result"
    }
   ],
   "source": [
    "str.encode(\">\")[0]"
   ]
  },
  {
   "cell_type": "code",
   "execution_count": 1,
   "metadata": {},
   "outputs": [
    {
     "name": "stdout",
     "output_type": "stream",
     "text": [
      "Please input the port name (e.g. COMx): /dev/ttyUSB1\n",
      "/dev/ttyUSB1\n"
     ]
    }
   ],
   "source": [
    "pn = input(\"Please input the port name (e.g. COMx): \")\n",
    "print (pn)\n"
   ]
  },
  {
   "cell_type": "code",
   "execution_count": 2,
   "metadata": {},
   "outputs": [
    {
     "name": "stdout",
     "output_type": "stream",
     "text": [
      "device: /dev/ttyS0\n",
      "name: ttyS0\n",
      "description: n/a\n",
      "device_path: /sys/devices/platform/soc/fe215040.serial\n",
      "hwid: n/a\n",
      "subsystem: platform\n",
      "\n",
      "device: /dev/ttyUSB3\n",
      "name: ttyUSB3\n",
      "description: Quad RS232-HS\n",
      "device_path: /sys/devices/platform/scb/fd500000.pcie/pci0000:00/0000:00:00.0/0000:01:00.0/usb1/1-1/1-1.3/1-1.3:1.3/ttyUSB3\n",
      "hwid: USB VID:PID=0403:6011 LOCATION=1-1.3:1.3\n",
      "subsystem: usb-serial\n",
      "\n",
      "device: /dev/ttyUSB2\n",
      "name: ttyUSB2\n",
      "description: Quad RS232-HS\n",
      "device_path: /sys/devices/platform/scb/fd500000.pcie/pci0000:00/0000:00:00.0/0000:01:00.0/usb1/1-1/1-1.3/1-1.3:1.2/ttyUSB2\n",
      "hwid: USB VID:PID=0403:6011 LOCATION=1-1.3:1.2\n",
      "subsystem: usb-serial\n",
      "\n",
      "device: /dev/ttyUSB1\n",
      "name: ttyUSB1\n",
      "description: Quad RS232-HS\n",
      "device_path: /sys/devices/platform/scb/fd500000.pcie/pci0000:00/0000:00:00.0/0000:01:00.0/usb1/1-1/1-1.3/1-1.3:1.1/ttyUSB1\n",
      "hwid: USB VID:PID=0403:6011 LOCATION=1-1.3:1.1\n",
      "subsystem: usb-serial\n",
      "\n",
      "device: /dev/ttyUSB0\n",
      "name: ttyUSB0\n",
      "description: Quad RS232-HS\n",
      "device_path: /sys/devices/platform/scb/fd500000.pcie/pci0000:00/0000:00:00.0/0000:01:00.0/usb1/1-1/1-1.3/1-1.3:1.0/ttyUSB0\n",
      "hwid: USB VID:PID=0403:6011 LOCATION=1-1.3:1.0\n",
      "subsystem: usb-serial\n",
      "\n",
      "device: /dev/ttyAMA1\n",
      "name: ttyAMA1\n",
      "description: ttyAMA1\n",
      "device_path: /sys/devices/platform/soc/fe201600.serial\n",
      "hwid: fe201600.serial\n",
      "subsystem: amba\n",
      "\n",
      "device: /dev/ttyAMA0\n",
      "name: ttyAMA0\n",
      "description: ttyAMA0\n",
      "device_path: /sys/devices/platform/soc/fe201000.serial\n",
      "hwid: fe201000.serial\n",
      "subsystem: amba\n",
      "\n",
      "/dev/ttyS0 - n/a\n",
      "/dev/ttyUSB3 - Quad RS232-HS\n",
      "/dev/ttyUSB2 - Quad RS232-HS\n",
      "/dev/ttyUSB1 - Quad RS232-HS\n",
      "/dev/ttyUSB0 - Quad RS232-HS\n",
      "/dev/ttyAMA1 - ttyAMA1\n",
      "/dev/ttyAMA0 - ttyAMA0\n",
      "Please input the port name (e.g. COMx): /dev/ttyUSB1\n",
      "/dev/ttyUSB1\n",
      "will open port:  /dev/ttyUSB1 115200 5\n",
      "press any key to continue...\n",
      "Open serial port at: /dev/ttyUSB1\n"
     ]
    }
   ],
   "source": [
    "import test as t"
   ]
  },
  {
   "cell_type": "code",
   "execution_count": 2,
   "metadata": {},
   "outputs": [
    {
     "name": "stdout",
     "output_type": "stream",
     "text": [
      "<class 'int'>\n"
     ]
    }
   ],
   "source": [
    "b = 5\n",
    "print (type(b))\n"
   ]
  },
  {
   "cell_type": "code",
   "execution_count": null,
   "metadata": {},
   "outputs": [],
   "source": []
  }
 ],
 "metadata": {
  "kernelspec": {
   "display_name": "Python 3",
   "language": "python",
   "name": "python3"
  },
  "language_info": {
   "codemirror_mode": {
    "name": "ipython",
    "version": 3
   },
   "file_extension": ".py",
   "mimetype": "text/x-python",
   "name": "python",
   "nbconvert_exporter": "python",
   "pygments_lexer": "ipython3",
   "version": "3.7.3"
  }
 },
 "nbformat": 4,
 "nbformat_minor": 2
}
