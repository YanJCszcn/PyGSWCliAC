{
 "cells": [
  {
   "cell_type": "markdown",
   "metadata": {},
   "source": [
    "## Tooling - GSW standalone board"
   ]
  },
  {
   "cell_type": "code",
   "execution_count": null,
   "metadata": {},
   "outputs": [
    {
     "name": "stdout",
     "output_type": "stream",
     "text": [
      "module ser02.py: list_ports(), open_port(\"COMx\"), r(addr), w(addr, value), close_ports()\n",
      "COM3 - Intel(R) Active Management Technology - SOL (COM3)\n",
      "COM19 - USB Serial Port (COM19)\n",
      "Please input the port name (e.g. COMx): com19\n",
      "Open serial port at: com19\n"
     ]
    }
   ],
   "source": [
    "import Switch as sw"
   ]
  },
  {
   "cell_type": "code",
   "execution_count": 2,
   "metadata": {},
   "outputs": [
    {
     "name": "stdout",
     "output_type": "stream",
     "text": [
      "finished.\n"
     ]
    }
   ],
   "source": [
    "sw.pyGSW_HW_Init()\n",
    "print \"finished.\""
   ]
  },
  {
   "cell_type": "code",
   "execution_count": 5,
   "metadata": {},
   "outputs": [
    {
     "data": {
      "text/plain": [
       "100"
      ]
     },
     "execution_count": 5,
     "metadata": {},
     "output_type": "execute_result"
    }
   ],
   "source": [
    "sw.pyGSW_PortCfgSet(0, 1, 0,0,0,0, 0,0,1, 0xff, 0, 0, 0)\n",
    "sw.pyGSW_PortCfgSet(1, 1, 0,0,0,0, 0,0,1, 0xff, 0, 0, 0)\n",
    "sw.pyGSW_PortCfgSet(2, 1, 0,0,0,0, 0,0,1, 0xff, 0, 0, 0)\n",
    "sw.pyGSW_PortCfgSet(3, 1, 0,0,0,0, 0,0,1, 0xff, 0, 0, 0)\n",
    "sw.pyGSW_PortCfgSet(6, 1, 0,0,0,0, 0,0,1, 0xff, 0, 0, 0)\n"
   ]
  },
  {
   "cell_type": "code",
   "execution_count": 7,
   "metadata": {},
   "outputs": [
    {
     "data": {
      "text/plain": [
       "0"
      ]
     },
     "execution_count": 7,
     "metadata": {},
     "output_type": "execute_result"
    }
   ],
   "source": [
    "#50Mbps\n",
    "sw.pyGSW_QoS_MeterCfgSet(1, 0, 4000, 0, 1*1024)\n",
    "sw.pyGSW_QoS_StormCfgSet(0, 1, 1, 1)\n",
    "sw.pyGSW_QoS_WredCfgSet(0, 0, 0, 0, 0, 0, 0xffff, 0xffff)"
   ]
  },
  {
   "cell_type": "code",
   "execution_count": null,
   "metadata": {},
   "outputs": [],
   "source": []
  },
  {
   "cell_type": "code",
   "execution_count": null,
   "metadata": {},
   "outputs": [],
   "source": []
  },
  {
   "cell_type": "markdown",
   "metadata": {},
   "source": [
    "#### MAC Table read\n",
    "| Device            | MAC addr          |\n",
    "| ----------------- |:-----------------:|\n",
    "| HP_Z2 I915        | 84:a9:3e:71:dd:95 |\n",
    "| Tektronix MDO3054 | 08:00:11:21:f9:61 |\n",
    "| DELL_YJCH_Home    | 14:fe:b5:b4:37:9f |\n",
    "| 550XT2.p0         | b4:96:91:60:40:f0 |\n",
    "| 550XT2.p1         | b4:96:91:60:40:f1 |\n",
    "| Thinkpad 1G       | 98:fa:9b:a9:e6:b2 |\n"
   ]
  },
  {
   "cell_type": "code",
   "execution_count": 27,
   "metadata": {
    "scrolled": false
   },
   "outputs": [
    {
     "name": "stdout",
     "output_type": "stream",
     "text": [
      "FID = 0, Port = 0x00000006, age = 0000300, static = 0, 84:a9:3e:71:dd:95, svlan = 0\n",
      "\n",
      "FID = 0, Port = 0x00000000, age = 0000300, static = 0, 14:fe:b5:b4:37:9f, svlan = 0, Last\n",
      "\n"
     ]
    }
   ],
   "source": [
    "ret = sw.pyGSW_MAC_TableEntryRead(1)\n",
    "for a in range(100):\n",
    "    if ret == 1:\n",
    "        break\n",
    "    ret = sw.pyGSW_MAC_TableEntryRead(0)"
   ]
  },
  {
   "cell_type": "code",
   "execution_count": 30,
   "metadata": {},
   "outputs": [
    {
     "name": "stdout",
     "output_type": "stream",
     "text": [
      "0x7\n",
      "0x17\n",
      "0x7\n"
     ]
    }
   ],
   "source": [
    "print (hex(sw.r(0x480)))\n",
    "print (hex(sw.r(0x494)))\n",
    "print (hex(sw.r(0x4bc)))"
   ]
  },
  {
   "cell_type": "code",
   "execution_count": 29,
   "metadata": {},
   "outputs": [
    {
     "data": {
      "text/plain": [
       "0"
      ]
     },
     "execution_count": 29,
     "metadata": {},
     "output_type": "execute_result"
    }
   ],
   "source": [
    "sw.w(0x480, 0x07)  #port 0\n",
    "sw.w(0x494, 0x17)  #port 2\n",
    "sw.w(0x4bc, 0x07)  #port 6"
   ]
  },
  {
   "cell_type": "code",
   "execution_count": 15,
   "metadata": {},
   "outputs": [
    {
     "data": {
      "text/plain": [
       "100"
      ]
     },
     "execution_count": 15,
     "metadata": {},
     "output_type": "execute_result"
    }
   ],
   "source": [
    "sw.pyGSW_CPU_PortCfgSet(4, 1, 0, 0, 0, 0, 0)"
   ]
  },
  {
   "cell_type": "code",
   "execution_count": 16,
   "metadata": {},
   "outputs": [
    {
     "data": {
      "text/plain": [
       "0"
      ]
     },
     "execution_count": 16,
     "metadata": {},
     "output_type": "execute_result"
    }
   ],
   "source": [
    "sw.pyGSW_PortRedirectSet(0, 0, 1)\n",
    "sw.pyGSW_PortRedirectSet(1, 0, 1)\n",
    "sw.pyGSW_PortRedirectSet(2, 0, 1)\n",
    "sw.pyGSW_PortRedirectSet(3, 0, 1)"
   ]
  },
  {
   "cell_type": "code",
   "execution_count": null,
   "metadata": {},
   "outputs": [],
   "source": []
  }
 ],
 "metadata": {
  "kernelspec": {
   "display_name": "Python 2",
   "language": "python",
   "name": "python2"
  },
  "language_info": {
   "codemirror_mode": {
    "name": "ipython",
    "version": 2
   },
   "file_extension": ".py",
   "mimetype": "text/x-python",
   "name": "python",
   "nbconvert_exporter": "python",
   "pygments_lexer": "ipython2",
   "version": "2.7.17"
  }
 },
 "nbformat": 4,
 "nbformat_minor": 2
}
